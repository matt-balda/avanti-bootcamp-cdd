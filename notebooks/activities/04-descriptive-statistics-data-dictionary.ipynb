{
 "cells": [
  {
   "cell_type": "markdown",
   "source": [
    "- Atividade 04: Dicionário de dados\n",
    "\n",
    "   - **Dataset:** exercise\n",
    "   - 1)Coleta dos dados, 2)criação do dicionário de dados"
   ],
   "metadata": {
    "collapsed": false
   },
   "id": "c3617f82fce34199"
  },
  {
   "cell_type": "code",
   "outputs": [],
   "source": [
    "import seaborn as sns\n",
    "import pandas as pd\n",
    "import numpy as np"
   ],
   "metadata": {
    "collapsed": true,
    "ExecuteTime": {
     "end_time": "2024-04-22T18:26:55.916120338Z",
     "start_time": "2024-04-22T18:26:55.869116480Z"
    }
   },
   "id": "initial_id",
   "execution_count": 133
  },
  {
   "cell_type": "code",
   "outputs": [],
   "source": [
    "exercises = sns.load_dataset(\"exercise\")"
   ],
   "metadata": {
    "collapsed": false,
    "ExecuteTime": {
     "end_time": "2024-04-22T18:26:56.153696378Z",
     "start_time": "2024-04-22T18:26:56.132075634Z"
    }
   },
   "id": "3fdea61f6c0e9652",
   "execution_count": 134
  },
  {
   "cell_type": "code",
   "outputs": [
    {
     "data": {
      "text/plain": "(90, 6)"
     },
     "execution_count": 135,
     "metadata": {},
     "output_type": "execute_result"
    }
   ],
   "source": [
    "# verificando dimensão do dataset\n",
    "exercises.shape"
   ],
   "metadata": {
    "collapsed": false,
    "ExecuteTime": {
     "end_time": "2024-04-22T18:26:56.438721020Z",
     "start_time": "2024-04-22T18:26:56.413912698Z"
    }
   },
   "id": "405173931756e764",
   "execution_count": 135
  },
  {
   "cell_type": "code",
   "outputs": [
    {
     "data": {
      "text/plain": "    Unnamed: 0  id     diet  pulse    time     kind\n0            0   1  low fat     85   1 min     rest\n1            1   1  low fat     85  15 min     rest\n2            2   1  low fat     88  30 min     rest\n3            3   2  low fat     90   1 min     rest\n4            4   2  low fat     92  15 min     rest\n..         ...  ..      ...    ...     ...      ...\n85          85  29   no fat    135  15 min  running\n86          86  29   no fat    130  30 min  running\n87          87  30   no fat     99   1 min  running\n88          88  30   no fat    111  15 min  running\n89          89  30   no fat    150  30 min  running\n\n[90 rows x 6 columns]",
      "text/html": "<div>\n<style scoped>\n    .dataframe tbody tr th:only-of-type {\n        vertical-align: middle;\n    }\n\n    .dataframe tbody tr th {\n        vertical-align: top;\n    }\n\n    .dataframe thead th {\n        text-align: right;\n    }\n</style>\n<table border=\"1\" class=\"dataframe\">\n  <thead>\n    <tr style=\"text-align: right;\">\n      <th></th>\n      <th>Unnamed: 0</th>\n      <th>id</th>\n      <th>diet</th>\n      <th>pulse</th>\n      <th>time</th>\n      <th>kind</th>\n    </tr>\n  </thead>\n  <tbody>\n    <tr>\n      <th>0</th>\n      <td>0</td>\n      <td>1</td>\n      <td>low fat</td>\n      <td>85</td>\n      <td>1 min</td>\n      <td>rest</td>\n    </tr>\n    <tr>\n      <th>1</th>\n      <td>1</td>\n      <td>1</td>\n      <td>low fat</td>\n      <td>85</td>\n      <td>15 min</td>\n      <td>rest</td>\n    </tr>\n    <tr>\n      <th>2</th>\n      <td>2</td>\n      <td>1</td>\n      <td>low fat</td>\n      <td>88</td>\n      <td>30 min</td>\n      <td>rest</td>\n    </tr>\n    <tr>\n      <th>3</th>\n      <td>3</td>\n      <td>2</td>\n      <td>low fat</td>\n      <td>90</td>\n      <td>1 min</td>\n      <td>rest</td>\n    </tr>\n    <tr>\n      <th>4</th>\n      <td>4</td>\n      <td>2</td>\n      <td>low fat</td>\n      <td>92</td>\n      <td>15 min</td>\n      <td>rest</td>\n    </tr>\n    <tr>\n      <th>...</th>\n      <td>...</td>\n      <td>...</td>\n      <td>...</td>\n      <td>...</td>\n      <td>...</td>\n      <td>...</td>\n    </tr>\n    <tr>\n      <th>85</th>\n      <td>85</td>\n      <td>29</td>\n      <td>no fat</td>\n      <td>135</td>\n      <td>15 min</td>\n      <td>running</td>\n    </tr>\n    <tr>\n      <th>86</th>\n      <td>86</td>\n      <td>29</td>\n      <td>no fat</td>\n      <td>130</td>\n      <td>30 min</td>\n      <td>running</td>\n    </tr>\n    <tr>\n      <th>87</th>\n      <td>87</td>\n      <td>30</td>\n      <td>no fat</td>\n      <td>99</td>\n      <td>1 min</td>\n      <td>running</td>\n    </tr>\n    <tr>\n      <th>88</th>\n      <td>88</td>\n      <td>30</td>\n      <td>no fat</td>\n      <td>111</td>\n      <td>15 min</td>\n      <td>running</td>\n    </tr>\n    <tr>\n      <th>89</th>\n      <td>89</td>\n      <td>30</td>\n      <td>no fat</td>\n      <td>150</td>\n      <td>30 min</td>\n      <td>running</td>\n    </tr>\n  </tbody>\n</table>\n<p>90 rows × 6 columns</p>\n</div>"
     },
     "execution_count": 136,
     "metadata": {},
     "output_type": "execute_result"
    }
   ],
   "source": [
    "exercises"
   ],
   "metadata": {
    "collapsed": false,
    "ExecuteTime": {
     "end_time": "2024-04-22T18:26:57.360293762Z",
     "start_time": "2024-04-22T18:26:57.333667987Z"
    }
   },
   "id": "e7bd2db5b3d0152e",
   "execution_count": 136
  },
  {
   "cell_type": "code",
   "outputs": [
    {
     "name": "stdout",
     "output_type": "stream",
     "text": [
      "    id     diet  pulse    time     kind\n",
      "0    1  low fat     85   1 min     rest\n",
      "1    1  low fat     85  15 min     rest\n",
      "2    1  low fat     88  30 min     rest\n",
      "3    2  low fat     90   1 min     rest\n",
      "4    2  low fat     92  15 min     rest\n",
      "..  ..      ...    ...     ...      ...\n",
      "85  29   no fat    135  15 min  running\n",
      "86  29   no fat    130  30 min  running\n",
      "87  30   no fat     99   1 min  running\n",
      "88  30   no fat    111  15 min  running\n",
      "89  30   no fat    150  30 min  running\n",
      "\n",
      "[90 rows x 5 columns]\n"
     ]
    }
   ],
   "source": [
    "exercises = exercises.iloc[:,1:6]\n",
    "print(exercises.dropna(how='all'))"
   ],
   "metadata": {
    "collapsed": false,
    "ExecuteTime": {
     "end_time": "2024-04-22T18:26:57.993916250Z",
     "start_time": "2024-04-22T18:26:57.964059567Z"
    }
   },
   "id": "5e5ceb2b5101d05",
   "execution_count": 137
  },
  {
   "cell_type": "code",
   "outputs": [
    {
     "data": {
      "text/plain": "   id     diet  pulse    time  kind\n0   1  low fat     85   1 min  rest\n1   1  low fat     85  15 min  rest\n2   1  low fat     88  30 min  rest\n3   2  low fat     90   1 min  rest\n4   2  low fat     92  15 min  rest",
      "text/html": "<div>\n<style scoped>\n    .dataframe tbody tr th:only-of-type {\n        vertical-align: middle;\n    }\n\n    .dataframe tbody tr th {\n        vertical-align: top;\n    }\n\n    .dataframe thead th {\n        text-align: right;\n    }\n</style>\n<table border=\"1\" class=\"dataframe\">\n  <thead>\n    <tr style=\"text-align: right;\">\n      <th></th>\n      <th>id</th>\n      <th>diet</th>\n      <th>pulse</th>\n      <th>time</th>\n      <th>kind</th>\n    </tr>\n  </thead>\n  <tbody>\n    <tr>\n      <th>0</th>\n      <td>1</td>\n      <td>low fat</td>\n      <td>85</td>\n      <td>1 min</td>\n      <td>rest</td>\n    </tr>\n    <tr>\n      <th>1</th>\n      <td>1</td>\n      <td>low fat</td>\n      <td>85</td>\n      <td>15 min</td>\n      <td>rest</td>\n    </tr>\n    <tr>\n      <th>2</th>\n      <td>1</td>\n      <td>low fat</td>\n      <td>88</td>\n      <td>30 min</td>\n      <td>rest</td>\n    </tr>\n    <tr>\n      <th>3</th>\n      <td>2</td>\n      <td>low fat</td>\n      <td>90</td>\n      <td>1 min</td>\n      <td>rest</td>\n    </tr>\n    <tr>\n      <th>4</th>\n      <td>2</td>\n      <td>low fat</td>\n      <td>92</td>\n      <td>15 min</td>\n      <td>rest</td>\n    </tr>\n  </tbody>\n</table>\n</div>"
     },
     "execution_count": 138,
     "metadata": {},
     "output_type": "execute_result"
    }
   ],
   "source": [
    "exercises.head()"
   ],
   "metadata": {
    "collapsed": false,
    "ExecuteTime": {
     "end_time": "2024-04-22T18:26:58.732476093Z",
     "start_time": "2024-04-22T18:26:58.711050254Z"
    }
   },
   "id": "12aedc7383c31b9c",
   "execution_count": 138
  },
  {
   "cell_type": "code",
   "outputs": [
    {
     "data": {
      "text/plain": "0     92\n1     97\n2    100\nName: pulse, dtype: int64"
     },
     "execution_count": 139,
     "metadata": {},
     "output_type": "execute_result"
    }
   ],
   "source": [
    "exercises.pulse.mode()"
   ],
   "metadata": {
    "collapsed": false,
    "ExecuteTime": {
     "end_time": "2024-04-22T18:26:59.488856266Z",
     "start_time": "2024-04-22T18:26:59.384014333Z"
    }
   },
   "id": "aebdc4ab73a79464",
   "execution_count": 139
  },
  {
   "cell_type": "code",
   "outputs": [
    {
     "data": {
      "text/plain": "    id     diet  pulse    time     kind\n0    1   no fat   92.0   1 min     rest\n1    2  low fat   97.0  15 min  walking\n2    3      NaN  100.0  30 min  running\n3    4      NaN    NaN     NaN      NaN\n4    5      NaN    NaN     NaN      NaN\n5    6      NaN    NaN     NaN      NaN\n6    7      NaN    NaN     NaN      NaN\n7    8      NaN    NaN     NaN      NaN\n8    9      NaN    NaN     NaN      NaN\n9   10      NaN    NaN     NaN      NaN\n10  11      NaN    NaN     NaN      NaN\n11  12      NaN    NaN     NaN      NaN\n12  13      NaN    NaN     NaN      NaN\n13  14      NaN    NaN     NaN      NaN\n14  15      NaN    NaN     NaN      NaN\n15  16      NaN    NaN     NaN      NaN\n16  17      NaN    NaN     NaN      NaN\n17  18      NaN    NaN     NaN      NaN\n18  19      NaN    NaN     NaN      NaN\n19  20      NaN    NaN     NaN      NaN\n20  21      NaN    NaN     NaN      NaN\n21  22      NaN    NaN     NaN      NaN\n22  23      NaN    NaN     NaN      NaN\n23  24      NaN    NaN     NaN      NaN\n24  25      NaN    NaN     NaN      NaN\n25  26      NaN    NaN     NaN      NaN\n26  27      NaN    NaN     NaN      NaN\n27  28      NaN    NaN     NaN      NaN\n28  29      NaN    NaN     NaN      NaN\n29  30      NaN    NaN     NaN      NaN",
      "text/html": "<div>\n<style scoped>\n    .dataframe tbody tr th:only-of-type {\n        vertical-align: middle;\n    }\n\n    .dataframe tbody tr th {\n        vertical-align: top;\n    }\n\n    .dataframe thead th {\n        text-align: right;\n    }\n</style>\n<table border=\"1\" class=\"dataframe\">\n  <thead>\n    <tr style=\"text-align: right;\">\n      <th></th>\n      <th>id</th>\n      <th>diet</th>\n      <th>pulse</th>\n      <th>time</th>\n      <th>kind</th>\n    </tr>\n  </thead>\n  <tbody>\n    <tr>\n      <th>0</th>\n      <td>1</td>\n      <td>no fat</td>\n      <td>92.0</td>\n      <td>1 min</td>\n      <td>rest</td>\n    </tr>\n    <tr>\n      <th>1</th>\n      <td>2</td>\n      <td>low fat</td>\n      <td>97.0</td>\n      <td>15 min</td>\n      <td>walking</td>\n    </tr>\n    <tr>\n      <th>2</th>\n      <td>3</td>\n      <td>NaN</td>\n      <td>100.0</td>\n      <td>30 min</td>\n      <td>running</td>\n    </tr>\n    <tr>\n      <th>3</th>\n      <td>4</td>\n      <td>NaN</td>\n      <td>NaN</td>\n      <td>NaN</td>\n      <td>NaN</td>\n    </tr>\n    <tr>\n      <th>4</th>\n      <td>5</td>\n      <td>NaN</td>\n      <td>NaN</td>\n      <td>NaN</td>\n      <td>NaN</td>\n    </tr>\n    <tr>\n      <th>5</th>\n      <td>6</td>\n      <td>NaN</td>\n      <td>NaN</td>\n      <td>NaN</td>\n      <td>NaN</td>\n    </tr>\n    <tr>\n      <th>6</th>\n      <td>7</td>\n      <td>NaN</td>\n      <td>NaN</td>\n      <td>NaN</td>\n      <td>NaN</td>\n    </tr>\n    <tr>\n      <th>7</th>\n      <td>8</td>\n      <td>NaN</td>\n      <td>NaN</td>\n      <td>NaN</td>\n      <td>NaN</td>\n    </tr>\n    <tr>\n      <th>8</th>\n      <td>9</td>\n      <td>NaN</td>\n      <td>NaN</td>\n      <td>NaN</td>\n      <td>NaN</td>\n    </tr>\n    <tr>\n      <th>9</th>\n      <td>10</td>\n      <td>NaN</td>\n      <td>NaN</td>\n      <td>NaN</td>\n      <td>NaN</td>\n    </tr>\n    <tr>\n      <th>10</th>\n      <td>11</td>\n      <td>NaN</td>\n      <td>NaN</td>\n      <td>NaN</td>\n      <td>NaN</td>\n    </tr>\n    <tr>\n      <th>11</th>\n      <td>12</td>\n      <td>NaN</td>\n      <td>NaN</td>\n      <td>NaN</td>\n      <td>NaN</td>\n    </tr>\n    <tr>\n      <th>12</th>\n      <td>13</td>\n      <td>NaN</td>\n      <td>NaN</td>\n      <td>NaN</td>\n      <td>NaN</td>\n    </tr>\n    <tr>\n      <th>13</th>\n      <td>14</td>\n      <td>NaN</td>\n      <td>NaN</td>\n      <td>NaN</td>\n      <td>NaN</td>\n    </tr>\n    <tr>\n      <th>14</th>\n      <td>15</td>\n      <td>NaN</td>\n      <td>NaN</td>\n      <td>NaN</td>\n      <td>NaN</td>\n    </tr>\n    <tr>\n      <th>15</th>\n      <td>16</td>\n      <td>NaN</td>\n      <td>NaN</td>\n      <td>NaN</td>\n      <td>NaN</td>\n    </tr>\n    <tr>\n      <th>16</th>\n      <td>17</td>\n      <td>NaN</td>\n      <td>NaN</td>\n      <td>NaN</td>\n      <td>NaN</td>\n    </tr>\n    <tr>\n      <th>17</th>\n      <td>18</td>\n      <td>NaN</td>\n      <td>NaN</td>\n      <td>NaN</td>\n      <td>NaN</td>\n    </tr>\n    <tr>\n      <th>18</th>\n      <td>19</td>\n      <td>NaN</td>\n      <td>NaN</td>\n      <td>NaN</td>\n      <td>NaN</td>\n    </tr>\n    <tr>\n      <th>19</th>\n      <td>20</td>\n      <td>NaN</td>\n      <td>NaN</td>\n      <td>NaN</td>\n      <td>NaN</td>\n    </tr>\n    <tr>\n      <th>20</th>\n      <td>21</td>\n      <td>NaN</td>\n      <td>NaN</td>\n      <td>NaN</td>\n      <td>NaN</td>\n    </tr>\n    <tr>\n      <th>21</th>\n      <td>22</td>\n      <td>NaN</td>\n      <td>NaN</td>\n      <td>NaN</td>\n      <td>NaN</td>\n    </tr>\n    <tr>\n      <th>22</th>\n      <td>23</td>\n      <td>NaN</td>\n      <td>NaN</td>\n      <td>NaN</td>\n      <td>NaN</td>\n    </tr>\n    <tr>\n      <th>23</th>\n      <td>24</td>\n      <td>NaN</td>\n      <td>NaN</td>\n      <td>NaN</td>\n      <td>NaN</td>\n    </tr>\n    <tr>\n      <th>24</th>\n      <td>25</td>\n      <td>NaN</td>\n      <td>NaN</td>\n      <td>NaN</td>\n      <td>NaN</td>\n    </tr>\n    <tr>\n      <th>25</th>\n      <td>26</td>\n      <td>NaN</td>\n      <td>NaN</td>\n      <td>NaN</td>\n      <td>NaN</td>\n    </tr>\n    <tr>\n      <th>26</th>\n      <td>27</td>\n      <td>NaN</td>\n      <td>NaN</td>\n      <td>NaN</td>\n      <td>NaN</td>\n    </tr>\n    <tr>\n      <th>27</th>\n      <td>28</td>\n      <td>NaN</td>\n      <td>NaN</td>\n      <td>NaN</td>\n      <td>NaN</td>\n    </tr>\n    <tr>\n      <th>28</th>\n      <td>29</td>\n      <td>NaN</td>\n      <td>NaN</td>\n      <td>NaN</td>\n      <td>NaN</td>\n    </tr>\n    <tr>\n      <th>29</th>\n      <td>30</td>\n      <td>NaN</td>\n      <td>NaN</td>\n      <td>NaN</td>\n      <td>NaN</td>\n    </tr>\n  </tbody>\n</table>\n</div>"
     },
     "execution_count": 140,
     "metadata": {},
     "output_type": "execute_result"
    }
   ],
   "source": [
    "exercises.mode()"
   ],
   "metadata": {
    "collapsed": false,
    "ExecuteTime": {
     "end_time": "2024-04-22T18:26:59.977466546Z",
     "start_time": "2024-04-22T18:26:59.937368187Z"
    }
   },
   "id": "2e41264aed7e43ea",
   "execution_count": 140
  },
  {
   "cell_type": "code",
   "outputs": [
    {
     "name": "stderr",
     "output_type": "stream",
     "text": [
      "/tmp/ipykernel_8869/1965315009.py:1: FutureWarning: The default value of numeric_only in DataFrame.mean is deprecated. In a future version, it will default to False. In addition, specifying 'numeric_only=None' is deprecated. Select only valid columns or specify the value of numeric_only to silence this warning.\n",
      "  exercises.mean()\n"
     ]
    },
    {
     "data": {
      "text/plain": "id       15.5\npulse    99.7\ndtype: float64"
     },
     "execution_count": 141,
     "metadata": {},
     "output_type": "execute_result"
    }
   ],
   "source": [
    "exercises.mean()"
   ],
   "metadata": {
    "collapsed": false,
    "ExecuteTime": {
     "end_time": "2024-04-22T18:27:00.644509326Z",
     "start_time": "2024-04-22T18:27:00.610994062Z"
    }
   },
   "id": "78351d247bce83ef",
   "execution_count": 141
  },
  {
   "cell_type": "code",
   "outputs": [
    {
     "name": "stderr",
     "output_type": "stream",
     "text": [
      "/tmp/ipykernel_8869/1347084426.py:1: FutureWarning: The default value of numeric_only in DataFrame.median is deprecated. In a future version, it will default to False. In addition, specifying 'numeric_only=None' is deprecated. Select only valid columns or specify the value of numeric_only to silence this warning.\n",
      "  exercises.median()\n"
     ]
    },
    {
     "data": {
      "text/plain": "id       15.5\npulse    96.0\ndtype: float64"
     },
     "execution_count": 142,
     "metadata": {},
     "output_type": "execute_result"
    }
   ],
   "source": [
    "exercises.median()"
   ],
   "metadata": {
    "collapsed": false,
    "ExecuteTime": {
     "end_time": "2024-04-22T18:27:01.388539459Z",
     "start_time": "2024-04-22T18:27:01.351168049Z"
    }
   },
   "id": "f89d8f0ab37815da",
   "execution_count": 142
  },
  {
   "cell_type": "code",
   "outputs": [
    {
     "data": {
      "text/plain": "str"
     },
     "execution_count": 143,
     "metadata": {},
     "output_type": "execute_result"
    }
   ],
   "source": [
    "time = exercises[\"time\"]\n",
    "\n",
    "type(time[0])"
   ],
   "metadata": {
    "collapsed": false,
    "ExecuteTime": {
     "end_time": "2024-04-22T18:27:02.235129958Z",
     "start_time": "2024-04-22T18:27:02.226613211Z"
    }
   },
   "id": "8274da07fa5d1ce3",
   "execution_count": 143
  },
  {
   "cell_type": "code",
   "outputs": [],
   "source": [
    "dictionary = pd.DataFrame([\n",
    "    {\n",
    "        \"variavel\": \"id\",\n",
    "        \"descricao\": \"Identificação do sujeito através do id (identifier)\",\n",
    "        \"tipo\":\"quantitativa\",\n",
    "        \"subtipo\":\"discreta\"\n",
    "    },{\n",
    "        \"variavel\": \"diet\",\n",
    "        \"descricao\": \"Tipo de dieta: baixo teor de gordura (low fat), sem gordura (no fat)\",\n",
    "        \"tipo\":\"qualitativa\",\n",
    "        \"subtipo\":\"nominal\"\n",
    "    },{\n",
    "        \"variavel\": \"pulse\",\n",
    "        \"descricao\": \"Número que representa a pulsação do sujeito\",\n",
    "        \"tipo\":\"quantitativa\",\n",
    "        \"subtipo\":\"contínua\"\n",
    "    },{\n",
    "        \"variavel\": \"time\",\n",
    "        \"descricao\": \"Tempo de medição em minutos (min)\",\n",
    "        \"tipo\":\"quantitativa\",\n",
    "        \"subtipo\":\"contínua\"\n",
    "    },{\n",
    "        \"variavel\": \"kind\",\n",
    "        \"descricao\": \"Tipo de atividade física: descansar (rest), caminhando (walking), correndo (running)\",\n",
    "        \"tipo\":\"qualitativa\",\n",
    "        \"subtipo\":\"nominal\"\n",
    "    }\n",
    "])"
   ],
   "metadata": {
    "collapsed": false,
    "ExecuteTime": {
     "end_time": "2024-04-22T18:27:03.050607058Z",
     "start_time": "2024-04-22T18:27:03.019673336Z"
    }
   },
   "id": "cd0cbf3d5c33287",
   "execution_count": 144
  },
  {
   "cell_type": "code",
   "outputs": [
    {
     "data": {
      "text/plain": "  variavel                                          descricao          tipo  \\\n0       id  Identificação do sujeito através do id (identi...  quantitativa   \n1     diet  Tipo de dieta: baixo teor de gordura (low fat)...   qualitativa   \n2    pulse        Número que representa a pulsação do sujeito  quantitativa   \n3     time                  Tempo de medição em minutos (min)  quantitativa   \n4     kind  Tipo de atividade física: descansar (rest), ca...   qualitativa   \n\n    subtipo  \n0  discreta  \n1   nominal  \n2  contínua  \n3  contínua  \n4   nominal  ",
      "text/html": "<div>\n<style scoped>\n    .dataframe tbody tr th:only-of-type {\n        vertical-align: middle;\n    }\n\n    .dataframe tbody tr th {\n        vertical-align: top;\n    }\n\n    .dataframe thead th {\n        text-align: right;\n    }\n</style>\n<table border=\"1\" class=\"dataframe\">\n  <thead>\n    <tr style=\"text-align: right;\">\n      <th></th>\n      <th>variavel</th>\n      <th>descricao</th>\n      <th>tipo</th>\n      <th>subtipo</th>\n    </tr>\n  </thead>\n  <tbody>\n    <tr>\n      <th>0</th>\n      <td>id</td>\n      <td>Identificação do sujeito através do id (identi...</td>\n      <td>quantitativa</td>\n      <td>discreta</td>\n    </tr>\n    <tr>\n      <th>1</th>\n      <td>diet</td>\n      <td>Tipo de dieta: baixo teor de gordura (low fat)...</td>\n      <td>qualitativa</td>\n      <td>nominal</td>\n    </tr>\n    <tr>\n      <th>2</th>\n      <td>pulse</td>\n      <td>Número que representa a pulsação do sujeito</td>\n      <td>quantitativa</td>\n      <td>contínua</td>\n    </tr>\n    <tr>\n      <th>3</th>\n      <td>time</td>\n      <td>Tempo de medição em minutos (min)</td>\n      <td>quantitativa</td>\n      <td>contínua</td>\n    </tr>\n    <tr>\n      <th>4</th>\n      <td>kind</td>\n      <td>Tipo de atividade física: descansar (rest), ca...</td>\n      <td>qualitativa</td>\n      <td>nominal</td>\n    </tr>\n  </tbody>\n</table>\n</div>"
     },
     "execution_count": 145,
     "metadata": {},
     "output_type": "execute_result"
    }
   ],
   "source": [
    "new_path = \"../../references/dicionario-exercise.csv\"\n",
    "dictionary.to_csv(new_path, index=False)\n",
    "dictionary"
   ],
   "metadata": {
    "collapsed": false,
    "ExecuteTime": {
     "end_time": "2024-04-22T18:27:04.371072738Z",
     "start_time": "2024-04-22T18:27:04.341575070Z"
    }
   },
   "id": "ead089cccb0565ee",
   "execution_count": 145
  },
  {
   "cell_type": "code",
   "outputs": [],
   "source": [
    "qualitativas = dictionary[dictionary['tipo'] == 'qualitativa'].variavel.tolist()\n",
    "quantitativas = dictionary[dictionary['tipo'] == 'quantitativa'].variavel.tolist()"
   ],
   "metadata": {
    "collapsed": false,
    "ExecuteTime": {
     "end_time": "2024-04-22T18:27:08.167020836Z",
     "start_time": "2024-04-22T18:27:08.161055306Z"
    }
   },
   "id": "7e2dac5c13eaeace",
   "execution_count": 146
  },
  {
   "cell_type": "code",
   "outputs": [
    {
     "data": {
      "text/plain": "['diet', 'kind']"
     },
     "execution_count": 147,
     "metadata": {},
     "output_type": "execute_result"
    }
   ],
   "source": [
    "qualitativas"
   ],
   "metadata": {
    "collapsed": false,
    "ExecuteTime": {
     "end_time": "2024-04-22T18:27:09.576067239Z",
     "start_time": "2024-04-22T18:27:09.565664952Z"
    }
   },
   "id": "303b9014b7fd166d",
   "execution_count": 147
  },
  {
   "cell_type": "code",
   "outputs": [
    {
     "data": {
      "text/plain": "['id', 'pulse', 'time']"
     },
     "execution_count": 148,
     "metadata": {},
     "output_type": "execute_result"
    }
   ],
   "source": [
    "quantitativas"
   ],
   "metadata": {
    "collapsed": false,
    "ExecuteTime": {
     "end_time": "2024-04-22T18:27:10.427137743Z",
     "start_time": "2024-04-22T18:27:10.386314692Z"
    }
   },
   "id": "3fa1584958c172cb",
   "execution_count": 148
  },
  {
   "cell_type": "code",
   "outputs": [],
   "source": [
    "# pré-processamento da variável time\n",
    "exercises['time'] = exercises['time'].str.replace('min','')\n",
    "exercises['time'] = pd.to_numeric(exercises['time'])"
   ],
   "metadata": {
    "collapsed": false,
    "ExecuteTime": {
     "end_time": "2024-04-22T18:28:06.648971900Z",
     "start_time": "2024-04-22T18:28:06.603054108Z"
    }
   },
   "id": "6a741f1edad5f88d",
   "execution_count": 149
  },
  {
   "cell_type": "code",
   "outputs": [
    {
     "data": {
      "text/plain": "    id     diet  pulse  time     kind\n0    1  low fat     85     1     rest\n1    1  low fat     85    15     rest\n2    1  low fat     88    30     rest\n3    2  low fat     90     1     rest\n4    2  low fat     92    15     rest\n..  ..      ...    ...   ...      ...\n85  29   no fat    135    15  running\n86  29   no fat    130    30  running\n87  30   no fat     99     1  running\n88  30   no fat    111    15  running\n89  30   no fat    150    30  running\n\n[90 rows x 5 columns]",
      "text/html": "<div>\n<style scoped>\n    .dataframe tbody tr th:only-of-type {\n        vertical-align: middle;\n    }\n\n    .dataframe tbody tr th {\n        vertical-align: top;\n    }\n\n    .dataframe thead th {\n        text-align: right;\n    }\n</style>\n<table border=\"1\" class=\"dataframe\">\n  <thead>\n    <tr style=\"text-align: right;\">\n      <th></th>\n      <th>id</th>\n      <th>diet</th>\n      <th>pulse</th>\n      <th>time</th>\n      <th>kind</th>\n    </tr>\n  </thead>\n  <tbody>\n    <tr>\n      <th>0</th>\n      <td>1</td>\n      <td>low fat</td>\n      <td>85</td>\n      <td>1</td>\n      <td>rest</td>\n    </tr>\n    <tr>\n      <th>1</th>\n      <td>1</td>\n      <td>low fat</td>\n      <td>85</td>\n      <td>15</td>\n      <td>rest</td>\n    </tr>\n    <tr>\n      <th>2</th>\n      <td>1</td>\n      <td>low fat</td>\n      <td>88</td>\n      <td>30</td>\n      <td>rest</td>\n    </tr>\n    <tr>\n      <th>3</th>\n      <td>2</td>\n      <td>low fat</td>\n      <td>90</td>\n      <td>1</td>\n      <td>rest</td>\n    </tr>\n    <tr>\n      <th>4</th>\n      <td>2</td>\n      <td>low fat</td>\n      <td>92</td>\n      <td>15</td>\n      <td>rest</td>\n    </tr>\n    <tr>\n      <th>...</th>\n      <td>...</td>\n      <td>...</td>\n      <td>...</td>\n      <td>...</td>\n      <td>...</td>\n    </tr>\n    <tr>\n      <th>85</th>\n      <td>29</td>\n      <td>no fat</td>\n      <td>135</td>\n      <td>15</td>\n      <td>running</td>\n    </tr>\n    <tr>\n      <th>86</th>\n      <td>29</td>\n      <td>no fat</td>\n      <td>130</td>\n      <td>30</td>\n      <td>running</td>\n    </tr>\n    <tr>\n      <th>87</th>\n      <td>30</td>\n      <td>no fat</td>\n      <td>99</td>\n      <td>1</td>\n      <td>running</td>\n    </tr>\n    <tr>\n      <th>88</th>\n      <td>30</td>\n      <td>no fat</td>\n      <td>111</td>\n      <td>15</td>\n      <td>running</td>\n    </tr>\n    <tr>\n      <th>89</th>\n      <td>30</td>\n      <td>no fat</td>\n      <td>150</td>\n      <td>30</td>\n      <td>running</td>\n    </tr>\n  </tbody>\n</table>\n<p>90 rows × 5 columns</p>\n</div>"
     },
     "execution_count": 150,
     "metadata": {},
     "output_type": "execute_result"
    }
   ],
   "source": [
    "exercises"
   ],
   "metadata": {
    "collapsed": false,
    "ExecuteTime": {
     "end_time": "2024-04-22T18:28:09.086523679Z",
     "start_time": "2024-04-22T18:28:09.067169101Z"
    }
   },
   "id": "6b087dd88040e29a",
   "execution_count": 150
  },
  {
   "cell_type": "code",
   "outputs": [
    {
     "data": {
      "text/plain": "      diet     kind\n0   no fat     rest\n1  low fat  walking\n2      NaN  running",
      "text/html": "<div>\n<style scoped>\n    .dataframe tbody tr th:only-of-type {\n        vertical-align: middle;\n    }\n\n    .dataframe tbody tr th {\n        vertical-align: top;\n    }\n\n    .dataframe thead th {\n        text-align: right;\n    }\n</style>\n<table border=\"1\" class=\"dataframe\">\n  <thead>\n    <tr style=\"text-align: right;\">\n      <th></th>\n      <th>diet</th>\n      <th>kind</th>\n    </tr>\n  </thead>\n  <tbody>\n    <tr>\n      <th>0</th>\n      <td>no fat</td>\n      <td>rest</td>\n    </tr>\n    <tr>\n      <th>1</th>\n      <td>low fat</td>\n      <td>walking</td>\n    </tr>\n    <tr>\n      <th>2</th>\n      <td>NaN</td>\n      <td>running</td>\n    </tr>\n  </tbody>\n</table>\n</div>"
     },
     "execution_count": 151,
     "metadata": {},
     "output_type": "execute_result"
    }
   ],
   "source": [
    "exercises[qualitativas].mode()"
   ],
   "metadata": {
    "collapsed": false,
    "ExecuteTime": {
     "end_time": "2024-04-22T18:29:13.740091775Z",
     "start_time": "2024-04-22T18:29:13.697208185Z"
    }
   },
   "id": "1ffa3778d5addd2d",
   "execution_count": 151
  },
  {
   "cell_type": "code",
   "outputs": [
    {
     "data": {
      "text/plain": "id       15.500000\npulse    99.700000\ntime     15.333333\ndtype: float64"
     },
     "execution_count": 152,
     "metadata": {},
     "output_type": "execute_result"
    }
   ],
   "source": [
    "exercises[quantitativas].mean()"
   ],
   "metadata": {
    "collapsed": false,
    "ExecuteTime": {
     "end_time": "2024-04-22T18:29:29.070620114Z",
     "start_time": "2024-04-22T18:29:29.017729966Z"
    }
   },
   "id": "f672f760fb153977",
   "execution_count": 152
  },
  {
   "cell_type": "code",
   "outputs": [
    {
     "data": {
      "text/plain": "id       15.5\npulse    96.0\ntime     15.0\ndtype: float64"
     },
     "execution_count": 153,
     "metadata": {},
     "output_type": "execute_result"
    }
   ],
   "source": [
    "exercises[quantitativas].median()"
   ],
   "metadata": {
    "collapsed": false,
    "ExecuteTime": {
     "end_time": "2024-04-22T18:30:17.474423773Z",
     "start_time": "2024-04-22T18:30:17.424358049Z"
    }
   },
   "id": "8d2479e9d2bcec0b",
   "execution_count": 153
  },
  {
   "cell_type": "code",
   "outputs": [
    {
     "data": {
      "text/plain": "               id    diet       pulse       time  kind\ncount   90.000000      90   90.000000  90.000000    90\nunique        NaN       2         NaN        NaN     3\ntop           NaN  no fat         NaN        NaN  rest\nfreq          NaN      45         NaN        NaN    30\nmean    15.500000     NaN   99.700000  15.333333   NaN\nstd      8.703932     NaN   14.858471  11.907886   NaN\nmin      1.000000     NaN   80.000000   1.000000   NaN\n25%      8.000000     NaN   90.250000   1.000000   NaN\n50%     15.500000     NaN   96.000000  15.000000   NaN\n75%     23.000000     NaN  103.000000  30.000000   NaN\nmax     30.000000     NaN  150.000000  30.000000   NaN",
      "text/html": "<div>\n<style scoped>\n    .dataframe tbody tr th:only-of-type {\n        vertical-align: middle;\n    }\n\n    .dataframe tbody tr th {\n        vertical-align: top;\n    }\n\n    .dataframe thead th {\n        text-align: right;\n    }\n</style>\n<table border=\"1\" class=\"dataframe\">\n  <thead>\n    <tr style=\"text-align: right;\">\n      <th></th>\n      <th>id</th>\n      <th>diet</th>\n      <th>pulse</th>\n      <th>time</th>\n      <th>kind</th>\n    </tr>\n  </thead>\n  <tbody>\n    <tr>\n      <th>count</th>\n      <td>90.000000</td>\n      <td>90</td>\n      <td>90.000000</td>\n      <td>90.000000</td>\n      <td>90</td>\n    </tr>\n    <tr>\n      <th>unique</th>\n      <td>NaN</td>\n      <td>2</td>\n      <td>NaN</td>\n      <td>NaN</td>\n      <td>3</td>\n    </tr>\n    <tr>\n      <th>top</th>\n      <td>NaN</td>\n      <td>no fat</td>\n      <td>NaN</td>\n      <td>NaN</td>\n      <td>rest</td>\n    </tr>\n    <tr>\n      <th>freq</th>\n      <td>NaN</td>\n      <td>45</td>\n      <td>NaN</td>\n      <td>NaN</td>\n      <td>30</td>\n    </tr>\n    <tr>\n      <th>mean</th>\n      <td>15.500000</td>\n      <td>NaN</td>\n      <td>99.700000</td>\n      <td>15.333333</td>\n      <td>NaN</td>\n    </tr>\n    <tr>\n      <th>std</th>\n      <td>8.703932</td>\n      <td>NaN</td>\n      <td>14.858471</td>\n      <td>11.907886</td>\n      <td>NaN</td>\n    </tr>\n    <tr>\n      <th>min</th>\n      <td>1.000000</td>\n      <td>NaN</td>\n      <td>80.000000</td>\n      <td>1.000000</td>\n      <td>NaN</td>\n    </tr>\n    <tr>\n      <th>25%</th>\n      <td>8.000000</td>\n      <td>NaN</td>\n      <td>90.250000</td>\n      <td>1.000000</td>\n      <td>NaN</td>\n    </tr>\n    <tr>\n      <th>50%</th>\n      <td>15.500000</td>\n      <td>NaN</td>\n      <td>96.000000</td>\n      <td>15.000000</td>\n      <td>NaN</td>\n    </tr>\n    <tr>\n      <th>75%</th>\n      <td>23.000000</td>\n      <td>NaN</td>\n      <td>103.000000</td>\n      <td>30.000000</td>\n      <td>NaN</td>\n    </tr>\n    <tr>\n      <th>max</th>\n      <td>30.000000</td>\n      <td>NaN</td>\n      <td>150.000000</td>\n      <td>30.000000</td>\n      <td>NaN</td>\n    </tr>\n  </tbody>\n</table>\n</div>"
     },
     "execution_count": 154,
     "metadata": {},
     "output_type": "execute_result"
    }
   ],
   "source": [
    "exercises.describe(include=\"all\")"
   ],
   "metadata": {
    "collapsed": false,
    "ExecuteTime": {
     "end_time": "2024-04-22T18:30:31.738078936Z",
     "start_time": "2024-04-22T18:30:31.662181093Z"
    }
   },
   "id": "bc0fcfbdd48d9633",
   "execution_count": 154
  },
  {
   "cell_type": "code",
   "outputs": [
    {
     "data": {
      "text/plain": "           id                        pulse                         time  \\\n         mean median       std        mean median        std       mean   \ndiet                                                                      \nno fat   18.0   18.0  8.380171  103.444444   99.0  17.550648  15.333333   \nlow fat  13.0   13.0  8.380171   95.955556   94.0  10.481489  15.333333   \n\n                           \n        median        std  \ndiet                       \nno fat    15.0  11.975353  \nlow fat   15.0  11.975353  ",
      "text/html": "<div>\n<style scoped>\n    .dataframe tbody tr th:only-of-type {\n        vertical-align: middle;\n    }\n\n    .dataframe tbody tr th {\n        vertical-align: top;\n    }\n\n    .dataframe thead tr th {\n        text-align: left;\n    }\n\n    .dataframe thead tr:last-of-type th {\n        text-align: right;\n    }\n</style>\n<table border=\"1\" class=\"dataframe\">\n  <thead>\n    <tr>\n      <th></th>\n      <th colspan=\"3\" halign=\"left\">id</th>\n      <th colspan=\"3\" halign=\"left\">pulse</th>\n      <th colspan=\"3\" halign=\"left\">time</th>\n    </tr>\n    <tr>\n      <th></th>\n      <th>mean</th>\n      <th>median</th>\n      <th>std</th>\n      <th>mean</th>\n      <th>median</th>\n      <th>std</th>\n      <th>mean</th>\n      <th>median</th>\n      <th>std</th>\n    </tr>\n    <tr>\n      <th>diet</th>\n      <th></th>\n      <th></th>\n      <th></th>\n      <th></th>\n      <th></th>\n      <th></th>\n      <th></th>\n      <th></th>\n      <th></th>\n    </tr>\n  </thead>\n  <tbody>\n    <tr>\n      <th>no fat</th>\n      <td>18.0</td>\n      <td>18.0</td>\n      <td>8.380171</td>\n      <td>103.444444</td>\n      <td>99.0</td>\n      <td>17.550648</td>\n      <td>15.333333</td>\n      <td>15.0</td>\n      <td>11.975353</td>\n    </tr>\n    <tr>\n      <th>low fat</th>\n      <td>13.0</td>\n      <td>13.0</td>\n      <td>8.380171</td>\n      <td>95.955556</td>\n      <td>94.0</td>\n      <td>10.481489</td>\n      <td>15.333333</td>\n      <td>15.0</td>\n      <td>11.975353</td>\n    </tr>\n  </tbody>\n</table>\n</div>"
     },
     "execution_count": 156,
     "metadata": {},
     "output_type": "execute_result"
    }
   ],
   "source": [
    "exercises.groupby('diet')[quantitativas].agg(['mean','median','std'])"
   ],
   "metadata": {
    "collapsed": false,
    "ExecuteTime": {
     "end_time": "2024-04-22T18:35:34.270521861Z",
     "start_time": "2024-04-22T18:35:34.191126731Z"
    }
   },
   "id": "8d6861748de5215a",
   "execution_count": 156
  },
  {
   "cell_type": "code",
   "outputs": [
    {
     "data": {
      "text/plain": "               mean  median        std\ndiet                                  \nno fat   103.444444    99.0  17.550648\nlow fat   95.955556    94.0  10.481489",
      "text/html": "<div>\n<style scoped>\n    .dataframe tbody tr th:only-of-type {\n        vertical-align: middle;\n    }\n\n    .dataframe tbody tr th {\n        vertical-align: top;\n    }\n\n    .dataframe thead th {\n        text-align: right;\n    }\n</style>\n<table border=\"1\" class=\"dataframe\">\n  <thead>\n    <tr style=\"text-align: right;\">\n      <th></th>\n      <th>mean</th>\n      <th>median</th>\n      <th>std</th>\n    </tr>\n    <tr>\n      <th>diet</th>\n      <th></th>\n      <th></th>\n      <th></th>\n    </tr>\n  </thead>\n  <tbody>\n    <tr>\n      <th>no fat</th>\n      <td>103.444444</td>\n      <td>99.0</td>\n      <td>17.550648</td>\n    </tr>\n    <tr>\n      <th>low fat</th>\n      <td>95.955556</td>\n      <td>94.0</td>\n      <td>10.481489</td>\n    </tr>\n  </tbody>\n</table>\n</div>"
     },
     "execution_count": 157,
     "metadata": {},
     "output_type": "execute_result"
    }
   ],
   "source": [
    "exercises.groupby('diet')['pulse'].agg(['mean','median','std'])"
   ],
   "metadata": {
    "collapsed": false,
    "ExecuteTime": {
     "end_time": "2024-04-22T18:36:58.795111613Z",
     "start_time": "2024-04-22T18:36:58.732024509Z"
    }
   },
   "id": "67c6c9dc6a7a48f7",
   "execution_count": 157
  },
  {
   "cell_type": "code",
   "outputs": [
    {
     "data": {
      "text/plain": "            diet                                               kind\ndiet                                                               \nno fat    no fat  ['rest', 'walking', 'running']\nCategories (3, ...\nlow fat  low fat  ['rest', 'walking', 'running']\nCategories (3, ...",
      "text/html": "<div>\n<style scoped>\n    .dataframe tbody tr th:only-of-type {\n        vertical-align: middle;\n    }\n\n    .dataframe tbody tr th {\n        vertical-align: top;\n    }\n\n    .dataframe thead th {\n        text-align: right;\n    }\n</style>\n<table border=\"1\" class=\"dataframe\">\n  <thead>\n    <tr style=\"text-align: right;\">\n      <th></th>\n      <th>diet</th>\n      <th>kind</th>\n    </tr>\n    <tr>\n      <th>diet</th>\n      <th></th>\n      <th></th>\n    </tr>\n  </thead>\n  <tbody>\n    <tr>\n      <th>no fat</th>\n      <td>no fat</td>\n      <td>['rest', 'walking', 'running']\nCategories (3, ...</td>\n    </tr>\n    <tr>\n      <th>low fat</th>\n      <td>low fat</td>\n      <td>['rest', 'walking', 'running']\nCategories (3, ...</td>\n    </tr>\n  </tbody>\n</table>\n</div>"
     },
     "execution_count": 158,
     "metadata": {},
     "output_type": "execute_result"
    }
   ],
   "source": [
    "exercises.groupby('diet')[qualitativas].agg(pd.Series.mode)"
   ],
   "metadata": {
    "collapsed": false,
    "ExecuteTime": {
     "end_time": "2024-04-22T18:38:07.881053122Z",
     "start_time": "2024-04-22T18:38:07.838126471Z"
    }
   },
   "id": "dba85810950998f1",
   "execution_count": 158
  },
  {
   "cell_type": "code",
   "outputs": [],
   "source": [],
   "metadata": {
    "collapsed": false
   },
   "id": "25bcea26f9437ab6"
  }
 ],
 "metadata": {
  "kernelspec": {
   "display_name": "Python 3",
   "language": "python",
   "name": "python3"
  },
  "language_info": {
   "codemirror_mode": {
    "name": "ipython",
    "version": 2
   },
   "file_extension": ".py",
   "mimetype": "text/x-python",
   "name": "python",
   "nbconvert_exporter": "python",
   "pygments_lexer": "ipython2",
   "version": "2.7.6"
  }
 },
 "nbformat": 4,
 "nbformat_minor": 5
}
