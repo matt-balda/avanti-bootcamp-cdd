{
 "cells": [
  {
   "cell_type": "markdown",
   "metadata": {},
   "source": [
    "### Imports libraries"
   ]
  },
  {
   "cell_type": "code",
   "execution_count": 71,
   "metadata": {},
   "outputs": [],
   "source": [
    "from IPython.display import display, Markdown\n",
    "from matplotlib import pyplot as plt\n",
    "import numpy as np\n",
    "import pandas as pd\n",
    "import seaborn as sns\n",
    "\n",
    "from sklearn.pipeline import Pipeline\n",
    "from sklearn.impute import SimpleImputer\n",
    "from sklearn.preprocessing import StandardScaler, OneHotEncoder, OrdinalEncoder\n",
    "from sklearn.compose import ColumnTransformer\n",
    "from sklearn.model_selection import train_test_split\n",
    "import pickle"
   ]
  },
  {
   "cell_type": "markdown",
   "metadata": {},
   "source": [
    "### Loading data"
   ]
  },
  {
   "cell_type": "code",
   "execution_count": 2,
   "metadata": {},
   "outputs": [
    {
     "data": {
      "text/plain": [
       "(    id     diet  pulse  time     kind\n",
       " 0    1  low fat     85     1     rest\n",
       " 1    1  low fat     85    15     rest\n",
       " 2    1  low fat     88    30     rest\n",
       " 3    2  low fat     90     1     rest\n",
       " 4    2  low fat     92    15     rest\n",
       " ..  ..      ...    ...   ...      ...\n",
       " 85  29   no fat    135    15  running\n",
       " 86  29   no fat    130    30  running\n",
       " 87  30   no fat     99     1  running\n",
       " 88  30   no fat    111    15  running\n",
       " 89  30   no fat    150    30  running\n",
       " \n",
       " [90 rows x 5 columns],\n",
       "   variavel                                          descricao          tipo  \\\n",
       " 0       id        Um identificador único para cada voluntário  quantitativa   \n",
       " 1     diet  O tipo de dieta que o voluntário segue, podend...   qualitativa   \n",
       " 2    pulse  A pulsação do voluntário, medida em batimentos...  quantitativa   \n",
       " 3     time  O tempo em minutos que o voluntário gastou rea...  quantitativa   \n",
       " 4     kind  O tipo de atividade física realizada pelo volu...   qualitativa   \n",
       " \n",
       "     subtipo  \n",
       " 0  discreta  \n",
       " 1   nominal  \n",
       " 2  contínua  \n",
       " 3  discreta  \n",
       " 4   nominal  )"
      ]
     },
     "execution_count": 2,
     "metadata": {},
     "output_type": "execute_result"
    }
   ],
   "source": [
    "def loading_data():\n",
    "    return pd.read_csv('../../data/processed/exercise.csv')\n",
    "\n",
    "dictionary = pd.read_csv('../../data/external/dictionary.csv')\n",
    "\n",
    "df = loading_data()\n",
    "df, dictionary"
   ]
  },
  {
   "cell_type": "markdown",
   "metadata": {},
   "source": [
    "### Transformation with onte-hot"
   ]
  },
  {
   "cell_type": "code",
   "execution_count": 63,
   "metadata": {},
   "outputs": [
    {
     "data": {
      "text/plain": [
       "((90, 4),\n",
       "     id  pulse  time     kind\n",
       " 0    1     85     1     rest\n",
       " 1    1     85    15     rest\n",
       " 2    1     88    30     rest\n",
       " 3    2     90     1     rest\n",
       " 4    2     92    15     rest\n",
       " ..  ..    ...   ...      ...\n",
       " 85  29    135    15  running\n",
       " 86  29    130    30  running\n",
       " 87  30     99     1  running\n",
       " 88  30    111    15  running\n",
       " 89  30    150    30  running\n",
       " \n",
       " [90 rows x 4 columns],\n",
       " 0     low fat\n",
       " 1     low fat\n",
       " 2     low fat\n",
       " 3     low fat\n",
       " 4     low fat\n",
       "        ...   \n",
       " 85     no fat\n",
       " 86     no fat\n",
       " 87     no fat\n",
       " 88     no fat\n",
       " 89     no fat\n",
       " Name: diet, Length: 90, dtype: object,\n",
       " ['kind'],\n",
       " ['pulse'],\n",
       " ['id', 'time'])"
      ]
     },
     "execution_count": 63,
     "metadata": {},
     "output_type": "execute_result"
    }
   ],
   "source": [
    "target_column = 'diet'\n",
    "nominal_columns = (\n",
    "    dictionary.query('subtipo == \"nominal\" and variavel != @target_column').variavel.to_list()\n",
    ")\n",
    "continuous_columns = (\n",
    "    dictionary.query('subtipo == \"contínua\"').variavel.to_list()\n",
    ")\n",
    "exclude_columns = nominal_columns + continuous_columns + [target_column]\n",
    "\n",
    "rest_columns = (\n",
    "    dictionary.query('variavel not in @exclude_columns').variavel.to_list()\n",
    ")\n",
    "\n",
    "X = df.drop(columns=[target_column], axis=1)\n",
    "y = df[target_column]\n",
    "X.shape, X, y, nominal_columns, continuous_columns, rest_columns"
   ]
  },
  {
   "cell_type": "code",
   "execution_count": 43,
   "metadata": {},
   "outputs": [
    {
     "data": {
      "text/plain": [
       "(3, 2)"
      ]
     },
     "execution_count": 43,
     "metadata": {},
     "output_type": "execute_result"
    }
   ],
   "source": [
    "len(np.unique(df['kind'])), len(np.unique(df['diet']))"
   ]
  },
  {
   "cell_type": "code",
   "execution_count": 58,
   "metadata": {},
   "outputs": [],
   "source": [
    "nominal_preprocessor = Pipeline([\n",
    "    ('missing', SimpleImputer(strategy='most_frequent')), \n",
    "    ('encoding', OneHotEncoder(sparse_output=False)), \n",
    "    ('normalization', StandardScaler()), \n",
    "]) \n",
    "\n",
    "continuous_preprocessor = Pipeline([\n",
    "    ('missing', SimpleImputer(strategy='mean')), \n",
    "    ('normalization', StandardScaler()),\n",
    "])\n",
    "\n",
    "rest_preprocessor = Pipeline([\n",
    "    ('missing', SimpleImputer()), \n",
    "    ('normalization', StandardScaler()), \n",
    "])\n",
    "\n",
    "preprocessor = ColumnTransformer([\n",
    "    ('nominal', nominal_preprocessor, nominal_columns),\n",
    "    ('continuous', continuous_preprocessor, continuous_columns),\n",
    "    ('rest', rest_preprocessor, rest_columns),\n",
    "], remainder='passthrough')\n",
    "    "
   ]
  },
  {
   "cell_type": "code",
   "execution_count": 64,
   "metadata": {},
   "outputs": [
    {
     "data": {
      "text/html": [
       "<div>\n",
       "<style scoped>\n",
       "    .dataframe tbody tr th:only-of-type {\n",
       "        vertical-align: middle;\n",
       "    }\n",
       "\n",
       "    .dataframe tbody tr th {\n",
       "        vertical-align: top;\n",
       "    }\n",
       "\n",
       "    .dataframe thead th {\n",
       "        text-align: right;\n",
       "    }\n",
       "</style>\n",
       "<table border=\"1\" class=\"dataframe\">\n",
       "  <thead>\n",
       "    <tr style=\"text-align: right;\">\n",
       "      <th></th>\n",
       "      <th>0</th>\n",
       "      <th>1</th>\n",
       "      <th>2</th>\n",
       "      <th>3</th>\n",
       "      <th>4</th>\n",
       "      <th>5</th>\n",
       "    </tr>\n",
       "  </thead>\n",
       "  <tbody>\n",
       "    <tr>\n",
       "      <th>0</th>\n",
       "      <td>1.414214</td>\n",
       "      <td>-0.707107</td>\n",
       "      <td>-0.707107</td>\n",
       "      <td>-0.994877</td>\n",
       "      <td>-1.675247</td>\n",
       "      <td>-1.210427</td>\n",
       "    </tr>\n",
       "    <tr>\n",
       "      <th>1</th>\n",
       "      <td>1.414214</td>\n",
       "      <td>-0.707107</td>\n",
       "      <td>-0.707107</td>\n",
       "      <td>-0.994877</td>\n",
       "      <td>-1.675247</td>\n",
       "      <td>-0.028149</td>\n",
       "    </tr>\n",
       "    <tr>\n",
       "      <th>2</th>\n",
       "      <td>1.414214</td>\n",
       "      <td>-0.707107</td>\n",
       "      <td>-0.707107</td>\n",
       "      <td>-0.791841</td>\n",
       "      <td>-1.675247</td>\n",
       "      <td>1.238577</td>\n",
       "    </tr>\n",
       "    <tr>\n",
       "      <th>3</th>\n",
       "      <td>1.414214</td>\n",
       "      <td>-0.707107</td>\n",
       "      <td>-0.707107</td>\n",
       "      <td>-0.656484</td>\n",
       "      <td>-1.559712</td>\n",
       "      <td>-1.210427</td>\n",
       "    </tr>\n",
       "    <tr>\n",
       "      <th>4</th>\n",
       "      <td>1.414214</td>\n",
       "      <td>-0.707107</td>\n",
       "      <td>-0.707107</td>\n",
       "      <td>-0.521126</td>\n",
       "      <td>-1.559712</td>\n",
       "      <td>-0.028149</td>\n",
       "    </tr>\n",
       "    <tr>\n",
       "      <th>...</th>\n",
       "      <td>...</td>\n",
       "      <td>...</td>\n",
       "      <td>...</td>\n",
       "      <td>...</td>\n",
       "      <td>...</td>\n",
       "      <td>...</td>\n",
       "    </tr>\n",
       "    <tr>\n",
       "      <th>85</th>\n",
       "      <td>-0.707107</td>\n",
       "      <td>1.414214</td>\n",
       "      <td>-0.707107</td>\n",
       "      <td>2.389059</td>\n",
       "      <td>1.559712</td>\n",
       "      <td>-0.028149</td>\n",
       "    </tr>\n",
       "    <tr>\n",
       "      <th>86</th>\n",
       "      <td>-0.707107</td>\n",
       "      <td>1.414214</td>\n",
       "      <td>-0.707107</td>\n",
       "      <td>2.050665</td>\n",
       "      <td>1.559712</td>\n",
       "      <td>1.238577</td>\n",
       "    </tr>\n",
       "    <tr>\n",
       "      <th>87</th>\n",
       "      <td>-0.707107</td>\n",
       "      <td>1.414214</td>\n",
       "      <td>-0.707107</td>\n",
       "      <td>-0.047375</td>\n",
       "      <td>1.675247</td>\n",
       "      <td>-1.210427</td>\n",
       "    </tr>\n",
       "    <tr>\n",
       "      <th>88</th>\n",
       "      <td>-0.707107</td>\n",
       "      <td>1.414214</td>\n",
       "      <td>-0.707107</td>\n",
       "      <td>0.764770</td>\n",
       "      <td>1.675247</td>\n",
       "      <td>-0.028149</td>\n",
       "    </tr>\n",
       "    <tr>\n",
       "      <th>89</th>\n",
       "      <td>-0.707107</td>\n",
       "      <td>1.414214</td>\n",
       "      <td>-0.707107</td>\n",
       "      <td>3.404240</td>\n",
       "      <td>1.675247</td>\n",
       "      <td>1.238577</td>\n",
       "    </tr>\n",
       "  </tbody>\n",
       "</table>\n",
       "<p>90 rows × 6 columns</p>\n",
       "</div>"
      ],
      "text/plain": [
       "           0         1         2         3         4         5\n",
       "0   1.414214 -0.707107 -0.707107 -0.994877 -1.675247 -1.210427\n",
       "1   1.414214 -0.707107 -0.707107 -0.994877 -1.675247 -0.028149\n",
       "2   1.414214 -0.707107 -0.707107 -0.791841 -1.675247  1.238577\n",
       "3   1.414214 -0.707107 -0.707107 -0.656484 -1.559712 -1.210427\n",
       "4   1.414214 -0.707107 -0.707107 -0.521126 -1.559712 -0.028149\n",
       "..       ...       ...       ...       ...       ...       ...\n",
       "85 -0.707107  1.414214 -0.707107  2.389059  1.559712 -0.028149\n",
       "86 -0.707107  1.414214 -0.707107  2.050665  1.559712  1.238577\n",
       "87 -0.707107  1.414214 -0.707107 -0.047375  1.675247 -1.210427\n",
       "88 -0.707107  1.414214 -0.707107  0.764770  1.675247 -0.028149\n",
       "89 -0.707107  1.414214 -0.707107  3.404240  1.675247  1.238577\n",
       "\n",
       "[90 rows x 6 columns]"
      ]
     },
     "execution_count": 64,
     "metadata": {},
     "output_type": "execute_result"
    }
   ],
   "source": [
    "X = preprocessor.fit_transform(X)\n",
    "pd.DataFrame(X)"
   ]
  },
  {
   "cell_type": "code",
   "execution_count": 68,
   "metadata": {},
   "outputs": [],
   "source": [
    "X_train, X_test, y_train, y_test = train_test_split(X, y,\n",
    "                                                        test_size=0.30,\n",
    "                                                        random_state=0)"
   ]
  },
  {
   "cell_type": "code",
   "execution_count": 69,
   "metadata": {},
   "outputs": [
    {
     "data": {
      "text/plain": [
       "((63, 6), (63,))"
      ]
     },
     "execution_count": 69,
     "metadata": {},
     "output_type": "execute_result"
    }
   ],
   "source": [
    "X_train.shape, y_train.shape"
   ]
  },
  {
   "cell_type": "code",
   "execution_count": 70,
   "metadata": {},
   "outputs": [
    {
     "data": {
      "text/plain": [
       "((27, 6), (27,))"
      ]
     },
     "execution_count": 70,
     "metadata": {},
     "output_type": "execute_result"
    }
   ],
   "source": [
    "X_test.shape, y_test.shape"
   ]
  },
  {
   "cell_type": "code",
   "execution_count": 74,
   "metadata": {},
   "outputs": [],
   "source": [
    "with open('features-exercise.pkl', mode='wb') as f:\n",
    "    pickle.dump([X_train, y_train, X_test, y_test], f)"
   ]
  }
 ],
 "metadata": {
  "kernelspec": {
   "display_name": "venv",
   "language": "python",
   "name": "python3"
  },
  "language_info": {
   "codemirror_mode": {
    "name": "ipython",
    "version": 3
   },
   "file_extension": ".py",
   "mimetype": "text/x-python",
   "name": "python",
   "nbconvert_exporter": "python",
   "pygments_lexer": "ipython3",
   "version": "3.10.0"
  }
 },
 "nbformat": 4,
 "nbformat_minor": 2
}
