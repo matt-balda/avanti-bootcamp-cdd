{
 "cells": [
  {
   "cell_type": "markdown",
   "id": "d340bfa5",
   "metadata": {},
   "source": [
    "### Imports libraries"
   ]
  },
  {
   "cell_type": "code",
   "execution_count": 238,
   "id": "initial_id",
   "metadata": {
    "ExecuteTime": {
     "end_time": "2024-05-03T22:27:00.901527533Z",
     "start_time": "2024-05-03T22:27:00.855610825Z"
    },
    "collapsed": true
   },
   "outputs": [],
   "source": [
    "from IPython.display import display, Markdown\n",
    "from matplotlib import pyplot as plt\n",
    "import numpy as np\n",
    "import pandas as pd\n",
    "import seaborn as sns"
   ]
  },
  {
   "cell_type": "markdown",
   "id": "10612de4",
   "metadata": {},
   "source": [
    "### Loading data"
   ]
  },
  {
   "cell_type": "code",
   "execution_count": 239,
   "id": "e0179d54fde2e01e",
   "metadata": {
    "ExecuteTime": {
     "end_time": "2024-05-03T22:27:22.055756191Z",
     "start_time": "2024-05-03T22:27:21.994253739Z"
    },
    "collapsed": false
   },
   "outputs": [
    {
     "data": {
      "text/html": [
       "<div>\n",
       "<style scoped>\n",
       "    .dataframe tbody tr th:only-of-type {\n",
       "        vertical-align: middle;\n",
       "    }\n",
       "\n",
       "    .dataframe tbody tr th {\n",
       "        vertical-align: top;\n",
       "    }\n",
       "\n",
       "    .dataframe thead th {\n",
       "        text-align: right;\n",
       "    }\n",
       "</style>\n",
       "<table border=\"1\" class=\"dataframe\">\n",
       "  <thead>\n",
       "    <tr style=\"text-align: right;\">\n",
       "      <th></th>\n",
       "      <th>id</th>\n",
       "      <th>diet</th>\n",
       "      <th>pulse</th>\n",
       "      <th>time</th>\n",
       "      <th>kind</th>\n",
       "    </tr>\n",
       "  </thead>\n",
       "  <tbody>\n",
       "    <tr>\n",
       "      <th>0</th>\n",
       "      <td>1</td>\n",
       "      <td>low fat</td>\n",
       "      <td>85</td>\n",
       "      <td>1</td>\n",
       "      <td>rest</td>\n",
       "    </tr>\n",
       "    <tr>\n",
       "      <th>1</th>\n",
       "      <td>1</td>\n",
       "      <td>low fat</td>\n",
       "      <td>85</td>\n",
       "      <td>15</td>\n",
       "      <td>rest</td>\n",
       "    </tr>\n",
       "    <tr>\n",
       "      <th>2</th>\n",
       "      <td>1</td>\n",
       "      <td>low fat</td>\n",
       "      <td>88</td>\n",
       "      <td>30</td>\n",
       "      <td>rest</td>\n",
       "    </tr>\n",
       "    <tr>\n",
       "      <th>3</th>\n",
       "      <td>2</td>\n",
       "      <td>low fat</td>\n",
       "      <td>90</td>\n",
       "      <td>1</td>\n",
       "      <td>rest</td>\n",
       "    </tr>\n",
       "    <tr>\n",
       "      <th>4</th>\n",
       "      <td>2</td>\n",
       "      <td>low fat</td>\n",
       "      <td>92</td>\n",
       "      <td>15</td>\n",
       "      <td>rest</td>\n",
       "    </tr>\n",
       "    <tr>\n",
       "      <th>...</th>\n",
       "      <td>...</td>\n",
       "      <td>...</td>\n",
       "      <td>...</td>\n",
       "      <td>...</td>\n",
       "      <td>...</td>\n",
       "    </tr>\n",
       "    <tr>\n",
       "      <th>85</th>\n",
       "      <td>29</td>\n",
       "      <td>no fat</td>\n",
       "      <td>135</td>\n",
       "      <td>15</td>\n",
       "      <td>running</td>\n",
       "    </tr>\n",
       "    <tr>\n",
       "      <th>86</th>\n",
       "      <td>29</td>\n",
       "      <td>no fat</td>\n",
       "      <td>130</td>\n",
       "      <td>30</td>\n",
       "      <td>running</td>\n",
       "    </tr>\n",
       "    <tr>\n",
       "      <th>87</th>\n",
       "      <td>30</td>\n",
       "      <td>no fat</td>\n",
       "      <td>99</td>\n",
       "      <td>1</td>\n",
       "      <td>running</td>\n",
       "    </tr>\n",
       "    <tr>\n",
       "      <th>88</th>\n",
       "      <td>30</td>\n",
       "      <td>no fat</td>\n",
       "      <td>111</td>\n",
       "      <td>15</td>\n",
       "      <td>running</td>\n",
       "    </tr>\n",
       "    <tr>\n",
       "      <th>89</th>\n",
       "      <td>30</td>\n",
       "      <td>no fat</td>\n",
       "      <td>150</td>\n",
       "      <td>30</td>\n",
       "      <td>running</td>\n",
       "    </tr>\n",
       "  </tbody>\n",
       "</table>\n",
       "<p>90 rows × 5 columns</p>\n",
       "</div>"
      ],
      "text/plain": [
       "    id     diet  pulse  time     kind\n",
       "0    1  low fat     85     1     rest\n",
       "1    1  low fat     85    15     rest\n",
       "2    1  low fat     88    30     rest\n",
       "3    2  low fat     90     1     rest\n",
       "4    2  low fat     92    15     rest\n",
       "..  ..      ...    ...   ...      ...\n",
       "85  29   no fat    135    15  running\n",
       "86  29   no fat    130    30  running\n",
       "87  30   no fat     99     1  running\n",
       "88  30   no fat    111    15  running\n",
       "89  30   no fat    150    30  running\n",
       "\n",
       "[90 rows x 5 columns]"
      ]
     },
     "execution_count": 239,
     "metadata": {},
     "output_type": "execute_result"
    }
   ],
   "source": [
    "def loading_data():\n",
    "    return pd.read_csv('../../data/processed/exercise.csv')\n",
    "\n",
    "dictionary = pd.read_csv('../../data/external/dictionary.csv')\n",
    "\n",
    "df = loading_data()\n",
    "df"
   ]
  },
  {
   "cell_type": "markdown",
   "id": "cb935a31",
   "metadata": {},
   "source": [
    "### Processing of missing data"
   ]
  },
  {
   "cell_type": "code",
   "execution_count": 240,
   "id": "6b576b4ea2ff4cf1",
   "metadata": {
    "ExecuteTime": {
     "end_time": "2024-05-03T22:27:22.540791174Z",
     "start_time": "2024-05-03T22:27:22.522221963Z"
    },
    "collapsed": false
   },
   "outputs": [
    {
     "data": {
      "text/html": [
       "<div>\n",
       "<style scoped>\n",
       "    .dataframe tbody tr th:only-of-type {\n",
       "        vertical-align: middle;\n",
       "    }\n",
       "\n",
       "    .dataframe tbody tr th {\n",
       "        vertical-align: top;\n",
       "    }\n",
       "\n",
       "    .dataframe thead th {\n",
       "        text-align: right;\n",
       "    }\n",
       "</style>\n",
       "<table border=\"1\" class=\"dataframe\">\n",
       "  <thead>\n",
       "    <tr style=\"text-align: right;\">\n",
       "      <th></th>\n",
       "      <th>pulse</th>\n",
       "      <th>time</th>\n",
       "    </tr>\n",
       "  </thead>\n",
       "  <tbody>\n",
       "    <tr>\n",
       "      <th>count</th>\n",
       "      <td>90.000000</td>\n",
       "      <td>90.000000</td>\n",
       "    </tr>\n",
       "    <tr>\n",
       "      <th>mean</th>\n",
       "      <td>99.700000</td>\n",
       "      <td>15.333333</td>\n",
       "    </tr>\n",
       "    <tr>\n",
       "      <th>std</th>\n",
       "      <td>14.858471</td>\n",
       "      <td>11.907886</td>\n",
       "    </tr>\n",
       "    <tr>\n",
       "      <th>min</th>\n",
       "      <td>80.000000</td>\n",
       "      <td>1.000000</td>\n",
       "    </tr>\n",
       "    <tr>\n",
       "      <th>25%</th>\n",
       "      <td>90.250000</td>\n",
       "      <td>1.000000</td>\n",
       "    </tr>\n",
       "    <tr>\n",
       "      <th>50%</th>\n",
       "      <td>96.000000</td>\n",
       "      <td>15.000000</td>\n",
       "    </tr>\n",
       "    <tr>\n",
       "      <th>75%</th>\n",
       "      <td>103.000000</td>\n",
       "      <td>30.000000</td>\n",
       "    </tr>\n",
       "    <tr>\n",
       "      <th>max</th>\n",
       "      <td>150.000000</td>\n",
       "      <td>30.000000</td>\n",
       "    </tr>\n",
       "  </tbody>\n",
       "</table>\n",
       "</div>"
      ],
      "text/plain": [
       "            pulse       time\n",
       "count   90.000000  90.000000\n",
       "mean    99.700000  15.333333\n",
       "std     14.858471  11.907886\n",
       "min     80.000000   1.000000\n",
       "25%     90.250000   1.000000\n",
       "50%     96.000000  15.000000\n",
       "75%    103.000000  30.000000\n",
       "max    150.000000  30.000000"
      ]
     },
     "metadata": {},
     "output_type": "display_data"
    },
    {
     "data": {
      "text/html": [
       "<div>\n",
       "<style scoped>\n",
       "    .dataframe tbody tr th:only-of-type {\n",
       "        vertical-align: middle;\n",
       "    }\n",
       "\n",
       "    .dataframe tbody tr th {\n",
       "        vertical-align: top;\n",
       "    }\n",
       "\n",
       "    .dataframe thead th {\n",
       "        text-align: right;\n",
       "    }\n",
       "</style>\n",
       "<table border=\"1\" class=\"dataframe\">\n",
       "  <thead>\n",
       "    <tr style=\"text-align: right;\">\n",
       "      <th></th>\n",
       "      <th>id</th>\n",
       "      <th>diet</th>\n",
       "      <th>pulse</th>\n",
       "      <th>time</th>\n",
       "      <th>kind</th>\n",
       "    </tr>\n",
       "  </thead>\n",
       "  <tbody>\n",
       "    <tr>\n",
       "      <th>0</th>\n",
       "      <td>0</td>\n",
       "      <td>0</td>\n",
       "      <td>0</td>\n",
       "      <td>0</td>\n",
       "      <td>0</td>\n",
       "    </tr>\n",
       "  </tbody>\n",
       "</table>\n",
       "</div>"
      ],
      "text/plain": [
       "   id  diet  pulse  time  kind\n",
       "0   0     0      0     0     0"
      ]
     },
     "execution_count": 240,
     "metadata": {},
     "output_type": "execute_result"
    }
   ],
   "source": [
    "pd.concat([df.isnull().sum(), display(df[['pulse', 'time']].describe())], axis=1).T"
   ]
  },
  {
   "cell_type": "code",
   "execution_count": 241,
   "id": "76b6a1c8",
   "metadata": {},
   "outputs": [],
   "source": [
    "mean = df[['pulse', 'time']].mean()\n",
    "std = df[['pulse', 'time']].std()"
   ]
  },
  {
   "cell_type": "code",
   "execution_count": 242,
   "id": "1185d1a3117ab1f4",
   "metadata": {
    "ExecuteTime": {
     "end_time": "2024-05-03T22:27:23.686769614Z",
     "start_time": "2024-05-03T22:27:23.656992548Z"
    },
    "collapsed": false
   },
   "outputs": [
    {
     "data": {
      "text/plain": [
       "'No missing values, entering...'"
      ]
     },
     "metadata": {},
     "output_type": "display_data"
    }
   ],
   "source": [
    "def impute_missing_data():\n",
    "    df = loading_data()\n",
    "    if df.isnull().sum().sum() == 0:\n",
    "        display('No missing values, entering...')\n",
    "        missing_rate = .4\n",
    "        columns = ['pulse', 'time']\n",
    "        for column in columns:\n",
    "            missing_rows = np.random.choice(\n",
    "                range(df.shape[0]),\n",
    "                size=int(df.shape[0] * missing_rate),\n",
    "                replace=False\n",
    "            )\n",
    "            df.loc[missing_rows, column] = np.NaN\n",
    "    return df.isnull().sum(), df\n",
    "\n",
    "_, df = impute_missing_data()\n",
    "df = df"
   ]
  },
  {
   "cell_type": "code",
   "execution_count": 243,
   "id": "20b58002474eebb5",
   "metadata": {
    "ExecuteTime": {
     "end_time": "2024-05-03T22:27:27.790429452Z",
     "start_time": "2024-05-03T22:27:27.789521669Z"
    },
    "collapsed": false
   },
   "outputs": [
    {
     "name": "stdout",
     "output_type": "stream",
     "text": [
      "removing lines:  (37, 5)\n",
      "removing columns:  (90, 3)\n"
     ]
    }
   ],
   "source": [
    "print('removing lines: ', df.dropna().shape)\n",
    "print('removing columns: ', df.dropna(axis=1).shape)"
   ]
  },
  {
   "cell_type": "code",
   "execution_count": 244,
   "id": "ff5a2ce9",
   "metadata": {},
   "outputs": [
    {
     "data": {
      "text/html": [
       "<div>\n",
       "<style scoped>\n",
       "    .dataframe tbody tr th:only-of-type {\n",
       "        vertical-align: middle;\n",
       "    }\n",
       "\n",
       "    .dataframe tbody tr th {\n",
       "        vertical-align: top;\n",
       "    }\n",
       "\n",
       "    .dataframe thead th {\n",
       "        text-align: right;\n",
       "    }\n",
       "</style>\n",
       "<table border=\"1\" class=\"dataframe\">\n",
       "  <thead>\n",
       "    <tr style=\"text-align: right;\">\n",
       "      <th></th>\n",
       "      <th>pulse</th>\n",
       "      <th>time</th>\n",
       "    </tr>\n",
       "  </thead>\n",
       "  <tbody>\n",
       "    <tr>\n",
       "      <th>0</th>\n",
       "      <td>85.0</td>\n",
       "      <td>1.0</td>\n",
       "    </tr>\n",
       "    <tr>\n",
       "      <th>1</th>\n",
       "      <td>NaN</td>\n",
       "      <td>15.0</td>\n",
       "    </tr>\n",
       "    <tr>\n",
       "      <th>2</th>\n",
       "      <td>88.0</td>\n",
       "      <td>30.0</td>\n",
       "    </tr>\n",
       "    <tr>\n",
       "      <th>3</th>\n",
       "      <td>NaN</td>\n",
       "      <td>1.0</td>\n",
       "    </tr>\n",
       "    <tr>\n",
       "      <th>4</th>\n",
       "      <td>NaN</td>\n",
       "      <td>15.0</td>\n",
       "    </tr>\n",
       "    <tr>\n",
       "      <th>...</th>\n",
       "      <td>...</td>\n",
       "      <td>...</td>\n",
       "    </tr>\n",
       "    <tr>\n",
       "      <th>85</th>\n",
       "      <td>NaN</td>\n",
       "      <td>15.0</td>\n",
       "    </tr>\n",
       "    <tr>\n",
       "      <th>86</th>\n",
       "      <td>NaN</td>\n",
       "      <td>30.0</td>\n",
       "    </tr>\n",
       "    <tr>\n",
       "      <th>87</th>\n",
       "      <td>NaN</td>\n",
       "      <td>NaN</td>\n",
       "    </tr>\n",
       "    <tr>\n",
       "      <th>88</th>\n",
       "      <td>NaN</td>\n",
       "      <td>NaN</td>\n",
       "    </tr>\n",
       "    <tr>\n",
       "      <th>89</th>\n",
       "      <td>150.0</td>\n",
       "      <td>30.0</td>\n",
       "    </tr>\n",
       "  </tbody>\n",
       "</table>\n",
       "<p>90 rows × 2 columns</p>\n",
       "</div>"
      ],
      "text/plain": [
       "    pulse  time\n",
       "0    85.0   1.0\n",
       "1     NaN  15.0\n",
       "2    88.0  30.0\n",
       "3     NaN   1.0\n",
       "4     NaN  15.0\n",
       "..    ...   ...\n",
       "85    NaN  15.0\n",
       "86    NaN  30.0\n",
       "87    NaN   NaN\n",
       "88    NaN   NaN\n",
       "89  150.0  30.0\n",
       "\n",
       "[90 rows x 2 columns]"
      ]
     },
     "execution_count": 244,
     "metadata": {},
     "output_type": "execute_result"
    }
   ],
   "source": [
    "df[['pulse', 'time']]"
   ]
  },
  {
   "cell_type": "code",
   "execution_count": 245,
   "id": "4f4d17819650e7bc",
   "metadata": {
    "ExecuteTime": {
     "end_time": "2024-05-03T19:59:42.723634047Z",
     "start_time": "2024-05-03T19:59:42.679928111Z"
    },
    "collapsed": false
   },
   "outputs": [
    {
     "data": {
      "text/plain": [
       "['diet', 'kind', '-', 'pulse', 'time']"
      ]
     },
     "execution_count": 245,
     "metadata": {},
     "output_type": "execute_result"
    }
   ],
   "source": [
    "qualitative_variables = (\n",
    "    dictionary\n",
    "    .query(\"tipo == 'qualitativa'\")\n",
    "    .variavel\n",
    "    .to_list()\n",
    ")\n",
    "quantitative_variables = (\n",
    "    dictionary\n",
    "    .query(\"tipo == 'quantitativa'\")\n",
    "    .variavel\n",
    "    .to_list()\n",
    ")\n",
    "quantitative_variables.remove('id')\n",
    "qualitative_variables + ['-'] + quantitative_variables"
   ]
  },
  {
   "cell_type": "code",
   "execution_count": 246,
   "id": "7761200daea4a909",
   "metadata": {
    "ExecuteTime": {
     "end_time": "2024-05-03T20:25:39.041738188Z",
     "start_time": "2024-05-03T20:25:38.989394054Z"
    },
    "collapsed": false
   },
   "outputs": [
    {
     "name": "stdout",
     "output_type": "stream",
     "text": [
      "99.7 15.333333333333334 14.858470893849434 11.907886160397602\n",
      "[97.18888889 15.98888889] [11.06635988  8.77559044]\n"
     ]
    }
   ],
   "source": [
    "from sklearn.impute import SimpleImputer\n",
    "\n",
    "simple_imputer = SimpleImputer(strategy='most_frequent')\n",
    "simple_imputer.fit(df[quantitative_variables])\n",
    "df2 = simple_imputer.transform(df[quantitative_variables])\n",
    "\n",
    "print(mean[0],mean[1], std[0],std[1])\n",
    "print(df2.mean(axis=0), df2.std(axis=0))"
   ]
  },
  {
   "cell_type": "code",
   "execution_count": 247,
   "id": "9876e9283c78df59",
   "metadata": {
    "ExecuteTime": {
     "end_time": "2024-05-03T22:25:52.838049048Z",
     "start_time": "2024-05-03T22:25:52.792677266Z"
    },
    "collapsed": false
   },
   "outputs": [
    {
     "data": {
      "text/plain": [
       "'No missing values, entering...'"
      ]
     },
     "metadata": {},
     "output_type": "display_data"
    },
    {
     "name": "stdout",
     "output_type": "stream",
     "text": [
      "99.7 15.333333333333334 14.858470893849434 11.907886160397602\n",
      "[99.66395062 16.90765432] [11.6074197  10.05582065]\n"
     ]
    }
   ],
   "source": [
    "from sklearn.impute import KNNImputer\n",
    "_, df = impute_missing_data()\n",
    "df = df\n",
    "\n",
    "knn_imputer = KNNImputer(n_neighbors=5)\n",
    "knn_imputer.fit(df[quantitative_variables])\n",
    "df3 = knn_imputer.transform(df[quantitative_variables])\n",
    "\n",
    "print(mean[0],mean[1], std[0],std[1])\n",
    "print(df3.mean(axis=0), df3.std(axis=0))"
   ]
  },
  {
   "cell_type": "code",
   "execution_count": 248,
   "id": "bd38d0bc79e24c33",
   "metadata": {
    "ExecuteTime": {
     "end_time": "2024-05-03T22:39:24.411517541Z",
     "start_time": "2024-05-03T22:39:24.269000156Z"
    },
    "collapsed": false
   },
   "outputs": [
    {
     "data": {
      "text/plain": [
       "'No missing values, entering...'"
      ]
     },
     "metadata": {},
     "output_type": "display_data"
    },
    {
     "name": "stdout",
     "output_type": "stream",
     "text": [
      "99.7 15.333333333333334 14.858470893849434 11.907886160397602\n",
      "[99.5177449  15.46463726] [11.90924661  9.1808329 ]\n"
     ]
    }
   ],
   "source": [
    "from sklearn.experimental import enable_iterative_imputer\n",
    "from sklearn.impute import IterativeImputer\n",
    "from sklearn.linear_model import LinearRegression\n",
    "_, df = impute_missing_data()\n",
    "df = df\n",
    "\n",
    "iterative_imputer = IterativeImputer(estimator=LinearRegression()) \n",
    "iterative_imputer.fit(df[quantitative_variables])\n",
    "df4 = iterative_imputer.transform(df[quantitative_variables])\n",
    "\n",
    "print(mean[0],mean[1], std[0],std[1])\n",
    "print(df4.mean(axis=0), df4.std(axis=0))"
   ]
  },
  {
   "cell_type": "markdown",
   "id": "89e1a4fd",
   "metadata": {},
   "source": [
    "### Handling discrepant data"
   ]
  },
  {
   "cell_type": "code",
   "execution_count": 249,
   "id": "8613feac",
   "metadata": {},
   "outputs": [
    {
     "data": {
      "text/plain": [
       "<Axes: >"
      ]
     },
     "execution_count": 249,
     "metadata": {},
     "output_type": "execute_result"
    },
    {
     "data": {
      "image/png": "[encoded data removed]",
      "text/plain": [
       "<Figure size 640x480 with 2 Axes>"
      ]
     },
     "metadata": {},
     "output_type": "display_data"
    }
   ],
   "source": [
    "sns.heatmap(df[['pulse', 'time']].corr(),annot=True)"
   ]
  },
  {
   "cell_type": "code",
   "execution_count": 250,
   "id": "adfd454898311aa2",
   "metadata": {
    "collapsed": false
   },
   "outputs": [
    {
     "data": {
      "text/plain": [
       "[<matplotlib.lines.Line2D at 0x743473b198d0>]"
      ]
     },
     "execution_count": 250,
     "metadata": {},
     "output_type": "execute_result"
    },
    {
     "data": {
      "image/png": "[encoded data removed]",
      "text/plain": [
       "<Figure size 640x480 with 1 Axes>"
      ]
     },
     "metadata": {},
     "output_type": "display_data"
    }
   ],
   "source": [
    "df = loading_data()\n",
    "\n",
    "x = df['time'].values\n",
    "y = df['pulse'].values\n",
    "# y[-1] = y[-1] * 2\n",
    "\n",
    "plt.plot(x, y, '.')"
   ]
  },
  {
   "cell_type": "code",
   "execution_count": 251,
   "id": "dc295223",
   "metadata": {},
   "outputs": [
    {
     "data": {
      "text/plain": [
       "array([0.99487718, 0.99487718, 0.79184102, 0.65648358, 0.52112614,\n",
       "       0.45344742, 0.18273254, 0.18273254, 0.3857687 , 1.33327078,\n",
       "       1.19791334, 1.13023462, 0.58880486, 0.52112614, 0.58880486,\n",
       "       1.13023462, 1.13023462, 1.0625559 , 0.85951974, 0.79184102,\n",
       "       0.65648358, 0.52112614, 0.3857687 , 0.31808998, 0.18273254,\n",
       "       0.0473751 , 0.25041126, 0.02030362, 0.18273254, 0.02030362,\n",
       "       0.92719846, 0.92719846, 1.0625559 , 0.45344742, 0.22333977,\n",
       "       0.29101849, 0.65648358, 0.52112614, 0.45344742, 0.31808998,\n",
       "       0.25041126, 0.02030362, 0.7241623 , 0.25041126, 0.31808998,\n",
       "       1.0625559 , 0.92719846, 0.7241623 , 0.22333977, 0.62941209,\n",
       "       0.65648358, 0.52112614, 0.25041126, 0.08798234, 0.18273254,\n",
       "       0.11505382, 0.02030362, 0.15566105, 0.29101849, 0.22333977,\n",
       "       0.45344742, 0.11505382, 0.69709081, 0.11505382, 0.29101849,\n",
       "       0.83244825, 0.11505382, 0.35869721, 0.0473751 , 0.85951974,\n",
       "       2.18602264, 1.37387801, 0.3857687 , 0.69709081, 1.10316313,\n",
       "       0.31808998, 1.77995032, 2.93048856, 0.02030362, 1.77995032,\n",
       "       2.7274524 , 0.22333977, 1.64459289, 2.7274524 , 0.3857687 ,\n",
       "       2.3890588 , 2.0506652 , 0.0473751 , 0.76476953, 3.40423959])"
      ]
     },
     "execution_count": 251,
     "metadata": {},
     "output_type": "execute_result"
    }
   ],
   "source": [
    "y_mean = y.mean()\n",
    "y_std = y.std()\n",
    "z_score = np.abs(y - y_mean) / y_std\n",
    "z_score"
   ]
  },
  {
   "cell_type": "code",
   "execution_count": 252,
   "id": "c4482fc6",
   "metadata": {},
   "outputs": [
    {
     "data": {
      "text/plain": [
       "((89,), (89,))"
      ]
     },
     "execution_count": 252,
     "metadata": {},
     "output_type": "execute_result"
    }
   ],
   "source": [
    "x_without_anomalies = x[z_score <= 3]\n",
    "y_witout_anomalies = y[z_score <= 3]\n",
    "\n",
    "x_without_anomalies.shape, y_witout_anomalies.shape"
   ]
  },
  {
   "cell_type": "code",
   "execution_count": 253,
   "id": "48c9a8ee",
   "metadata": {},
   "outputs": [
    {
     "data": {
      "image/png": "[encoded data removed]",
      "text/plain": [
       "<Figure size 640x480 with 1 Axes>"
      ]
     },
     "metadata": {},
     "output_type": "display_data"
    }
   ],
   "source": [
    "from sklearn.linear_model import LinearRegression\n",
    "\n",
    "model = LinearRegression()\n",
    "\n",
    "model.fit(x.reshape(-1, 1), y.reshape(-1, 1))\n",
    "\n",
    "y_hat = model.predict(x.reshape(-1, 1))\n",
    "\n",
    "plt.scatter(x, y)\n",
    "plt.plot(x, y_hat, color='red')\n",
    "plt.show()"
   ]
  },
  {
   "cell_type": "code",
   "execution_count": null,
   "id": "b92c58ab",
   "metadata": {},
   "outputs": [],
   "source": []
  }
 ],
 "metadata": {
  "kernelspec": {
   "display_name": "Python 3",
   "language": "python",
   "name": "python3"
  },
  "language_info": {
   "codemirror_mode": {
    "name": "ipython",
    "version": 3
   },
   "file_extension": ".py",
   "mimetype": "text/x-python",
   "name": "python",
   "nbconvert_exporter": "python",
   "pygments_lexer": "ipython3",
   "version": "3.10.0"
  }
 },
 "nbformat": 4,
 "nbformat_minor": 5
}
