{
 "cells": [
  {
   "cell_type": "markdown",
   "metadata": {},
   "source": [
    "# Análise exploratória de dados"
   ]
  },
  {
   "cell_type": "code",
   "execution_count": 1,
   "metadata": {
    "ExecuteTime": {
     "end_time": "2024-04-24T18:53:56.163070790Z",
     "start_time": "2024-04-24T18:53:56.113303206Z"
    }
   },
   "outputs": [],
   "source": [
    "from IPython.display import display, Markdown\n",
    "import numpy as np\n",
    "import pandas as pd\n",
    "import matplotlib.pyplot as plt\n",
    "import seaborn as sns\n",
    "\n",
    "colors = [\"#9467bd\", \"#057476\", \"#FF7A00\"]\n",
    "# sns.set_style(\"whitegrid\")\n",
    "sns.set_theme(style=\"ticks\")\n",
    "sns.set_palette(sns.color_palette(colors))"
   ]
  },
  {
   "cell_type": "markdown",
   "metadata": {},
   "source": [
    "## 1. Coleta de dados"
   ]
  },
  {
   "cell_type": "code",
   "execution_count": 2,
   "metadata": {
    "ExecuteTime": {
     "end_time": "2024-04-24T18:53:58.041737889Z",
     "start_time": "2024-04-24T18:53:57.975215680Z"
    }
   },
   "outputs": [],
   "source": [
    "df = sns.load_dataset('exercise')\n",
    "## df.to_csv('../../data/raw/exercise.csv', index=False)\n",
    "df.head()"
   ]
  },
  {
   "cell_type": "markdown",
   "metadata": {},
   "source": [
    "## 2. Tratamento de dados"
   ]
  },
  {
   "cell_type": "code",
   "execution_count": 3,
   "metadata": {
    "ExecuteTime": {
     "end_time": "2024-04-24T18:54:01.282674136Z",
     "start_time": "2024-04-24T18:54:01.250077589Z"
    }
   },
   "outputs": [],
   "source": [
    "df = df.iloc[:,1:6]\n",
    "df['time'] = df['time'].str.replace('min','')\n",
    "df['time'] = pd.to_numeric(df['time'])\n",
    "df"
   ]
  },
  {
   "cell_type": "code",
   "execution_count": 4,
   "metadata": {
    "ExecuteTime": {
     "end_time": "2024-04-24T16:58:24.898051014Z",
     "start_time": "2024-04-24T16:58:24.754871411Z"
    }
   },
   "outputs": [],
   "source": [
    "print(df.info())"
   ]
  },
  {
   "cell_type": "markdown",
   "metadata": {},
   "source": [
    "## 3. Descrição dos dados"
   ]
  },
  {
   "cell_type": "markdown",
   "metadata": {},
   "source": [
    "- O conjunto de dados **exercise** é um conjunto de dados incorporado na biblioteca Seaborn, comumente usada para visualização de dados em Python. Este conjunto de dados contém informações sobre um experimento que mede a taxa metabólica de voluntários enquanto eles executam diferentes atividades físicas.\n",
    "\n",
    "    - Colunas presente no conjunto de dados: \n",
    "    1. **id**: Um identificador único para cada voluntário.\n",
    "    2. **diet:** O tipo de dieta que o voluntário segue, podendo ser 'no fat' (sem gordura) ou 'low fat' (baixa gordura).\n",
    "    3. **pulse:** A taxa metabólica basal do voluntário, medida em batimentos por minuto.\n",
    "    4. **time:** O tempo em minutos que o voluntário gastou realizando a atividade física.\n",
    "    5. **kind:** O tipo de atividade física realizada pelo voluntário. Pode ser 'rest' (repouso), 'walking' (caminhada) ou 'running' (corrida).\n"
   ]
  },
  {
   "cell_type": "markdown",
   "metadata": {},
   "source": [
    "### 3.1 Dicionário de dados"
   ]
  },
  {
   "cell_type": "code",
   "execution_count": 5,
   "metadata": {
    "ExecuteTime": {
     "end_time": "2024-04-24T18:54:22.367079533Z",
     "start_time": "2024-04-24T18:54:22.286769186Z"
    }
   },
   "outputs": [],
   "source": [
    "dicionario = pd.DataFrame([\n",
    "    {\n",
    "        \"variavel\": \"id\",\n",
    "        \"descricao\": \"Um identificador único para cada voluntário\",\n",
    "        \"tipo\":\"quantitativa\",\n",
    "        \"subtipo\":\"discreta\"\n",
    "    },{\n",
    "        \"variavel\": \"diet\",\n",
    "        \"descricao\": \"O tipo de dieta que o voluntário segue, podendo ser 'no fat' (sem gordura) ou 'low fat' (baixa gordura)\",\n",
    "        \"tipo\":\"qualitativa\",\n",
    "        \"subtipo\":\"nominal\"\n",
    "    },{\n",
    "        \"variavel\": \"pulse\",\n",
    "        \"descricao\": \"A taxa metabólica basal do voluntário, medida em batimentos por minuto\",\n",
    "        \"tipo\":\"quantitativa\",\n",
    "        \"subtipo\":\"contínua\"\n",
    "    },{\n",
    "        \"variavel\": \"time\",\n",
    "        \"descricao\": \"O tempo em minutos que o voluntário gastou realizando a atividade física\",\n",
    "        \"tipo\":\"quantitativa\",\n",
    "        \"subtipo\":\"discreta\"\n",
    "    },{\n",
    "        \"variavel\": \"kind\",\n",
    "        \"descricao\": \"O tipo de atividade física realizada pelo voluntário. Pode ser 'rest' (repouso), 'walking' (caminhada) ou 'running' (corrida)\",\n",
    "        \"tipo\":\"qualitativa\",\n",
    "        \"subtipo\":\"nominal\"\n",
    "    }\n",
    "])\n",
    "dicionario.to_csv('../../data/external/dictionary.csv', index=False)\n",
    "dicionario"
   ]
  },
  {
   "cell_type": "markdown",
   "metadata": {},
   "source": [
    "---\n",
    "  - São 5 variáveis, com 2 qualitativas nominais, 2 quantitativas discretas, 1 quantitativa contínua\n",
    "---"
   ]
  },
  {
   "cell_type": "markdown",
   "metadata": {},
   "source": [
    "## 4. Perguntas de partida e hipóteses\n",
    "- Existem dados faltantes, se sim quantos e em quais variáveis?\n",
    "- Qual a distribuição dos dados (variável por variável)?\n",
    "- Existe alguma relação entre o tipo de dieta e a taxa metabólica dos voluntários durante diferentes tipos de atividades físicas?\n",
    "- Há alguma diferença na taxa metabólica dos voluntários durante diferentes tipos de atividades físicas, considerando o tempo gasto?\n",
    "- A taxa metabólica dos voluntários varia entre os diferentes tipos de dieta, independentemente do tipo de atividade física?\n",
    "- Existe alguma correlação entre o tempo gasto em atividades físicas e a taxa metabólica dos voluntários?"
   ]
  },
  {
   "cell_type": "markdown",
   "metadata": {},
   "source": [
    "### Existem dados faltantes, se sim quantos e em quais variáveis?"
   ]
  },
  {
   "cell_type": "code",
   "execution_count": 6,
   "metadata": {
    "ExecuteTime": {
     "end_time": "2024-04-24T16:58:25.237329383Z",
     "start_time": "2024-04-24T16:58:24.972030361Z"
    }
   },
   "outputs": [],
   "source": [
    "number_of_na_by_column = df.isnull().sum().loc[lambda x: x > 0]\n",
    "number_of_na_rows = df.isnull().any(axis=1).sum()\n",
    "\n",
    "display(number_of_na_by_column)\n",
    "display(Markdown(\n",
    "    \"---\\n\"\n",
    "    f\"A partir dessa informação sabemos que as variáveis `{number_of_na_by_column.axes[0].to_list()}`\"\n",
    "    f\"contém valores faltantes. Além disso sabemos que temos `{number_of_na_rows}` linhas com valores faltantes.\"\n",
    "    \"As próximas análises aqui serão realizadas sem considerar os dados faltantes\"\n",
    "    \"\\n\\n ---\"\n",
    "))\n",
    "\n",
    "df.dropna(inplace=True)"
   ]
  },
  {
   "cell_type": "markdown",
   "metadata": {},
   "source": [
    "### Qual a distribuição dos dados (variável por variável)?\n",
    "\n",
    "Iniciaremos com as estatísticas descritivas e posteriormente com visualizações das distribuições."
   ]
  },
  {
   "cell_type": "code",
   "execution_count": 7,
   "metadata": {
    "ExecuteTime": {
     "end_time": "2024-04-24T16:58:25.410524211Z",
     "start_time": "2024-04-24T16:58:25.193377659Z"
    }
   },
   "outputs": [],
   "source": [
    "df.describe(include='all')"
   ]
  },
  {
   "cell_type": "markdown",
   "metadata": {},
   "source": [
    "---\n",
    " - Há 90 observações no conjunto de dados.\n",
    " - Diet existem duas categorias (low fat, no fat) e Kind existem três categorias (rest, walking e running)\n",
    " - A dieta mais comum é \"no fat\", com 45 instâncias.\n",
    " - A atividade mais comum é \"rest\", com 30 instâncias.\n",
    " - O pulso médio é de aproximadamente 99.7, variando de 80 a 150.\n",
    " - O tempo médio é de aproximadamente 15.33, variando de 1 a 30.\n",
    "---"
   ]
  },
  {
   "cell_type": "markdown",
   "metadata": {},
   "source": [
    "##### Distribuição das variáveis qualitativas"
   ]
  },
  {
   "cell_type": "code",
   "execution_count": 8,
   "metadata": {
    "ExecuteTime": {
     "end_time": "2024-04-24T16:58:26.266458639Z",
     "start_time": "2024-04-24T16:58:25.387002268Z"
    }
   },
   "outputs": [],
   "source": [
    "fig, axes = plt.subplots(1, 2, figsize=(12,3))\n",
    "plt.tight_layout(pad=4, w_pad=10, h_pad=5)\n",
    "fig.suptitle('Distribuição de variáveis qualitativas', fontweight='bold')\n",
    "for i, variavel in enumerate(dicionario.query(\"tipo == 'qualitativa'\").variavel.to_list()):\n",
    "    order = df[variavel].value_counts().index\n",
    "    ax = sns.countplot(\n",
    "        data=df,\n",
    "        x=variavel,\n",
    "        ax=axes.flatten()[i],\n",
    "        color=colors[0],\n",
    "        alpha=0.9,\n",
    "        order=order\n",
    "    )\n",
    "    ax.bar_label(\n",
    "        ax.containers[0],\n",
    "        fmt='%.0f',\n",
    "        label_type='center',\n",
    "        color='white'\n",
    "    )\n",
    "    ax.set(frame_on=False)\n",
    "    ax.axhline(0, color=\"k\", clip_on=False)\n",
    "    ax.set_title(f\"Distribuição da variável '{variavel}'\")\n",
    "    ax.set_ylabel('Quantidade')\n",
    "    ax.grid(axis='y', linestyle='-')\n",
    "plt.show()"
   ]
  },
  {
   "cell_type": "markdown",
   "metadata": {},
   "source": [
    "---\n",
    " - A diet está uniforme nas duas categorias\n",
    " - O kind está uniforme nas três categorias\n",
    "---\n",
    "##### Distribuição das variáveis quantitativas"
   ]
  },
  {
   "cell_type": "code",
   "execution_count": 9,
   "metadata": {
    "ExecuteTime": {
     "end_time": "2024-04-24T16:58:27.388303331Z",
     "start_time": "2024-04-24T16:58:26.114067982Z"
    }
   },
   "outputs": [],
   "source": [
    "fig, axes = plt.subplots(3, 1, figsize=(12,5))\n",
    "plt.tight_layout(pad=4, w_pad=10, h_pad=5)\n",
    "fig.suptitle('Distribuição de variáveis quantitativas', fontweight='bold')\n",
    "for i, variavel in enumerate(dicionario.query(\"tipo == 'quantitativa'\").variavel.to_list()):\n",
    "    ax = sns.histplot(\n",
    "        data=df,\n",
    "        x=variavel,\n",
    "        ax=axes.flatten()[i],\n",
    "        color=colors[0],\n",
    "        alpha=0.9,\n",
    "    )\n",
    "    ax.set(frame_on=False)\n",
    "    ax.axhline(0, color=\"k\", clip_on=False)\n",
    "    ax.set_title(f\"Distribuição da variável '{variavel}'\")\n",
    "    plt.xlabel(variavel)\n",
    "    ax.set_ylabel('Quantidade')\n",
    "    ax.grid(axis='y', linestyle='-')\n",
    "    # Customize grid to show only vertical lines\n",
    "plt.show()"
   ]
  },
  {
   "cell_type": "markdown",
   "metadata": {},
   "source": [
    "---\n",
    "   A partir das visualizações acima podemos dizer que:\n",
    " - A distribuição da variável id do voluntário para cada 1 repete 3 vezes, está uniformemente distribuída.\n",
    " - A distribuição da pulse tem valores mais frequentes próximos do 91. \n",
    " - A distribuição de time tem três modas, 1, 15 e 30 estão uniformemente distribuída em número de frequência.\n",
    "---"
   ]
  },
  {
   "cell_type": "markdown",
   "metadata": {},
   "source": [
    "### Existe alguma relação entre o tipo de dieta e a taxa metabólica dos voluntários durante diferentes tipos de atividades físicas?"
   ]
  },
  {
   "cell_type": "code",
   "execution_count": 10,
   "metadata": {
    "ExecuteTime": {
     "end_time": "2024-04-24T16:58:28.586280702Z",
     "start_time": "2024-04-24T16:58:27.372677066Z"
    }
   },
   "outputs": [],
   "source": [
    "fig, axes = plt.subplots(1, 3, figsize=(12,4))\n",
    "plt.tight_layout(pad=4, w_pad=2, h_pad=5)\n",
    "fig.suptitle('Relação entre tipo de dieta, taxa metabólica e tipo de atividade', fontweight='bold')\n",
    "for i, variavel in enumerate(dicionario.query(\"tipo == 'quantitativa'\").variavel.to_list()):\n",
    "    ax = sns.boxplot(\n",
    "        x=\"diet\", \n",
    "        y=variavel, \n",
    "        hue=\"kind\", \n",
    "        data=df, \n",
    "        ax=axes.flatten()[i]\n",
    "    )\n",
    "    handles, labels = plt.gca().get_legend_handles_labels()\n",
    "    ax.grid(axis='y', linestyle='-')\n",
    "    ax.legend([],[], frameon=False)\n",
    "# sns.despine(offset=2, trim=True)\n",
    "fig.legend(handles, labels, loc='lower center', ncol=3)\n",
    "plt.show()"
   ]
  },
  {
   "cell_type": "markdown",
   "metadata": {},
   "source": [
    "---\n",
    " - 1)Existem mais frequências de ids para categoria 'no fat' nos tipos de atividade (rest, walking e running)\n",
    " - 2)No eixo y com pulse na categoria 'no fat' o tipo de atividade corrida demonstra uma mediana e uma máxima maior que as demais categorias\n",
    " - 2)Na categoria 'low fat' os tipos de atividade estão com as mediana aparentemente próximas\n",
    " - 3)O tempo em minuto está uniformemente distribuído nas categorias 'no fat' e 'low fat' entre 1, 15 30  \n",
    "---"
   ]
  },
  {
   "cell_type": "markdown",
   "metadata": {},
   "source": [
    "### Há alguma diferença na taxa metabólica dos voluntários durante diferentes tipos de atividades físicas, considerando o tempo gasto?"
   ]
  },
  {
   "cell_type": "code",
   "execution_count": 11,
   "metadata": {
    "ExecuteTime": {
     "end_time": "2024-04-24T18:05:12.193272817Z",
     "start_time": "2024-04-24T18:05:11.715135675Z"
    }
   },
   "outputs": [],
   "source": [
    "sns.scatterplot(data=df, x=\"time\", y=\"pulse\", hue='kind')"
   ]
  },
  {
   "cell_type": "markdown",
   "metadata": {},
   "source": [
    "---\n",
    " - Quando o tempo está em 1min, a taxa metabólica dos diferentes tipos de atividades ficam pouco disperso, correndo e caminhando são semelhantes\n",
    " - Quando o tempo está em 15min, a taxa metabólica para o tipo de atividade 'correndo' aumenta e fica mais disperso\n",
    " - Quando o tempo está em 30min, a taxa metabólica para o tipo de atividade 'correndo' fica mais elevado comparado aos outros, acima 110\n",
    "---"
   ]
  },
  {
   "cell_type": "markdown",
   "metadata": {},
   "source": [
    "### Taxa metabólica dos voluntários varia entre os diferentes tipos de dieta, independentemente do tipo de atividade física?"
   ]
  },
  {
   "cell_type": "code",
   "execution_count": 12,
   "metadata": {
    "ExecuteTime": {
     "end_time": "2024-04-24T18:33:28.202712548Z",
     "start_time": "2024-04-24T18:33:27.883315260Z"
    }
   },
   "outputs": [],
   "source": [
    "avg_pulse_by_diet = df.groupby('diet')['pulse'].mean()\n",
    "\n",
    "plt.figure(figsize=(8, 6))\n",
    "avg_pulse_by_diet.plot(kind='bar', color=['blue', 'green'], alpha=0.7)\n",
    "\n",
    "plt.title('Taxa Metabólica Média por Tipo de Dieta')\n",
    "plt.xlabel('Tipo de Dieta')\n",
    "plt.ylabel('Taxa Metabólica Média')\n",
    "plt.xticks(rotation=0)\n",
    "plt.show()"
   ]
  },
  {
   "cell_type": "markdown",
   "metadata": {},
   "source": [
    "---\n",
    " - Para as duas categorias 'no fat' e 'low fat' em média para taxa metabólica há pouca diferença\n",
    "---"
   ]
  },
  {
   "cell_type": "markdown",
   "metadata": {},
   "source": [
    "### Existe alguma correlação entre o tempo gasto em atividades físicas e a taxa metabólica dos voluntários?"
   ]
  },
  {
   "cell_type": "code",
   "execution_count": 13,
   "metadata": {
    "ExecuteTime": {
     "end_time": "2024-04-24T18:39:30.725933320Z",
     "start_time": "2024-04-24T18:39:30.359014852Z"
    }
   },
   "outputs": [],
   "source": [
    "df2 = df.iloc[:,1:5]\n",
    "\n",
    "corr = df2.corr()\n",
    "\n",
    "mask = np.triu(np.ones_like(corr, dtype=bool))\n",
    "\n",
    "cmap = sns.diverging_palette(230, 20, as_cmap=True)\n",
    "\n",
    "plt.figure(figsize=(4,4))\n",
    "ax = sns.heatmap(\n",
    "    corr,\n",
    "    mask=mask,\n",
    "    cmap=cmap,\n",
    "    center=0,\n",
    "    square=True,\n",
    "    linewidths=.5,\n",
    "    cbar_kws={\"shrink\": .5},\n",
    "    annot=True, \n",
    "    fmt=\".2f\"\n",
    ")\n",
    "ax.grid(False)\n",
    "\n",
    "plt.suptitle(f\"Correlação entre tempo gasto e taxa metabólica\", fontweight='bold')\n",
    "plt.show()"
   ]
  },
  {
   "cell_type": "markdown",
   "metadata": {},
   "source": [
    "---\n",
    " - Existe uma correlação fraca positiva entre tempo gasto e taxa metabólica\n",
    "---"
   ]
  },
  {
   "cell_type": "code",
   "execution_count": 14,
   "metadata": {
    "ExecuteTime": {
     "end_time": "2024-04-24T18:45:29.050227367Z",
     "start_time": "2024-04-24T18:45:24.770732895Z"
    }
   },
   "outputs": [],
   "source": [
    "sns.pairplot(df, hue=\"kind\")\n",
    "plt.show()"
   ]
  },
  {
   "cell_type": "markdown",
   "metadata": {},
   "source": [
    "## 5. Insights"
   ]
  },
  {
   "cell_type": "markdown",
   "metadata": {},
   "source": [
    "Com a ajuda das visualizações criadas, bem como da análise em relação ao dicionário de dados, as informações mais relevantes que conseguimos adquirir são:\n",
    "\n",
    "1. Diferenças nas Dietas e Atividades:\n",
    "- Parece haver uma tendência de que a categoria 'no fat' seja mais prevalente em todas as atividades (rest, walking e running), indicando possivelmente uma preferência dos participantes por essa dieta.\n",
    "- Para a categoria 'no fat', a atividade de corrida parece resultar em uma taxa metabólica média e máxima mais elevada em comparação com as outras atividades.\n",
    "- Na categoria 'low fat', as medianas das taxas metabólicas parecem ser mais semelhantes entre as diferentes atividades.\n",
    "2. Distribuição do Tempo:\n",
    "- O tempo gasto em minutos parece estar uniformemente distribuído tanto para a categoria 'no fat' quanto para a 'low fat', com o tempo de 1, 15 e 30 minutos sendo igualmente frequente.\n",
    "- Entretanto, quando o tempo é de 30 minutos, parece haver um aumento significativo na taxa metabólica para a atividade de corrida, com valores acima de 110.\n",
    "3. Variação da Taxa Metabólica com o Tempo:\n",
    "- Para um tempo de 1 minuto, as taxas metabólicas para correr e caminhar são semelhantes, indicando uma resposta metabólica inicial rápida para ambas as atividades.\n",
    "- Com um tempo de 15 minutos, a taxa metabólica para correr aumenta e se torna mais dispersa, sugerindo um maior esforço metabólico durante essa atividade em comparação com caminhar e descansar.\n",
    "- Quando o tempo é de 30 minutos, a taxa metabólica para correr é significativamente maior do que para as outras atividades, indicando uma maior demanda metabólica durante corridas mais longas.\n",
    "Comparação entre Dietas:\n",
    "- Em média, parece haver pouca diferença na taxa metabólica entre as categorias 'no fat' e 'low fat'.\n",
    "- A distribuição uniforme das dietas sugere que os participantes foram aleatoriamente atribuídos às diferentes dietas, o que é positivo para a validade dos resultados.\n",
    "4. Correlação entre Tempo e Taxa Metabólica:\n",
    "- Existe uma correlação fraca positiva entre o tempo gasto em uma atividade e a taxa metabólica, o que significa que, em geral, quanto mais tempo um voluntário gasta em uma atividade, maior é sua taxa metabólica. No entanto, essa relação não é muito forte."
   ]
  },
  {
   "cell_type": "markdown",
   "metadata": {},
   "source": [
    "## 6. Observação\n",
    "N/A"
   ]
  }
 ],
 "metadata": {
  "kernelspec": {
   "display_name": "Python 3 (ipykernel)",
   "language": "python",
   "name": "python3"
  },
  "language_info": {
   "codemirror_mode": {
    "name": "ipython",
    "version": 3
   },
   "file_extension": ".py",
   "mimetype": "text/x-python",
   "name": "python",
   "nbconvert_exporter": "python",
   "pygments_lexer": "ipython3",
   "version": "3.10.12"
  },
  "vscode": {
   "interpreter": {
    "hash": "eb3c3305d8b111f0102f4f519c5f17abd113fe74db6752c355e994a9008815ef"
   }
  }
 },
 "nbformat": 4,
 "nbformat_minor": 2
}
