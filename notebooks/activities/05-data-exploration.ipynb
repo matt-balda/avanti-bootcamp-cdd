{
 "cells": [
  {
   "cell_type": "markdown",
   "metadata": {},
   "source": [
    "# Análise exploratória de dados"
   ]
  },
  {
   "cell_type": "code",
   "execution_count": 2,
   "metadata": {},
   "outputs": [
    {
     "name": "stdout",
     "output_type": "stream",
     "text": [
      "Requirement already satisfied: plotly in /home/balda/avanti-bootcamp/venv/lib/python3.10/site-packages (5.22.0)\n",
      "Requirement already satisfied: tenacity>=6.2.0 in /home/balda/avanti-bootcamp/venv/lib/python3.10/site-packages (from plotly) (8.2.3)\n",
      "Requirement already satisfied: packaging in /home/balda/avanti-bootcamp/venv/lib/python3.10/site-packages (from plotly) (23.1)\n",
      "\n",
      "\u001b[1m[\u001b[0m\u001b[34;49mnotice\u001b[0m\u001b[1;39;49m]\u001b[0m\u001b[39;49m A new release of pip is available: \u001b[0m\u001b[31;49m23.2.1\u001b[0m\u001b[39;49m -> \u001b[0m\u001b[32;49m24.0\u001b[0m\n",
      "\u001b[1m[\u001b[0m\u001b[34;49mnotice\u001b[0m\u001b[1;39;49m]\u001b[0m\u001b[39;49m To update, run: \u001b[0m\u001b[32;49mpip install --upgrade pip\u001b[0m\n"
     ]
    }
   ],
   "source": [
    "!pip install plotly"
   ]
  },
  {
   "cell_type": "code",
   "execution_count": 3,
   "metadata": {
    "ExecuteTime": {
     "end_time": "2024-05-03T19:29:21.267147411Z",
     "start_time": "2024-05-03T19:29:21.255772194Z"
    }
   },
   "outputs": [],
   "source": [
    "# imports libraries\n",
    "from IPython.display import display, Markdown\n",
    "import numpy as np\n",
    "import pandas as pd\n",
    "import matplotlib.pyplot as plt\n",
    "import seaborn as sns\n",
    "import plotly.express as px\n",
    "\n",
    "colors = [\"#9467bd\", \"#057476\", \"#FF7A00\"]\n",
    "# sns.set_style(\"whitegrid\")\n",
    "sns.set_theme(style=\"ticks\")\n",
    "sns.set_palette(sns.color_palette(colors))"
   ]
  },
  {
   "cell_type": "markdown",
   "metadata": {},
   "source": [
    "## 1. Coleta de dados"
   ]
  },
  {
   "cell_type": "code",
   "execution_count": 4,
   "metadata": {
    "ExecuteTime": {
     "end_time": "2024-05-03T19:29:23.289194280Z",
     "start_time": "2024-05-03T19:29:23.232987169Z"
    }
   },
   "outputs": [
    {
     "data": {
      "text/html": [
       "<div>\n",
       "<style scoped>\n",
       "    .dataframe tbody tr th:only-of-type {\n",
       "        vertical-align: middle;\n",
       "    }\n",
       "\n",
       "    .dataframe tbody tr th {\n",
       "        vertical-align: top;\n",
       "    }\n",
       "\n",
       "    .dataframe thead th {\n",
       "        text-align: right;\n",
       "    }\n",
       "</style>\n",
       "<table border=\"1\" class=\"dataframe\">\n",
       "  <thead>\n",
       "    <tr style=\"text-align: right;\">\n",
       "      <th></th>\n",
       "      <th>Unnamed: 0</th>\n",
       "      <th>id</th>\n",
       "      <th>diet</th>\n",
       "      <th>pulse</th>\n",
       "      <th>time</th>\n",
       "      <th>kind</th>\n",
       "    </tr>\n",
       "  </thead>\n",
       "  <tbody>\n",
       "    <tr>\n",
       "      <th>0</th>\n",
       "      <td>0</td>\n",
       "      <td>1</td>\n",
       "      <td>low fat</td>\n",
       "      <td>85</td>\n",
       "      <td>1 min</td>\n",
       "      <td>rest</td>\n",
       "    </tr>\n",
       "    <tr>\n",
       "      <th>1</th>\n",
       "      <td>1</td>\n",
       "      <td>1</td>\n",
       "      <td>low fat</td>\n",
       "      <td>85</td>\n",
       "      <td>15 min</td>\n",
       "      <td>rest</td>\n",
       "    </tr>\n",
       "    <tr>\n",
       "      <th>2</th>\n",
       "      <td>2</td>\n",
       "      <td>1</td>\n",
       "      <td>low fat</td>\n",
       "      <td>88</td>\n",
       "      <td>30 min</td>\n",
       "      <td>rest</td>\n",
       "    </tr>\n",
       "    <tr>\n",
       "      <th>3</th>\n",
       "      <td>3</td>\n",
       "      <td>2</td>\n",
       "      <td>low fat</td>\n",
       "      <td>90</td>\n",
       "      <td>1 min</td>\n",
       "      <td>rest</td>\n",
       "    </tr>\n",
       "    <tr>\n",
       "      <th>4</th>\n",
       "      <td>4</td>\n",
       "      <td>2</td>\n",
       "      <td>low fat</td>\n",
       "      <td>92</td>\n",
       "      <td>15 min</td>\n",
       "      <td>rest</td>\n",
       "    </tr>\n",
       "  </tbody>\n",
       "</table>\n",
       "</div>"
      ],
      "text/plain": [
       "   Unnamed: 0  id     diet  pulse    time  kind\n",
       "0           0   1  low fat     85   1 min  rest\n",
       "1           1   1  low fat     85  15 min  rest\n",
       "2           2   1  low fat     88  30 min  rest\n",
       "3           3   2  low fat     90   1 min  rest\n",
       "4           4   2  low fat     92  15 min  rest"
      ]
     },
     "execution_count": 4,
     "metadata": {},
     "output_type": "execute_result"
    }
   ],
   "source": [
    "df = sns.load_dataset('exercise')\n",
    "## df.to_csv('../../data/raw/exercise.csv', index=False)\n",
    "df.head()"
   ]
  },
  {
   "cell_type": "markdown",
   "metadata": {},
   "source": [
    "## 2. Tratamento de dados"
   ]
  },
  {
   "cell_type": "code",
   "execution_count": 5,
   "metadata": {
    "ExecuteTime": {
     "end_time": "2024-05-03T19:29:31.370547504Z",
     "start_time": "2024-05-03T19:29:31.338603428Z"
    }
   },
   "outputs": [
    {
     "data": {
      "text/html": [
       "<div>\n",
       "<style scoped>\n",
       "    .dataframe tbody tr th:only-of-type {\n",
       "        vertical-align: middle;\n",
       "    }\n",
       "\n",
       "    .dataframe tbody tr th {\n",
       "        vertical-align: top;\n",
       "    }\n",
       "\n",
       "    .dataframe thead th {\n",
       "        text-align: right;\n",
       "    }\n",
       "</style>\n",
       "<table border=\"1\" class=\"dataframe\">\n",
       "  <thead>\n",
       "    <tr style=\"text-align: right;\">\n",
       "      <th></th>\n",
       "      <th>id</th>\n",
       "      <th>diet</th>\n",
       "      <th>pulse</th>\n",
       "      <th>time</th>\n",
       "      <th>kind</th>\n",
       "    </tr>\n",
       "  </thead>\n",
       "  <tbody>\n",
       "    <tr>\n",
       "      <th>0</th>\n",
       "      <td>1</td>\n",
       "      <td>low fat</td>\n",
       "      <td>85</td>\n",
       "      <td>1</td>\n",
       "      <td>rest</td>\n",
       "    </tr>\n",
       "    <tr>\n",
       "      <th>1</th>\n",
       "      <td>1</td>\n",
       "      <td>low fat</td>\n",
       "      <td>85</td>\n",
       "      <td>15</td>\n",
       "      <td>rest</td>\n",
       "    </tr>\n",
       "    <tr>\n",
       "      <th>2</th>\n",
       "      <td>1</td>\n",
       "      <td>low fat</td>\n",
       "      <td>88</td>\n",
       "      <td>30</td>\n",
       "      <td>rest</td>\n",
       "    </tr>\n",
       "    <tr>\n",
       "      <th>3</th>\n",
       "      <td>2</td>\n",
       "      <td>low fat</td>\n",
       "      <td>90</td>\n",
       "      <td>1</td>\n",
       "      <td>rest</td>\n",
       "    </tr>\n",
       "    <tr>\n",
       "      <th>4</th>\n",
       "      <td>2</td>\n",
       "      <td>low fat</td>\n",
       "      <td>92</td>\n",
       "      <td>15</td>\n",
       "      <td>rest</td>\n",
       "    </tr>\n",
       "    <tr>\n",
       "      <th>...</th>\n",
       "      <td>...</td>\n",
       "      <td>...</td>\n",
       "      <td>...</td>\n",
       "      <td>...</td>\n",
       "      <td>...</td>\n",
       "    </tr>\n",
       "    <tr>\n",
       "      <th>85</th>\n",
       "      <td>29</td>\n",
       "      <td>no fat</td>\n",
       "      <td>135</td>\n",
       "      <td>15</td>\n",
       "      <td>running</td>\n",
       "    </tr>\n",
       "    <tr>\n",
       "      <th>86</th>\n",
       "      <td>29</td>\n",
       "      <td>no fat</td>\n",
       "      <td>130</td>\n",
       "      <td>30</td>\n",
       "      <td>running</td>\n",
       "    </tr>\n",
       "    <tr>\n",
       "      <th>87</th>\n",
       "      <td>30</td>\n",
       "      <td>no fat</td>\n",
       "      <td>99</td>\n",
       "      <td>1</td>\n",
       "      <td>running</td>\n",
       "    </tr>\n",
       "    <tr>\n",
       "      <th>88</th>\n",
       "      <td>30</td>\n",
       "      <td>no fat</td>\n",
       "      <td>111</td>\n",
       "      <td>15</td>\n",
       "      <td>running</td>\n",
       "    </tr>\n",
       "    <tr>\n",
       "      <th>89</th>\n",
       "      <td>30</td>\n",
       "      <td>no fat</td>\n",
       "      <td>150</td>\n",
       "      <td>30</td>\n",
       "      <td>running</td>\n",
       "    </tr>\n",
       "  </tbody>\n",
       "</table>\n",
       "<p>90 rows × 5 columns</p>\n",
       "</div>"
      ],
      "text/plain": [
       "    id     diet  pulse  time     kind\n",
       "0    1  low fat     85     1     rest\n",
       "1    1  low fat     85    15     rest\n",
       "2    1  low fat     88    30     rest\n",
       "3    2  low fat     90     1     rest\n",
       "4    2  low fat     92    15     rest\n",
       "..  ..      ...    ...   ...      ...\n",
       "85  29   no fat    135    15  running\n",
       "86  29   no fat    130    30  running\n",
       "87  30   no fat     99     1  running\n",
       "88  30   no fat    111    15  running\n",
       "89  30   no fat    150    30  running\n",
       "\n",
       "[90 rows x 5 columns]"
      ]
     },
     "execution_count": 5,
     "metadata": {},
     "output_type": "execute_result"
    }
   ],
   "source": [
    "df = df.iloc[:,1:6]\n",
    "df['time'] = df['time'].str.replace('min','')\n",
    "df['time'] = pd.to_numeric(df['time'])\n",
    "df.to_csv('../../data/processed/exercise.csv', index=False)\n",
    "df"
   ]
  },
  {
   "cell_type": "code",
   "execution_count": 6,
   "metadata": {
    "ExecuteTime": {
     "end_time": "2024-04-24T16:58:24.898051014Z",
     "start_time": "2024-04-24T16:58:24.754871411Z"
    }
   },
   "outputs": [
    {
     "name": "stdout",
     "output_type": "stream",
     "text": [
      "<class 'pandas.core.frame.DataFrame'>\n",
      "RangeIndex: 90 entries, 0 to 89\n",
      "Data columns (total 5 columns):\n",
      " #   Column  Non-Null Count  Dtype   \n",
      "---  ------  --------------  -----   \n",
      " 0   id      90 non-null     int64   \n",
      " 1   diet    90 non-null     category\n",
      " 2   pulse   90 non-null     int64   \n",
      " 3   time    90 non-null     int64   \n",
      " 4   kind    90 non-null     category\n",
      "dtypes: category(2), int64(3)\n",
      "memory usage: 2.7 KB\n",
      "None\n"
     ]
    }
   ],
   "source": [
    "print(df.info())"
   ]
  },
  {
   "cell_type": "markdown",
   "metadata": {},
   "source": [
    "## 3. Descrição dos dados\n",
    "Segue o link para a descrição dos dados: [Descrição dos dados](https://dainty-froyo-9ce610.netlify.app/data/)"
   ]
  },
  {
   "cell_type": "markdown",
   "metadata": {},
   "source": [
    "### 3.1 Dicionário de dados"
   ]
  },
  {
   "cell_type": "code",
   "execution_count": 7,
   "metadata": {
    "ExecuteTime": {
     "end_time": "2024-04-24T18:54:22.367079533Z",
     "start_time": "2024-04-24T18:54:22.286769186Z"
    }
   },
   "outputs": [
    {
     "data": {
      "text/html": [
       "<div>\n",
       "<style scoped>\n",
       "    .dataframe tbody tr th:only-of-type {\n",
       "        vertical-align: middle;\n",
       "    }\n",
       "\n",
       "    .dataframe tbody tr th {\n",
       "        vertical-align: top;\n",
       "    }\n",
       "\n",
       "    .dataframe thead th {\n",
       "        text-align: right;\n",
       "    }\n",
       "</style>\n",
       "<table border=\"1\" class=\"dataframe\">\n",
       "  <thead>\n",
       "    <tr style=\"text-align: right;\">\n",
       "      <th></th>\n",
       "      <th>variavel</th>\n",
       "      <th>descricao</th>\n",
       "      <th>tipo</th>\n",
       "      <th>subtipo</th>\n",
       "    </tr>\n",
       "  </thead>\n",
       "  <tbody>\n",
       "    <tr>\n",
       "      <th>0</th>\n",
       "      <td>id</td>\n",
       "      <td>Um identificador único para cada voluntário</td>\n",
       "      <td>quantitativa</td>\n",
       "      <td>discreta</td>\n",
       "    </tr>\n",
       "    <tr>\n",
       "      <th>1</th>\n",
       "      <td>diet</td>\n",
       "      <td>O tipo de dieta que o voluntário segue, podend...</td>\n",
       "      <td>qualitativa</td>\n",
       "      <td>nominal</td>\n",
       "    </tr>\n",
       "    <tr>\n",
       "      <th>2</th>\n",
       "      <td>pulse</td>\n",
       "      <td>A pulsação do voluntário, medida em batimentos...</td>\n",
       "      <td>quantitativa</td>\n",
       "      <td>contínua</td>\n",
       "    </tr>\n",
       "    <tr>\n",
       "      <th>3</th>\n",
       "      <td>time</td>\n",
       "      <td>O tempo em minutos que o voluntário gastou rea...</td>\n",
       "      <td>quantitativa</td>\n",
       "      <td>discreta</td>\n",
       "    </tr>\n",
       "    <tr>\n",
       "      <th>4</th>\n",
       "      <td>kind</td>\n",
       "      <td>O tipo de atividade física realizada pelo volu...</td>\n",
       "      <td>qualitativa</td>\n",
       "      <td>nominal</td>\n",
       "    </tr>\n",
       "  </tbody>\n",
       "</table>\n",
       "</div>"
      ],
      "text/plain": [
       "  variavel                                          descricao          tipo  \\\n",
       "0       id        Um identificador único para cada voluntário  quantitativa   \n",
       "1     diet  O tipo de dieta que o voluntário segue, podend...   qualitativa   \n",
       "2    pulse  A pulsação do voluntário, medida em batimentos...  quantitativa   \n",
       "3     time  O tempo em minutos que o voluntário gastou rea...  quantitativa   \n",
       "4     kind  O tipo de atividade física realizada pelo volu...   qualitativa   \n",
       "\n",
       "    subtipo  \n",
       "0  discreta  \n",
       "1   nominal  \n",
       "2  contínua  \n",
       "3  discreta  \n",
       "4   nominal  "
      ]
     },
     "execution_count": 7,
     "metadata": {},
     "output_type": "execute_result"
    }
   ],
   "source": [
    "dicionario = pd.read_csv('../../data/external/dictionary.csv')\n",
    "dicionario"
   ]
  },
  {
   "cell_type": "markdown",
   "metadata": {},
   "source": [
    "## 4. Perguntas de partida e hipóteses"
   ]
  },
  {
   "cell_type": "markdown",
   "metadata": {},
   "source": [
    "### 1. Existem dados faltantes, se sim quantos e em quais variáveis?"
   ]
  },
  {
   "cell_type": "code",
   "execution_count": 8,
   "metadata": {
    "ExecuteTime": {
     "end_time": "2024-04-24T16:58:25.237329383Z",
     "start_time": "2024-04-24T16:58:24.972030361Z"
    }
   },
   "outputs": [
    {
     "data": {
      "text/plain": [
       "Series([], dtype: int64)"
      ]
     },
     "metadata": {},
     "output_type": "display_data"
    },
    {
     "data": {
      "text/markdown": [
       "---\n",
       "A partir dessa informação sabemos que as variáveis `[]`contém valores faltantes. Além disso sabemos que temos `0` linhas com valores faltantes.As próximas análises aqui serão realizadas sem considerar os dados faltantes\n",
       "\n",
       " ---"
      ],
      "text/plain": [
       "<IPython.core.display.Markdown object>"
      ]
     },
     "metadata": {},
     "output_type": "display_data"
    }
   ],
   "source": [
    "number_of_na_by_column = df.isnull().sum().loc[lambda x: x > 0]\n",
    "number_of_na_rows = df.isnull().any(axis=1).sum()\n",
    "\n",
    "display(number_of_na_by_column)\n",
    "display(Markdown(\n",
    "    \"---\\n\"\n",
    "    f\"A partir dessa informação sabemos que as variáveis `{number_of_na_by_column.axes[0].to_list()}`\"\n",
    "    f\"contém valores faltantes. Além disso sabemos que temos `{number_of_na_rows}` linhas com valores faltantes.\"\n",
    "    \"As próximas análises aqui serão realizadas sem considerar os dados faltantes\"\n",
    "    \"\\n\\n ---\"\n",
    "))\n",
    "\n",
    "df.dropna(inplace=True)"
   ]
  },
  {
   "cell_type": "markdown",
   "metadata": {},
   "source": [
    "### 2. Qual a distribuição dos dados (variável por variável)?"
   ]
  },
  {
   "cell_type": "code",
   "execution_count": 9,
   "metadata": {
    "ExecuteTime": {
     "end_time": "2024-04-24T16:58:25.410524211Z",
     "start_time": "2024-04-24T16:58:25.193377659Z"
    }
   },
   "outputs": [
    {
     "data": {
      "text/html": [
       "<div>\n",
       "<style scoped>\n",
       "    .dataframe tbody tr th:only-of-type {\n",
       "        vertical-align: middle;\n",
       "    }\n",
       "\n",
       "    .dataframe tbody tr th {\n",
       "        vertical-align: top;\n",
       "    }\n",
       "\n",
       "    .dataframe thead th {\n",
       "        text-align: right;\n",
       "    }\n",
       "</style>\n",
       "<table border=\"1\" class=\"dataframe\">\n",
       "  <thead>\n",
       "    <tr style=\"text-align: right;\">\n",
       "      <th></th>\n",
       "      <th>id</th>\n",
       "      <th>diet</th>\n",
       "      <th>pulse</th>\n",
       "      <th>time</th>\n",
       "      <th>kind</th>\n",
       "    </tr>\n",
       "  </thead>\n",
       "  <tbody>\n",
       "    <tr>\n",
       "      <th>count</th>\n",
       "      <td>90.000000</td>\n",
       "      <td>90</td>\n",
       "      <td>90.000000</td>\n",
       "      <td>90.000000</td>\n",
       "      <td>90</td>\n",
       "    </tr>\n",
       "    <tr>\n",
       "      <th>unique</th>\n",
       "      <td>NaN</td>\n",
       "      <td>2</td>\n",
       "      <td>NaN</td>\n",
       "      <td>NaN</td>\n",
       "      <td>3</td>\n",
       "    </tr>\n",
       "    <tr>\n",
       "      <th>top</th>\n",
       "      <td>NaN</td>\n",
       "      <td>no fat</td>\n",
       "      <td>NaN</td>\n",
       "      <td>NaN</td>\n",
       "      <td>rest</td>\n",
       "    </tr>\n",
       "    <tr>\n",
       "      <th>freq</th>\n",
       "      <td>NaN</td>\n",
       "      <td>45</td>\n",
       "      <td>NaN</td>\n",
       "      <td>NaN</td>\n",
       "      <td>30</td>\n",
       "    </tr>\n",
       "    <tr>\n",
       "      <th>mean</th>\n",
       "      <td>15.500000</td>\n",
       "      <td>NaN</td>\n",
       "      <td>99.700000</td>\n",
       "      <td>15.333333</td>\n",
       "      <td>NaN</td>\n",
       "    </tr>\n",
       "    <tr>\n",
       "      <th>std</th>\n",
       "      <td>8.703932</td>\n",
       "      <td>NaN</td>\n",
       "      <td>14.858471</td>\n",
       "      <td>11.907886</td>\n",
       "      <td>NaN</td>\n",
       "    </tr>\n",
       "    <tr>\n",
       "      <th>min</th>\n",
       "      <td>1.000000</td>\n",
       "      <td>NaN</td>\n",
       "      <td>80.000000</td>\n",
       "      <td>1.000000</td>\n",
       "      <td>NaN</td>\n",
       "    </tr>\n",
       "    <tr>\n",
       "      <th>25%</th>\n",
       "      <td>8.000000</td>\n",
       "      <td>NaN</td>\n",
       "      <td>90.250000</td>\n",
       "      <td>1.000000</td>\n",
       "      <td>NaN</td>\n",
       "    </tr>\n",
       "    <tr>\n",
       "      <th>50%</th>\n",
       "      <td>15.500000</td>\n",
       "      <td>NaN</td>\n",
       "      <td>96.000000</td>\n",
       "      <td>15.000000</td>\n",
       "      <td>NaN</td>\n",
       "    </tr>\n",
       "    <tr>\n",
       "      <th>75%</th>\n",
       "      <td>23.000000</td>\n",
       "      <td>NaN</td>\n",
       "      <td>103.000000</td>\n",
       "      <td>30.000000</td>\n",
       "      <td>NaN</td>\n",
       "    </tr>\n",
       "    <tr>\n",
       "      <th>max</th>\n",
       "      <td>30.000000</td>\n",
       "      <td>NaN</td>\n",
       "      <td>150.000000</td>\n",
       "      <td>30.000000</td>\n",
       "      <td>NaN</td>\n",
       "    </tr>\n",
       "  </tbody>\n",
       "</table>\n",
       "</div>"
      ],
      "text/plain": [
       "               id    diet       pulse       time  kind\n",
       "count   90.000000      90   90.000000  90.000000    90\n",
       "unique        NaN       2         NaN        NaN     3\n",
       "top           NaN  no fat         NaN        NaN  rest\n",
       "freq          NaN      45         NaN        NaN    30\n",
       "mean    15.500000     NaN   99.700000  15.333333   NaN\n",
       "std      8.703932     NaN   14.858471  11.907886   NaN\n",
       "min      1.000000     NaN   80.000000   1.000000   NaN\n",
       "25%      8.000000     NaN   90.250000   1.000000   NaN\n",
       "50%     15.500000     NaN   96.000000  15.000000   NaN\n",
       "75%     23.000000     NaN  103.000000  30.000000   NaN\n",
       "max     30.000000     NaN  150.000000  30.000000   NaN"
      ]
     },
     "execution_count": 9,
     "metadata": {},
     "output_type": "execute_result"
    }
   ],
   "source": [
    "df.describe(include='all')"
   ]
  },
  {
   "cell_type": "markdown",
   "metadata": {},
   "source": [
    "##### 2.1 Distribuição das variáveis qualitativas"
   ]
  },
  {
   "cell_type": "code",
   "execution_count": 10,
   "metadata": {
    "ExecuteTime": {
     "end_time": "2024-04-24T16:58:26.266458639Z",
     "start_time": "2024-04-24T16:58:25.387002268Z"
    }
   },
   "outputs": [
    {
     "data": {
      "image/png": "[encoded data removed]",
      "text/plain": [
       "<Figure size 1200x300 with 2 Axes>"
      ]
     },
     "metadata": {},
     "output_type": "display_data"
    }
   ],
   "source": [
    "fig, axes = plt.subplots(1, 2, figsize=(12,3))\n",
    "plt.tight_layout(pad=4, w_pad=10, h_pad=5)\n",
    "fig.suptitle('Distribuição de variáveis qualitativas', fontweight='bold')\n",
    "for i, variavel in enumerate(dicionario.query(\"tipo == 'qualitativa'\").variavel.to_list()):\n",
    "    order = df[variavel].value_counts().index\n",
    "    ax = sns.countplot(\n",
    "        data=df,\n",
    "        x=variavel,\n",
    "        ax=axes.flatten()[i],\n",
    "        color=colors[0],\n",
    "        alpha=0.9,\n",
    "        order=order\n",
    "    )\n",
    "    ax.bar_label(\n",
    "        ax.containers[0],\n",
    "        fmt='%.0f',\n",
    "        label_type='center',\n",
    "        color='white'\n",
    "    )\n",
    "    ax.set(frame_on=False)\n",
    "    ax.axhline(0, color=\"k\", clip_on=False)\n",
    "    ax.set_title(f\"Distribuição da variável '{variavel}'\")\n",
    "    ax.set_ylabel('Quantidade')\n",
    "    ax.grid(axis='y', linestyle='-')\n",
    "plt.show()"
   ]
  },
  {
   "cell_type": "markdown",
   "metadata": {},
   "source": [
    "##### 2.2 Distribuição das variáveis quantitativas"
   ]
  },
  {
   "cell_type": "code",
   "execution_count": 11,
   "metadata": {
    "ExecuteTime": {
     "end_time": "2024-04-24T16:58:27.388303331Z",
     "start_time": "2024-04-24T16:58:26.114067982Z"
    }
   },
   "outputs": [
    {
     "data": {
      "image/png": "[encoded data removed]",
      "text/plain": [
       "<Figure size 1200x500 with 3 Axes>"
      ]
     },
     "metadata": {},
     "output_type": "display_data"
    }
   ],
   "source": [
    "fig, axes = plt.subplots(3, 1, figsize=(12,5))\n",
    "plt.tight_layout(pad=4, w_pad=10, h_pad=5)\n",
    "fig.suptitle('Distribuição de variáveis quantitativas', fontweight='bold')\n",
    "for i, variavel in enumerate(dicionario.query(\"tipo == 'quantitativa'\").variavel.to_list()):\n",
    "    ax = sns.histplot(\n",
    "        data=df,\n",
    "        x=variavel,\n",
    "        ax=axes.flatten()[i],\n",
    "        color=colors[0],\n",
    "        alpha=0.9,\n",
    "    )\n",
    "    ax.set(frame_on=False)\n",
    "    ax.axhline(0, color=\"k\", clip_on=False)\n",
    "    ax.set_title(f\"Distribuição da variável '{variavel}'\")\n",
    "    plt.xlabel(variavel)\n",
    "    ax.set_ylabel('Quantidade')\n",
    "    ax.grid(axis='y', linestyle='-')\n",
    "    # Customize grid to show only vertical lines\n",
    "plt.show()"
   ]
  },
  {
   "cell_type": "markdown",
   "metadata": {},
   "source": [
    "### 3. Existe alguma relação entre o tipo de dieta e a pulsação dos voluntários durante diferentes tipos de atividades físicas?"
   ]
  },
  {
   "cell_type": "code",
   "execution_count": 12,
   "metadata": {
    "ExecuteTime": {
     "end_time": "2024-04-24T16:58:28.586280702Z",
     "start_time": "2024-04-24T16:58:27.372677066Z"
    }
   },
   "outputs": [
    {
     "data": {
      "application/vnd.plotly.v1+json": {
       "config": {
        "plotlyServerURL": "https://plot.ly"
       },
       "data": [
        {
         "alignmentgroup": "True",
         "hovertemplate": "kind=rest<br>diet=%{x}<br>pulse=%{y}<extra></extra>",
         "legendgroup": "rest",
         "marker": {
          "color": "#636efa"
         },
         "name": "rest",
         "notched": false,
         "offsetgroup": "rest",
         "orientation": "v",
         "quartilemethod": "linear",
         "showlegend": true,
         "type": "box",
         "x": [
          "low fat",
          "low fat",
          "low fat",
          "low fat",
          "low fat",
          "low fat",
          "low fat",
          "low fat",
          "low fat",
          "low fat",
          "low fat",
          "low fat",
          "low fat",
          "low fat",
          "low fat",
          "no fat",
          "no fat",
          "no fat",
          "no fat",
          "no fat",
          "no fat",
          "no fat",
          "no fat",
          "no fat",
          "no fat",
          "no fat",
          "no fat",
          "no fat",
          "no fat",
          "no fat"
         ],
         "x0": " ",
         "xaxis": "x",
         "y": [
          85,
          85,
          88,
          90,
          92,
          93,
          97,
          97,
          94,
          80,
          82,
          83,
          91,
          92,
          91,
          83,
          83,
          84,
          87,
          88,
          90,
          92,
          94,
          95,
          97,
          99,
          96,
          100,
          97,
          100
         ],
         "y0": " ",
         "yaxis": "y"
        },
        {
         "alignmentgroup": "True",
         "hovertemplate": "kind=walking<br>diet=%{x}<br>pulse=%{y}<extra></extra>",
         "legendgroup": "walking",
         "marker": {
          "color": "#EF553B"
         },
         "name": "walking",
         "notched": false,
         "offsetgroup": "walking",
         "orientation": "v",
         "quartilemethod": "linear",
         "showlegend": true,
         "type": "box",
         "x": [
          "low fat",
          "low fat",
          "low fat",
          "low fat",
          "low fat",
          "low fat",
          "low fat",
          "low fat",
          "low fat",
          "low fat",
          "low fat",
          "low fat",
          "low fat",
          "low fat",
          "low fat",
          "no fat",
          "no fat",
          "no fat",
          "no fat",
          "no fat",
          "no fat",
          "no fat",
          "no fat",
          "no fat",
          "no fat",
          "no fat",
          "no fat",
          "no fat",
          "no fat",
          "no fat"
         ],
         "x0": " ",
         "xaxis": "x",
         "y": [
          86,
          86,
          84,
          93,
          103,
          104,
          90,
          92,
          93,
          95,
          96,
          100,
          89,
          96,
          95,
          84,
          86,
          89,
          103,
          109,
          90,
          92,
          96,
          101,
          97,
          98,
          100,
          102,
          104,
          103
         ],
         "y0": " ",
         "yaxis": "y"
        },
        {
         "alignmentgroup": "True",
         "hovertemplate": "kind=running<br>diet=%{x}<br>pulse=%{y}<extra></extra>",
         "legendgroup": "running",
         "marker": {
          "color": "#00cc96"
         },
         "name": "running",
         "notched": false,
         "offsetgroup": "running",
         "orientation": "v",
         "quartilemethod": "linear",
         "showlegend": true,
         "type": "box",
         "x": [
          "low fat",
          "low fat",
          "low fat",
          "low fat",
          "low fat",
          "low fat",
          "low fat",
          "low fat",
          "low fat",
          "low fat",
          "low fat",
          "low fat",
          "low fat",
          "low fat",
          "low fat",
          "no fat",
          "no fat",
          "no fat",
          "no fat",
          "no fat",
          "no fat",
          "no fat",
          "no fat",
          "no fat",
          "no fat",
          "no fat",
          "no fat",
          "no fat",
          "no fat",
          "no fat"
         ],
         "x0": " ",
         "xaxis": "x",
         "y": [
          93,
          98,
          110,
          98,
          104,
          112,
          98,
          105,
          99,
          87,
          132,
          120,
          94,
          110,
          116,
          95,
          126,
          143,
          100,
          126,
          140,
          103,
          124,
          140,
          94,
          135,
          130,
          99,
          111,
          150
         ],
         "y0": " ",
         "yaxis": "y"
        }
       ],
       "layout": {
        "boxmode": "group",
        "legend": {
         "title": {
          "text": "kind"
         },
         "tracegroupgap": 0
        },
        "margin": {
         "t": 60
        },
        "template": {
         "data": {
          "bar": [
           {
            "error_x": {
             "color": "#2a3f5f"
            },
            "error_y": {
             "color": "#2a3f5f"
            },
            "marker": {
             "line": {
              "color": "#E5ECF6",
              "width": 0.5
             },
             "pattern": {
              "fillmode": "overlay",
              "size": 10,
              "solidity": 0.2
             }
            },
            "type": "bar"
           }
          ],
          "barpolar": [
           {
            "marker": {
             "line": {
              "color": "#E5ECF6",
              "width": 0.5
             },
             "pattern": {
              "fillmode": "overlay",
              "size": 10,
              "solidity": 0.2
             }
            },
            "type": "barpolar"
           }
          ],
          "carpet": [
           {
            "aaxis": {
             "endlinecolor": "#2a3f5f",
             "gridcolor": "white",
             "linecolor": "white",
             "minorgridcolor": "white",
             "startlinecolor": "#2a3f5f"
            },
            "baxis": {
             "endlinecolor": "#2a3f5f",
             "gridcolor": "white",
             "linecolor": "white",
             "minorgridcolor": "white",
             "startlinecolor": "#2a3f5f"
            },
            "type": "carpet"
           }
          ],
          "choropleth": [
           {
            "colorbar": {
             "outlinewidth": 0,
             "ticks": ""
            },
            "type": "choropleth"
           }
          ],
          "contour": [
           {
            "colorbar": {
             "outlinewidth": 0,
             "ticks": ""
            },
            "colorscale": [
             [
              0,
              "#0d0887"
             ],
             [
              0.1111111111111111,
              "#46039f"
             ],
             [
              0.2222222222222222,
              "#7201a8"
             ],
             [
              0.3333333333333333,
              "#9c179e"
             ],
             [
              0.4444444444444444,
              "#bd3786"
             ],
             [
              0.5555555555555556,
              "#d8576b"
             ],
             [
              0.6666666666666666,
              "#ed7953"
             ],
             [
              0.7777777777777778,
              "#fb9f3a"
             ],
             [
              0.8888888888888888,
              "#fdca26"
             ],
             [
              1,
              "#f0f921"
             ]
            ],
            "type": "contour"
           }
          ],
          "contourcarpet": [
           {
            "colorbar": {
             "outlinewidth": 0,
             "ticks": ""
            },
            "type": "contourcarpet"
           }
          ],
          "heatmap": [
           {
            "colorbar": {
             "outlinewidth": 0,
             "ticks": ""
            },
            "colorscale": [
             [
              0,
              "#0d0887"
             ],
             [
              0.1111111111111111,
              "#46039f"
             ],
             [
              0.2222222222222222,
              "#7201a8"
             ],
             [
              0.3333333333333333,
              "#9c179e"
             ],
             [
              0.4444444444444444,
              "#bd3786"
             ],
             [
              0.5555555555555556,
              "#d8576b"
             ],
             [
              0.6666666666666666,
              "#ed7953"
             ],
             [
              0.7777777777777778,
              "#fb9f3a"
             ],
             [
              0.8888888888888888,
              "#fdca26"
             ],
             [
              1,
              "#f0f921"
             ]
            ],
            "type": "heatmap"
           }
          ],
          "heatmapgl": [
           {
            "colorbar": {
             "outlinewidth": 0,
             "ticks": ""
            },
            "colorscale": [
             [
              0,
              "#0d0887"
             ],
             [
              0.1111111111111111,
              "#46039f"
             ],
             [
              0.2222222222222222,
              "#7201a8"
             ],
             [
              0.3333333333333333,
              "#9c179e"
             ],
             [
              0.4444444444444444,
              "#bd3786"
             ],
             [
              0.5555555555555556,
              "#d8576b"
             ],
             [
              0.6666666666666666,
              "#ed7953"
             ],
             [
              0.7777777777777778,
              "#fb9f3a"
             ],
             [
              0.8888888888888888,
              "#fdca26"
             ],
             [
              1,
              "#f0f921"
             ]
            ],
            "type": "heatmapgl"
           }
          ],
          "histogram": [
           {
            "marker": {
             "pattern": {
              "fillmode": "overlay",
              "size": 10,
              "solidity": 0.2
             }
            },
            "type": "histogram"
           }
          ],
          "histogram2d": [
           {
            "colorbar": {
             "outlinewidth": 0,
             "ticks": ""
            },
            "colorscale": [
             [
              0,
              "#0d0887"
             ],
             [
              0.1111111111111111,
              "#46039f"
             ],
             [
              0.2222222222222222,
              "#7201a8"
             ],
             [
              0.3333333333333333,
              "#9c179e"
             ],
             [
              0.4444444444444444,
              "#bd3786"
             ],
             [
              0.5555555555555556,
              "#d8576b"
             ],
             [
              0.6666666666666666,
              "#ed7953"
             ],
             [
              0.7777777777777778,
              "#fb9f3a"
             ],
             [
              0.8888888888888888,
              "#fdca26"
             ],
             [
              1,
              "#f0f921"
             ]
            ],
            "type": "histogram2d"
           }
          ],
          "histogram2dcontour": [
           {
            "colorbar": {
             "outlinewidth": 0,
             "ticks": ""
            },
            "colorscale": [
             [
              0,
              "#0d0887"
             ],
             [
              0.1111111111111111,
              "#46039f"
             ],
             [
              0.2222222222222222,
              "#7201a8"
             ],
             [
              0.3333333333333333,
              "#9c179e"
             ],
             [
              0.4444444444444444,
              "#bd3786"
             ],
             [
              0.5555555555555556,
              "#d8576b"
             ],
             [
              0.6666666666666666,
              "#ed7953"
             ],
             [
              0.7777777777777778,
              "#fb9f3a"
             ],
             [
              0.8888888888888888,
              "#fdca26"
             ],
             [
              1,
              "#f0f921"
             ]
            ],
            "type": "histogram2dcontour"
           }
          ],
          "mesh3d": [
           {
            "colorbar": {
             "outlinewidth": 0,
             "ticks": ""
            },
            "type": "mesh3d"
           }
          ],
          "parcoords": [
           {
            "line": {
             "colorbar": {
              "outlinewidth": 0,
              "ticks": ""
             }
            },
            "type": "parcoords"
           }
          ],
          "pie": [
           {
            "automargin": true,
            "type": "pie"
           }
          ],
          "scatter": [
           {
            "fillpattern": {
             "fillmode": "overlay",
             "size": 10,
             "solidity": 0.2
            },
            "type": "scatter"
           }
          ],
          "scatter3d": [
           {
            "line": {
             "colorbar": {
              "outlinewidth": 0,
              "ticks": ""
             }
            },
            "marker": {
             "colorbar": {
              "outlinewidth": 0,
              "ticks": ""
             }
            },
            "type": "scatter3d"
           }
          ],
          "scattercarpet": [
           {
            "marker": {
             "colorbar": {
              "outlinewidth": 0,
              "ticks": ""
             }
            },
            "type": "scattercarpet"
           }
          ],
          "scattergeo": [
           {
            "marker": {
             "colorbar": {
              "outlinewidth": 0,
              "ticks": ""
             }
            },
            "type": "scattergeo"
           }
          ],
          "scattergl": [
           {
            "marker": {
             "colorbar": {
              "outlinewidth": 0,
              "ticks": ""
             }
            },
            "type": "scattergl"
           }
          ],
          "scattermapbox": [
           {
            "marker": {
             "colorbar": {
              "outlinewidth": 0,
              "ticks": ""
             }
            },
            "type": "scattermapbox"
           }
          ],
          "scatterpolar": [
           {
            "marker": {
             "colorbar": {
              "outlinewidth": 0,
              "ticks": ""
             }
            },
            "type": "scatterpolar"
           }
          ],
          "scatterpolargl": [
           {
            "marker": {
             "colorbar": {
              "outlinewidth": 0,
              "ticks": ""
             }
            },
            "type": "scatterpolargl"
           }
          ],
          "scatterternary": [
           {
            "marker": {
             "colorbar": {
              "outlinewidth": 0,
              "ticks": ""
             }
            },
            "type": "scatterternary"
           }
          ],
          "surface": [
           {
            "colorbar": {
             "outlinewidth": 0,
             "ticks": ""
            },
            "colorscale": [
             [
              0,
              "#0d0887"
             ],
             [
              0.1111111111111111,
              "#46039f"
             ],
             [
              0.2222222222222222,
              "#7201a8"
             ],
             [
              0.3333333333333333,
              "#9c179e"
             ],
             [
              0.4444444444444444,
              "#bd3786"
             ],
             [
              0.5555555555555556,
              "#d8576b"
             ],
             [
              0.6666666666666666,
              "#ed7953"
             ],
             [
              0.7777777777777778,
              "#fb9f3a"
             ],
             [
              0.8888888888888888,
              "#fdca26"
             ],
             [
              1,
              "#f0f921"
             ]
            ],
            "type": "surface"
           }
          ],
          "table": [
           {
            "cells": {
             "fill": {
              "color": "#EBF0F8"
             },
             "line": {
              "color": "white"
             }
            },
            "header": {
             "fill": {
              "color": "#C8D4E3"
             },
             "line": {
              "color": "white"
             }
            },
            "type": "table"
           }
          ]
         },
         "layout": {
          "annotationdefaults": {
           "arrowcolor": "#2a3f5f",
           "arrowhead": 0,
           "arrowwidth": 1
          },
          "autotypenumbers": "strict",
          "coloraxis": {
           "colorbar": {
            "outlinewidth": 0,
            "ticks": ""
           }
          },
          "colorscale": {
           "diverging": [
            [
             0,
             "#8e0152"
            ],
            [
             0.1,
             "#c51b7d"
            ],
            [
             0.2,
             "#de77ae"
            ],
            [
             0.3,
             "#f1b6da"
            ],
            [
             0.4,
             "#fde0ef"
            ],
            [
             0.5,
             "#f7f7f7"
            ],
            [
             0.6,
             "#e6f5d0"
            ],
            [
             0.7,
             "#b8e186"
            ],
            [
             0.8,
             "#7fbc41"
            ],
            [
             0.9,
             "#4d9221"
            ],
            [
             1,
             "#276419"
            ]
           ],
           "sequential": [
            [
             0,
             "#0d0887"
            ],
            [
             0.1111111111111111,
             "#46039f"
            ],
            [
             0.2222222222222222,
             "#7201a8"
            ],
            [
             0.3333333333333333,
             "#9c179e"
            ],
            [
             0.4444444444444444,
             "#bd3786"
            ],
            [
             0.5555555555555556,
             "#d8576b"
            ],
            [
             0.6666666666666666,
             "#ed7953"
            ],
            [
             0.7777777777777778,
             "#fb9f3a"
            ],
            [
             0.8888888888888888,
             "#fdca26"
            ],
            [
             1,
             "#f0f921"
            ]
           ],
           "sequentialminus": [
            [
             0,
             "#0d0887"
            ],
            [
             0.1111111111111111,
             "#46039f"
            ],
            [
             0.2222222222222222,
             "#7201a8"
            ],
            [
             0.3333333333333333,
             "#9c179e"
            ],
            [
             0.4444444444444444,
             "#bd3786"
            ],
            [
             0.5555555555555556,
             "#d8576b"
            ],
            [
             0.6666666666666666,
             "#ed7953"
            ],
            [
             0.7777777777777778,
             "#fb9f3a"
            ],
            [
             0.8888888888888888,
             "#fdca26"
            ],
            [
             1,
             "#f0f921"
            ]
           ]
          },
          "colorway": [
           "#636efa",
           "#EF553B",
           "#00cc96",
           "#ab63fa",
           "#FFA15A",
           "#19d3f3",
           "#FF6692",
           "#B6E880",
           "#FF97FF",
           "#FECB52"
          ],
          "font": {
           "color": "#2a3f5f"
          },
          "geo": {
           "bgcolor": "white",
           "lakecolor": "white",
           "landcolor": "#E5ECF6",
           "showlakes": true,
           "showland": true,
           "subunitcolor": "white"
          },
          "hoverlabel": {
           "align": "left"
          },
          "hovermode": "closest",
          "mapbox": {
           "style": "light"
          },
          "paper_bgcolor": "white",
          "plot_bgcolor": "#E5ECF6",
          "polar": {
           "angularaxis": {
            "gridcolor": "white",
            "linecolor": "white",
            "ticks": ""
           },
           "bgcolor": "#E5ECF6",
           "radialaxis": {
            "gridcolor": "white",
            "linecolor": "white",
            "ticks": ""
           }
          },
          "scene": {
           "xaxis": {
            "backgroundcolor": "#E5ECF6",
            "gridcolor": "white",
            "gridwidth": 2,
            "linecolor": "white",
            "showbackground": true,
            "ticks": "",
            "zerolinecolor": "white"
           },
           "yaxis": {
            "backgroundcolor": "#E5ECF6",
            "gridcolor": "white",
            "gridwidth": 2,
            "linecolor": "white",
            "showbackground": true,
            "ticks": "",
            "zerolinecolor": "white"
           },
           "zaxis": {
            "backgroundcolor": "#E5ECF6",
            "gridcolor": "white",
            "gridwidth": 2,
            "linecolor": "white",
            "showbackground": true,
            "ticks": "",
            "zerolinecolor": "white"
           }
          },
          "shapedefaults": {
           "line": {
            "color": "#2a3f5f"
           }
          },
          "ternary": {
           "aaxis": {
            "gridcolor": "white",
            "linecolor": "white",
            "ticks": ""
           },
           "baxis": {
            "gridcolor": "white",
            "linecolor": "white",
            "ticks": ""
           },
           "bgcolor": "#E5ECF6",
           "caxis": {
            "gridcolor": "white",
            "linecolor": "white",
            "ticks": ""
           }
          },
          "title": {
           "x": 0.05
          },
          "xaxis": {
           "automargin": true,
           "gridcolor": "white",
           "linecolor": "white",
           "ticks": "",
           "title": {
            "standoff": 15
           },
           "zerolinecolor": "white",
           "zerolinewidth": 2
          },
          "yaxis": {
           "automargin": true,
           "gridcolor": "white",
           "linecolor": "white",
           "ticks": "",
           "title": {
            "standoff": 15
           },
           "zerolinecolor": "white",
           "zerolinewidth": 2
          }
         }
        },
        "xaxis": {
         "anchor": "y",
         "domain": [
          0,
          1
         ],
         "title": {
          "text": "diet"
         }
        },
        "yaxis": {
         "anchor": "x",
         "domain": [
          0,
          1
         ],
         "title": {
          "text": "pulse"
         }
        }
       }
      }
     },
     "metadata": {},
     "output_type": "display_data"
    }
   ],
   "source": [
    "fig = px.box(df, x=\"diet\", y=\"pulse\", color=\"kind\")\n",
    "fig.update_traces(quartilemethod=\"linear\")\n",
    "fig.show()"
   ]
  },
  {
   "cell_type": "markdown",
   "metadata": {},
   "source": [
    "### 4. Há alguma diferença na pulsação dos voluntários durante diferentes tipos de atividades físicas, considerando o tempo gasto?"
   ]
  },
  {
   "cell_type": "code",
   "execution_count": 13,
   "metadata": {
    "ExecuteTime": {
     "end_time": "2024-04-24T18:05:12.193272817Z",
     "start_time": "2024-04-24T18:05:11.715135675Z"
    }
   },
   "outputs": [
    {
     "data": {
      "application/vnd.plotly.v1+json": {
       "config": {
        "plotlyServerURL": "https://plot.ly"
       },
       "data": [
        {
         "hovertemplate": "kind=rest<br>time=%{x}<br>pulse=%{y}<extra></extra>",
         "legendgroup": "rest",
         "marker": {
          "color": "#636efa",
          "symbol": "circle"
         },
         "mode": "markers",
         "name": "rest",
         "orientation": "v",
         "showlegend": true,
         "type": "scatter",
         "x": [
          1,
          15,
          30,
          1,
          15,
          30,
          1,
          15,
          30,
          1,
          15,
          30,
          1,
          15,
          30,
          1,
          15,
          30,
          1,
          15,
          30,
          1,
          15,
          30,
          1,
          15,
          30,
          1,
          15,
          30
         ],
         "xaxis": "x",
         "y": [
          85,
          85,
          88,
          90,
          92,
          93,
          97,
          97,
          94,
          80,
          82,
          83,
          91,
          92,
          91,
          83,
          83,
          84,
          87,
          88,
          90,
          92,
          94,
          95,
          97,
          99,
          96,
          100,
          97,
          100
         ],
         "yaxis": "y"
        },
        {
         "hovertemplate": "kind=walking<br>time=%{x}<br>pulse=%{y}<extra></extra>",
         "legendgroup": "walking",
         "marker": {
          "color": "#EF553B",
          "symbol": "circle"
         },
         "mode": "markers",
         "name": "walking",
         "orientation": "v",
         "showlegend": true,
         "type": "scatter",
         "x": [
          1,
          15,
          30,
          1,
          15,
          30,
          1,
          15,
          30,
          1,
          15,
          30,
          1,
          15,
          30,
          1,
          15,
          30,
          1,
          15,
          30,
          1,
          15,
          30,
          1,
          15,
          30,
          1,
          15,
          30
         ],
         "xaxis": "x",
         "y": [
          86,
          86,
          84,
          93,
          103,
          104,
          90,
          92,
          93,
          95,
          96,
          100,
          89,
          96,
          95,
          84,
          86,
          89,
          103,
          109,
          90,
          92,
          96,
          101,
          97,
          98,
          100,
          102,
          104,
          103
         ],
         "yaxis": "y"
        },
        {
         "hovertemplate": "kind=running<br>time=%{x}<br>pulse=%{y}<extra></extra>",
         "legendgroup": "running",
         "marker": {
          "color": "#00cc96",
          "symbol": "circle"
         },
         "mode": "markers",
         "name": "running",
         "orientation": "v",
         "showlegend": true,
         "type": "scatter",
         "x": [
          1,
          15,
          30,
          1,
          15,
          30,
          1,
          15,
          30,
          1,
          15,
          30,
          1,
          15,
          30,
          1,
          15,
          30,
          1,
          15,
          30,
          1,
          15,
          30,
          1,
          15,
          30,
          1,
          15,
          30
         ],
         "xaxis": "x",
         "y": [
          93,
          98,
          110,
          98,
          104,
          112,
          98,
          105,
          99,
          87,
          132,
          120,
          94,
          110,
          116,
          95,
          126,
          143,
          100,
          126,
          140,
          103,
          124,
          140,
          94,
          135,
          130,
          99,
          111,
          150
         ],
         "yaxis": "y"
        }
       ],
       "layout": {
        "legend": {
         "title": {
          "text": "kind"
         },
         "tracegroupgap": 0
        },
        "margin": {
         "t": 60
        },
        "template": {
         "data": {
          "bar": [
           {
            "error_x": {
             "color": "#2a3f5f"
            },
            "error_y": {
             "color": "#2a3f5f"
            },
            "marker": {
             "line": {
              "color": "#E5ECF6",
              "width": 0.5
             },
             "pattern": {
              "fillmode": "overlay",
              "size": 10,
              "solidity": 0.2
             }
            },
            "type": "bar"
           }
          ],
          "barpolar": [
           {
            "marker": {
             "line": {
              "color": "#E5ECF6",
              "width": 0.5
             },
             "pattern": {
              "fillmode": "overlay",
              "size": 10,
              "solidity": 0.2
             }
            },
            "type": "barpolar"
           }
          ],
          "carpet": [
           {
            "aaxis": {
             "endlinecolor": "#2a3f5f",
             "gridcolor": "white",
             "linecolor": "white",
             "minorgridcolor": "white",
             "startlinecolor": "#2a3f5f"
            },
            "baxis": {
             "endlinecolor": "#2a3f5f",
             "gridcolor": "white",
             "linecolor": "white",
             "minorgridcolor": "white",
             "startlinecolor": "#2a3f5f"
            },
            "type": "carpet"
           }
          ],
          "choropleth": [
           {
            "colorbar": {
             "outlinewidth": 0,
             "ticks": ""
            },
            "type": "choropleth"
           }
          ],
          "contour": [
           {
            "colorbar": {
             "outlinewidth": 0,
             "ticks": ""
            },
            "colorscale": [
             [
              0,
              "#0d0887"
             ],
             [
              0.1111111111111111,
              "#46039f"
             ],
             [
              0.2222222222222222,
              "#7201a8"
             ],
             [
              0.3333333333333333,
              "#9c179e"
             ],
             [
              0.4444444444444444,
              "#bd3786"
             ],
             [
              0.5555555555555556,
              "#d8576b"
             ],
             [
              0.6666666666666666,
              "#ed7953"
             ],
             [
              0.7777777777777778,
              "#fb9f3a"
             ],
             [
              0.8888888888888888,
              "#fdca26"
             ],
             [
              1,
              "#f0f921"
             ]
            ],
            "type": "contour"
           }
          ],
          "contourcarpet": [
           {
            "colorbar": {
             "outlinewidth": 0,
             "ticks": ""
            },
            "type": "contourcarpet"
           }
          ],
          "heatmap": [
           {
            "colorbar": {
             "outlinewidth": 0,
             "ticks": ""
            },
            "colorscale": [
             [
              0,
              "#0d0887"
             ],
             [
              0.1111111111111111,
              "#46039f"
             ],
             [
              0.2222222222222222,
              "#7201a8"
             ],
             [
              0.3333333333333333,
              "#9c179e"
             ],
             [
              0.4444444444444444,
              "#bd3786"
             ],
             [
              0.5555555555555556,
              "#d8576b"
             ],
             [
              0.6666666666666666,
              "#ed7953"
             ],
             [
              0.7777777777777778,
              "#fb9f3a"
             ],
             [
              0.8888888888888888,
              "#fdca26"
             ],
             [
              1,
              "#f0f921"
             ]
            ],
            "type": "heatmap"
           }
          ],
          "heatmapgl": [
           {
            "colorbar": {
             "outlinewidth": 0,
             "ticks": ""
            },
            "colorscale": [
             [
              0,
              "#0d0887"
             ],
             [
              0.1111111111111111,
              "#46039f"
             ],
             [
              0.2222222222222222,
              "#7201a8"
             ],
             [
              0.3333333333333333,
              "#9c179e"
             ],
             [
              0.4444444444444444,
              "#bd3786"
             ],
             [
              0.5555555555555556,
              "#d8576b"
             ],
             [
              0.6666666666666666,
              "#ed7953"
             ],
             [
              0.7777777777777778,
              "#fb9f3a"
             ],
             [
              0.8888888888888888,
              "#fdca26"
             ],
             [
              1,
              "#f0f921"
             ]
            ],
            "type": "heatmapgl"
           }
          ],
          "histogram": [
           {
            "marker": {
             "pattern": {
              "fillmode": "overlay",
              "size": 10,
              "solidity": 0.2
             }
            },
            "type": "histogram"
           }
          ],
          "histogram2d": [
           {
            "colorbar": {
             "outlinewidth": 0,
             "ticks": ""
            },
            "colorscale": [
             [
              0,
              "#0d0887"
             ],
             [
              0.1111111111111111,
              "#46039f"
             ],
             [
              0.2222222222222222,
              "#7201a8"
             ],
             [
              0.3333333333333333,
              "#9c179e"
             ],
             [
              0.4444444444444444,
              "#bd3786"
             ],
             [
              0.5555555555555556,
              "#d8576b"
             ],
             [
              0.6666666666666666,
              "#ed7953"
             ],
             [
              0.7777777777777778,
              "#fb9f3a"
             ],
             [
              0.8888888888888888,
              "#fdca26"
             ],
             [
              1,
              "#f0f921"
             ]
            ],
            "type": "histogram2d"
           }
          ],
          "histogram2dcontour": [
           {
            "colorbar": {
             "outlinewidth": 0,
             "ticks": ""
            },
            "colorscale": [
             [
              0,
              "#0d0887"
             ],
             [
              0.1111111111111111,
              "#46039f"
             ],
             [
              0.2222222222222222,
              "#7201a8"
             ],
             [
              0.3333333333333333,
              "#9c179e"
             ],
             [
              0.4444444444444444,
              "#bd3786"
             ],
             [
              0.5555555555555556,
              "#d8576b"
             ],
             [
              0.6666666666666666,
              "#ed7953"
             ],
             [
              0.7777777777777778,
              "#fb9f3a"
             ],
             [
              0.8888888888888888,
              "#fdca26"
             ],
             [
              1,
              "#f0f921"
             ]
            ],
            "type": "histogram2dcontour"
           }
          ],
          "mesh3d": [
           {
            "colorbar": {
             "outlinewidth": 0,
             "ticks": ""
            },
            "type": "mesh3d"
           }
          ],
          "parcoords": [
           {
            "line": {
             "colorbar": {
              "outlinewidth": 0,
              "ticks": ""
             }
            },
            "type": "parcoords"
           }
          ],
          "pie": [
           {
            "automargin": true,
            "type": "pie"
           }
          ],
          "scatter": [
           {
            "fillpattern": {
             "fillmode": "overlay",
             "size": 10,
             "solidity": 0.2
            },
            "type": "scatter"
           }
          ],
          "scatter3d": [
           {
            "line": {
             "colorbar": {
              "outlinewidth": 0,
              "ticks": ""
             }
            },
            "marker": {
             "colorbar": {
              "outlinewidth": 0,
              "ticks": ""
             }
            },
            "type": "scatter3d"
           }
          ],
          "scattercarpet": [
           {
            "marker": {
             "colorbar": {
              "outlinewidth": 0,
              "ticks": ""
             }
            },
            "type": "scattercarpet"
           }
          ],
          "scattergeo": [
           {
            "marker": {
             "colorbar": {
              "outlinewidth": 0,
              "ticks": ""
             }
            },
            "type": "scattergeo"
           }
          ],
          "scattergl": [
           {
            "marker": {
             "colorbar": {
              "outlinewidth": 0,
              "ticks": ""
             }
            },
            "type": "scattergl"
           }
          ],
          "scattermapbox": [
           {
            "marker": {
             "colorbar": {
              "outlinewidth": 0,
              "ticks": ""
             }
            },
            "type": "scattermapbox"
           }
          ],
          "scatterpolar": [
           {
            "marker": {
             "colorbar": {
              "outlinewidth": 0,
              "ticks": ""
             }
            },
            "type": "scatterpolar"
           }
          ],
          "scatterpolargl": [
           {
            "marker": {
             "colorbar": {
              "outlinewidth": 0,
              "ticks": ""
             }
            },
            "type": "scatterpolargl"
           }
          ],
          "scatterternary": [
           {
            "marker": {
             "colorbar": {
              "outlinewidth": 0,
              "ticks": ""
             }
            },
            "type": "scatterternary"
           }
          ],
          "surface": [
           {
            "colorbar": {
             "outlinewidth": 0,
             "ticks": ""
            },
            "colorscale": [
             [
              0,
              "#0d0887"
             ],
             [
              0.1111111111111111,
              "#46039f"
             ],
             [
              0.2222222222222222,
              "#7201a8"
             ],
             [
              0.3333333333333333,
              "#9c179e"
             ],
             [
              0.4444444444444444,
              "#bd3786"
             ],
             [
              0.5555555555555556,
              "#d8576b"
             ],
             [
              0.6666666666666666,
              "#ed7953"
             ],
             [
              0.7777777777777778,
              "#fb9f3a"
             ],
             [
              0.8888888888888888,
              "#fdca26"
             ],
             [
              1,
              "#f0f921"
             ]
            ],
            "type": "surface"
           }
          ],
          "table": [
           {
            "cells": {
             "fill": {
              "color": "#EBF0F8"
             },
             "line": {
              "color": "white"
             }
            },
            "header": {
             "fill": {
              "color": "#C8D4E3"
             },
             "line": {
              "color": "white"
             }
            },
            "type": "table"
           }
          ]
         },
         "layout": {
          "annotationdefaults": {
           "arrowcolor": "#2a3f5f",
           "arrowhead": 0,
           "arrowwidth": 1
          },
          "autotypenumbers": "strict",
          "coloraxis": {
           "colorbar": {
            "outlinewidth": 0,
            "ticks": ""
           }
          },
          "colorscale": {
           "diverging": [
            [
             0,
             "#8e0152"
            ],
            [
             0.1,
             "#c51b7d"
            ],
            [
             0.2,
             "#de77ae"
            ],
            [
             0.3,
             "#f1b6da"
            ],
            [
             0.4,
             "#fde0ef"
            ],
            [
             0.5,
             "#f7f7f7"
            ],
            [
             0.6,
             "#e6f5d0"
            ],
            [
             0.7,
             "#b8e186"
            ],
            [
             0.8,
             "#7fbc41"
            ],
            [
             0.9,
             "#4d9221"
            ],
            [
             1,
             "#276419"
            ]
           ],
           "sequential": [
            [
             0,
             "#0d0887"
            ],
            [
             0.1111111111111111,
             "#46039f"
            ],
            [
             0.2222222222222222,
             "#7201a8"
            ],
            [
             0.3333333333333333,
             "#9c179e"
            ],
            [
             0.4444444444444444,
             "#bd3786"
            ],
            [
             0.5555555555555556,
             "#d8576b"
            ],
            [
             0.6666666666666666,
             "#ed7953"
            ],
            [
             0.7777777777777778,
             "#fb9f3a"
            ],
            [
             0.8888888888888888,
             "#fdca26"
            ],
            [
             1,
             "#f0f921"
            ]
           ],
           "sequentialminus": [
            [
             0,
             "#0d0887"
            ],
            [
             0.1111111111111111,
             "#46039f"
            ],
            [
             0.2222222222222222,
             "#7201a8"
            ],
            [
             0.3333333333333333,
             "#9c179e"
            ],
            [
             0.4444444444444444,
             "#bd3786"
            ],
            [
             0.5555555555555556,
             "#d8576b"
            ],
            [
             0.6666666666666666,
             "#ed7953"
            ],
            [
             0.7777777777777778,
             "#fb9f3a"
            ],
            [
             0.8888888888888888,
             "#fdca26"
            ],
            [
             1,
             "#f0f921"
            ]
           ]
          },
          "colorway": [
           "#636efa",
           "#EF553B",
           "#00cc96",
           "#ab63fa",
           "#FFA15A",
           "#19d3f3",
           "#FF6692",
           "#B6E880",
           "#FF97FF",
           "#FECB52"
          ],
          "font": {
           "color": "#2a3f5f"
          },
          "geo": {
           "bgcolor": "white",
           "lakecolor": "white",
           "landcolor": "#E5ECF6",
           "showlakes": true,
           "showland": true,
           "subunitcolor": "white"
          },
          "hoverlabel": {
           "align": "left"
          },
          "hovermode": "closest",
          "mapbox": {
           "style": "light"
          },
          "paper_bgcolor": "white",
          "plot_bgcolor": "#E5ECF6",
          "polar": {
           "angularaxis": {
            "gridcolor": "white",
            "linecolor": "white",
            "ticks": ""
           },
           "bgcolor": "#E5ECF6",
           "radialaxis": {
            "gridcolor": "white",
            "linecolor": "white",
            "ticks": ""
           }
          },
          "scene": {
           "xaxis": {
            "backgroundcolor": "#E5ECF6",
            "gridcolor": "white",
            "gridwidth": 2,
            "linecolor": "white",
            "showbackground": true,
            "ticks": "",
            "zerolinecolor": "white"
           },
           "yaxis": {
            "backgroundcolor": "#E5ECF6",
            "gridcolor": "white",
            "gridwidth": 2,
            "linecolor": "white",
            "showbackground": true,
            "ticks": "",
            "zerolinecolor": "white"
           },
           "zaxis": {
            "backgroundcolor": "#E5ECF6",
            "gridcolor": "white",
            "gridwidth": 2,
            "linecolor": "white",
            "showbackground": true,
            "ticks": "",
            "zerolinecolor": "white"
           }
          },
          "shapedefaults": {
           "line": {
            "color": "#2a3f5f"
           }
          },
          "ternary": {
           "aaxis": {
            "gridcolor": "white",
            "linecolor": "white",
            "ticks": ""
           },
           "baxis": {
            "gridcolor": "white",
            "linecolor": "white",
            "ticks": ""
           },
           "bgcolor": "#E5ECF6",
           "caxis": {
            "gridcolor": "white",
            "linecolor": "white",
            "ticks": ""
           }
          },
          "title": {
           "x": 0.05
          },
          "xaxis": {
           "automargin": true,
           "gridcolor": "white",
           "linecolor": "white",
           "ticks": "",
           "title": {
            "standoff": 15
           },
           "zerolinecolor": "white",
           "zerolinewidth": 2
          },
          "yaxis": {
           "automargin": true,
           "gridcolor": "white",
           "linecolor": "white",
           "ticks": "",
           "title": {
            "standoff": 15
           },
           "zerolinecolor": "white",
           "zerolinewidth": 2
          }
         }
        },
        "xaxis": {
         "anchor": "y",
         "domain": [
          0,
          1
         ],
         "title": {
          "text": "time"
         }
        },
        "yaxis": {
         "anchor": "x",
         "domain": [
          0,
          1
         ],
         "title": {
          "text": "pulse"
         }
        }
       }
      }
     },
     "metadata": {},
     "output_type": "display_data"
    }
   ],
   "source": [
    "fig = px.scatter(df, x=\"time\", y=\"pulse\", color=\"kind\")\n",
    "fig.show()"
   ]
  },
  {
   "cell_type": "markdown",
   "metadata": {},
   "source": [
    "### 5. Pulsação dos voluntários varia entre os diferentes tipos de dieta, independentemente do tipo de atividade física?"
   ]
  },
  {
   "cell_type": "code",
   "execution_count": 14,
   "metadata": {
    "ExecuteTime": {
     "end_time": "2024-04-24T18:33:28.202712548Z",
     "start_time": "2024-04-24T18:33:27.883315260Z"
    }
   },
   "outputs": [
    {
     "data": {
      "image/png": "[encoded data removed]",
      "text/plain": [
       "<Figure size 800x600 with 1 Axes>"
      ]
     },
     "metadata": {},
     "output_type": "display_data"
    }
   ],
   "source": [
    "avg_pulse_by_diet = df.groupby('diet')['pulse'].mean()\n",
    "plt.figure(figsize=(8, 6))\n",
    "avg_pulse_by_diet.plot(kind='bar', color=['blue', 'green'], alpha=0.7)\n",
    "\n",
    "plt.title('Pulsação Média por Tipo de Dieta')\n",
    "plt.xlabel('Tipo de Dieta')\n",
    "plt.ylabel('Pulsação')\n",
    "plt.xticks(rotation=0)\n",
    "plt.show()"
   ]
  },
  {
   "cell_type": "markdown",
   "metadata": {},
   "source": [
    "### 6. Existe alguma correlação entre o tempo gasto em atividades físicas e a pulsação dos voluntários?"
   ]
  },
  {
   "cell_type": "code",
   "execution_count": 15,
   "metadata": {
    "ExecuteTime": {
     "end_time": "2024-04-24T18:39:30.725933320Z",
     "start_time": "2024-04-24T18:39:30.359014852Z"
    }
   },
   "outputs": [
    {
     "name": "stderr",
     "output_type": "stream",
     "text": [
      "/tmp/ipykernel_73300/381698419.py:1: FutureWarning:\n",
      "\n",
      "The default value of numeric_only in DataFrame.corr is deprecated. In a future version, it will default to False. Select only valid columns or specify the value of numeric_only to silence this warning.\n",
      "\n"
     ]
    },
    {
     "data": {
      "image/png": "[encoded data removed]",
      "text/plain": [
       "<Figure size 400x400 with 2 Axes>"
      ]
     },
     "metadata": {},
     "output_type": "display_data"
    }
   ],
   "source": [
    "corr = df.iloc[:,1:5].corr()\n",
    "\n",
    "mask = np.triu(np.ones_like(corr, dtype=bool))\n",
    "\n",
    "cmap = sns.diverging_palette(230, 20, as_cmap=True)\n",
    "\n",
    "plt.figure(figsize=(4,4))\n",
    "ax = sns.heatmap(\n",
    "    corr,\n",
    "    mask=mask,\n",
    "    cmap=cmap,\n",
    "    center=0,\n",
    "    square=True,\n",
    "    linewidths=.5,\n",
    "    cbar_kws={\"shrink\": .5},\n",
    "    annot=True, \n",
    "    fmt=\".2f\"\n",
    ")\n",
    "ax.grid(False)\n",
    "\n",
    "plt.suptitle(f\"Correlação entre tempo gasto e pulsação\", fontweight='bold')\n",
    "plt.show()"
   ]
  },
  {
   "cell_type": "code",
   "execution_count": 16,
   "metadata": {
    "ExecuteTime": {
     "end_time": "2024-04-24T18:45:29.050227367Z",
     "start_time": "2024-04-24T18:45:24.770732895Z"
    }
   },
   "outputs": [
    {
     "name": "stderr",
     "output_type": "stream",
     "text": [
      "/home/balda/avanti-bootcamp/venv/lib/python3.10/site-packages/seaborn/axisgrid.py:88: UserWarning:\n",
      "\n",
      "The figure layout has changed to tight\n",
      "\n"
     ]
    },
    {
     "data": {
      "image/png": "[encoded data removed]",
      "text/plain": [
       "<Figure size 863.875x750 with 12 Axes>"
      ]
     },
     "metadata": {},
     "output_type": "display_data"
    }
   ],
   "source": [
    "sns.pairplot(df, hue=\"kind\")\n",
    "plt.show()"
   ]
  },
  {
   "cell_type": "code",
   "execution_count": 17,
   "metadata": {},
   "outputs": [
    {
     "data": {
      "application/vnd.plotly.v1+json": {
       "config": {
        "plotlyServerURL": "https://plot.ly"
       },
       "data": [
        {
         "dimensions": [
          {
           "axis": {
            "matches": true
           },
           "label": "time",
           "values": [
            1,
            15,
            30,
            1,
            15,
            30,
            1,
            15,
            30,
            1,
            15,
            30,
            1,
            15,
            30,
            1,
            15,
            30,
            1,
            15,
            30,
            1,
            15,
            30,
            1,
            15,
            30,
            1,
            15,
            30,
            1,
            15,
            30,
            1,
            15,
            30,
            1,
            15,
            30,
            1,
            15,
            30,
            1,
            15,
            30
           ]
          },
          {
           "axis": {
            "matches": true
           },
           "label": "pulse",
           "values": [
            85,
            85,
            88,
            90,
            92,
            93,
            97,
            97,
            94,
            80,
            82,
            83,
            91,
            92,
            91,
            86,
            86,
            84,
            93,
            103,
            104,
            90,
            92,
            93,
            95,
            96,
            100,
            89,
            96,
            95,
            93,
            98,
            110,
            98,
            104,
            112,
            98,
            105,
            99,
            87,
            132,
            120,
            94,
            110,
            116
           ]
          }
         ],
         "hovertemplate": "diet=low fat<br>%{xaxis.title.text}=%{x}<br>%{yaxis.title.text}=%{y}<extra></extra>",
         "legendgroup": "low fat",
         "marker": {
          "color": "#636efa",
          "symbol": "circle"
         },
         "name": "low fat",
         "showlegend": true,
         "type": "splom"
        },
        {
         "dimensions": [
          {
           "axis": {
            "matches": true
           },
           "label": "time",
           "values": [
            1,
            15,
            30,
            1,
            15,
            30,
            1,
            15,
            30,
            1,
            15,
            30,
            1,
            15,
            30,
            1,
            15,
            30,
            1,
            15,
            30,
            1,
            15,
            30,
            1,
            15,
            30,
            1,
            15,
            30,
            1,
            15,
            30,
            1,
            15,
            30,
            1,
            15,
            30,
            1,
            15,
            30,
            1,
            15,
            30
           ]
          },
          {
           "axis": {
            "matches": true
           },
           "label": "pulse",
           "values": [
            83,
            83,
            84,
            87,
            88,
            90,
            92,
            94,
            95,
            97,
            99,
            96,
            100,
            97,
            100,
            84,
            86,
            89,
            103,
            109,
            90,
            92,
            96,
            101,
            97,
            98,
            100,
            102,
            104,
            103,
            95,
            126,
            143,
            100,
            126,
            140,
            103,
            124,
            140,
            94,
            135,
            130,
            99,
            111,
            150
           ]
          }
         ],
         "hovertemplate": "diet=no fat<br>%{xaxis.title.text}=%{x}<br>%{yaxis.title.text}=%{y}<extra></extra>",
         "legendgroup": "no fat",
         "marker": {
          "color": "#EF553B",
          "symbol": "circle"
         },
         "name": "no fat",
         "showlegend": true,
         "type": "splom"
        }
       ],
       "layout": {
        "dragmode": "select",
        "legend": {
         "title": {
          "text": "diet"
         },
         "tracegroupgap": 0
        },
        "margin": {
         "t": 60
        },
        "template": {
         "data": {
          "bar": [
           {
            "error_x": {
             "color": "#2a3f5f"
            },
            "error_y": {
             "color": "#2a3f5f"
            },
            "marker": {
             "line": {
              "color": "#E5ECF6",
              "width": 0.5
             },
             "pattern": {
              "fillmode": "overlay",
              "size": 10,
              "solidity": 0.2
             }
            },
            "type": "bar"
           }
          ],
          "barpolar": [
           {
            "marker": {
             "line": {
              "color": "#E5ECF6",
              "width": 0.5
             },
             "pattern": {
              "fillmode": "overlay",
              "size": 10,
              "solidity": 0.2
             }
            },
            "type": "barpolar"
           }
          ],
          "carpet": [
           {
            "aaxis": {
             "endlinecolor": "#2a3f5f",
             "gridcolor": "white",
             "linecolor": "white",
             "minorgridcolor": "white",
             "startlinecolor": "#2a3f5f"
            },
            "baxis": {
             "endlinecolor": "#2a3f5f",
             "gridcolor": "white",
             "linecolor": "white",
             "minorgridcolor": "white",
             "startlinecolor": "#2a3f5f"
            },
            "type": "carpet"
           }
          ],
          "choropleth": [
           {
            "colorbar": {
             "outlinewidth": 0,
             "ticks": ""
            },
            "type": "choropleth"
           }
          ],
          "contour": [
           {
            "colorbar": {
             "outlinewidth": 0,
             "ticks": ""
            },
            "colorscale": [
             [
              0,
              "#0d0887"
             ],
             [
              0.1111111111111111,
              "#46039f"
             ],
             [
              0.2222222222222222,
              "#7201a8"
             ],
             [
              0.3333333333333333,
              "#9c179e"
             ],
             [
              0.4444444444444444,
              "#bd3786"
             ],
             [
              0.5555555555555556,
              "#d8576b"
             ],
             [
              0.6666666666666666,
              "#ed7953"
             ],
             [
              0.7777777777777778,
              "#fb9f3a"
             ],
             [
              0.8888888888888888,
              "#fdca26"
             ],
             [
              1,
              "#f0f921"
             ]
            ],
            "type": "contour"
           }
          ],
          "contourcarpet": [
           {
            "colorbar": {
             "outlinewidth": 0,
             "ticks": ""
            },
            "type": "contourcarpet"
           }
          ],
          "heatmap": [
           {
            "colorbar": {
             "outlinewidth": 0,
             "ticks": ""
            },
            "colorscale": [
             [
              0,
              "#0d0887"
             ],
             [
              0.1111111111111111,
              "#46039f"
             ],
             [
              0.2222222222222222,
              "#7201a8"
             ],
             [
              0.3333333333333333,
              "#9c179e"
             ],
             [
              0.4444444444444444,
              "#bd3786"
             ],
             [
              0.5555555555555556,
              "#d8576b"
             ],
             [
              0.6666666666666666,
              "#ed7953"
             ],
             [
              0.7777777777777778,
              "#fb9f3a"
             ],
             [
              0.8888888888888888,
              "#fdca26"
             ],
             [
              1,
              "#f0f921"
             ]
            ],
            "type": "heatmap"
           }
          ],
          "heatmapgl": [
           {
            "colorbar": {
             "outlinewidth": 0,
             "ticks": ""
            },
            "colorscale": [
             [
              0,
              "#0d0887"
             ],
             [
              0.1111111111111111,
              "#46039f"
             ],
             [
              0.2222222222222222,
              "#7201a8"
             ],
             [
              0.3333333333333333,
              "#9c179e"
             ],
             [
              0.4444444444444444,
              "#bd3786"
             ],
             [
              0.5555555555555556,
              "#d8576b"
             ],
             [
              0.6666666666666666,
              "#ed7953"
             ],
             [
              0.7777777777777778,
              "#fb9f3a"
             ],
             [
              0.8888888888888888,
              "#fdca26"
             ],
             [
              1,
              "#f0f921"
             ]
            ],
            "type": "heatmapgl"
           }
          ],
          "histogram": [
           {
            "marker": {
             "pattern": {
              "fillmode": "overlay",
              "size": 10,
              "solidity": 0.2
             }
            },
            "type": "histogram"
           }
          ],
          "histogram2d": [
           {
            "colorbar": {
             "outlinewidth": 0,
             "ticks": ""
            },
            "colorscale": [
             [
              0,
              "#0d0887"
             ],
             [
              0.1111111111111111,
              "#46039f"
             ],
             [
              0.2222222222222222,
              "#7201a8"
             ],
             [
              0.3333333333333333,
              "#9c179e"
             ],
             [
              0.4444444444444444,
              "#bd3786"
             ],
             [
              0.5555555555555556,
              "#d8576b"
             ],
             [
              0.6666666666666666,
              "#ed7953"
             ],
             [
              0.7777777777777778,
              "#fb9f3a"
             ],
             [
              0.8888888888888888,
              "#fdca26"
             ],
             [
              1,
              "#f0f921"
             ]
            ],
            "type": "histogram2d"
           }
          ],
          "histogram2dcontour": [
           {
            "colorbar": {
             "outlinewidth": 0,
             "ticks": ""
            },
            "colorscale": [
             [
              0,
              "#0d0887"
             ],
             [
              0.1111111111111111,
              "#46039f"
             ],
             [
              0.2222222222222222,
              "#7201a8"
             ],
             [
              0.3333333333333333,
              "#9c179e"
             ],
             [
              0.4444444444444444,
              "#bd3786"
             ],
             [
              0.5555555555555556,
              "#d8576b"
             ],
             [
              0.6666666666666666,
              "#ed7953"
             ],
             [
              0.7777777777777778,
              "#fb9f3a"
             ],
             [
              0.8888888888888888,
              "#fdca26"
             ],
             [
              1,
              "#f0f921"
             ]
            ],
            "type": "histogram2dcontour"
           }
          ],
          "mesh3d": [
           {
            "colorbar": {
             "outlinewidth": 0,
             "ticks": ""
            },
            "type": "mesh3d"
           }
          ],
          "parcoords": [
           {
            "line": {
             "colorbar": {
              "outlinewidth": 0,
              "ticks": ""
             }
            },
            "type": "parcoords"
           }
          ],
          "pie": [
           {
            "automargin": true,
            "type": "pie"
           }
          ],
          "scatter": [
           {
            "fillpattern": {
             "fillmode": "overlay",
             "size": 10,
             "solidity": 0.2
            },
            "type": "scatter"
           }
          ],
          "scatter3d": [
           {
            "line": {
             "colorbar": {
              "outlinewidth": 0,
              "ticks": ""
             }
            },
            "marker": {
             "colorbar": {
              "outlinewidth": 0,
              "ticks": ""
             }
            },
            "type": "scatter3d"
           }
          ],
          "scattercarpet": [
           {
            "marker": {
             "colorbar": {
              "outlinewidth": 0,
              "ticks": ""
             }
            },
            "type": "scattercarpet"
           }
          ],
          "scattergeo": [
           {
            "marker": {
             "colorbar": {
              "outlinewidth": 0,
              "ticks": ""
             }
            },
            "type": "scattergeo"
           }
          ],
          "scattergl": [
           {
            "marker": {
             "colorbar": {
              "outlinewidth": 0,
              "ticks": ""
             }
            },
            "type": "scattergl"
           }
          ],
          "scattermapbox": [
           {
            "marker": {
             "colorbar": {
              "outlinewidth": 0,
              "ticks": ""
             }
            },
            "type": "scattermapbox"
           }
          ],
          "scatterpolar": [
           {
            "marker": {
             "colorbar": {
              "outlinewidth": 0,
              "ticks": ""
             }
            },
            "type": "scatterpolar"
           }
          ],
          "scatterpolargl": [
           {
            "marker": {
             "colorbar": {
              "outlinewidth": 0,
              "ticks": ""
             }
            },
            "type": "scatterpolargl"
           }
          ],
          "scatterternary": [
           {
            "marker": {
             "colorbar": {
              "outlinewidth": 0,
              "ticks": ""
             }
            },
            "type": "scatterternary"
           }
          ],
          "surface": [
           {
            "colorbar": {
             "outlinewidth": 0,
             "ticks": ""
            },
            "colorscale": [
             [
              0,
              "#0d0887"
             ],
             [
              0.1111111111111111,
              "#46039f"
             ],
             [
              0.2222222222222222,
              "#7201a8"
             ],
             [
              0.3333333333333333,
              "#9c179e"
             ],
             [
              0.4444444444444444,
              "#bd3786"
             ],
             [
              0.5555555555555556,
              "#d8576b"
             ],
             [
              0.6666666666666666,
              "#ed7953"
             ],
             [
              0.7777777777777778,
              "#fb9f3a"
             ],
             [
              0.8888888888888888,
              "#fdca26"
             ],
             [
              1,
              "#f0f921"
             ]
            ],
            "type": "surface"
           }
          ],
          "table": [
           {
            "cells": {
             "fill": {
              "color": "#EBF0F8"
             },
             "line": {
              "color": "white"
             }
            },
            "header": {
             "fill": {
              "color": "#C8D4E3"
             },
             "line": {
              "color": "white"
             }
            },
            "type": "table"
           }
          ]
         },
         "layout": {
          "annotationdefaults": {
           "arrowcolor": "#2a3f5f",
           "arrowhead": 0,
           "arrowwidth": 1
          },
          "autotypenumbers": "strict",
          "coloraxis": {
           "colorbar": {
            "outlinewidth": 0,
            "ticks": ""
           }
          },
          "colorscale": {
           "diverging": [
            [
             0,
             "#8e0152"
            ],
            [
             0.1,
             "#c51b7d"
            ],
            [
             0.2,
             "#de77ae"
            ],
            [
             0.3,
             "#f1b6da"
            ],
            [
             0.4,
             "#fde0ef"
            ],
            [
             0.5,
             "#f7f7f7"
            ],
            [
             0.6,
             "#e6f5d0"
            ],
            [
             0.7,
             "#b8e186"
            ],
            [
             0.8,
             "#7fbc41"
            ],
            [
             0.9,
             "#4d9221"
            ],
            [
             1,
             "#276419"
            ]
           ],
           "sequential": [
            [
             0,
             "#0d0887"
            ],
            [
             0.1111111111111111,
             "#46039f"
            ],
            [
             0.2222222222222222,
             "#7201a8"
            ],
            [
             0.3333333333333333,
             "#9c179e"
            ],
            [
             0.4444444444444444,
             "#bd3786"
            ],
            [
             0.5555555555555556,
             "#d8576b"
            ],
            [
             0.6666666666666666,
             "#ed7953"
            ],
            [
             0.7777777777777778,
             "#fb9f3a"
            ],
            [
             0.8888888888888888,
             "#fdca26"
            ],
            [
             1,
             "#f0f921"
            ]
           ],
           "sequentialminus": [
            [
             0,
             "#0d0887"
            ],
            [
             0.1111111111111111,
             "#46039f"
            ],
            [
             0.2222222222222222,
             "#7201a8"
            ],
            [
             0.3333333333333333,
             "#9c179e"
            ],
            [
             0.4444444444444444,
             "#bd3786"
            ],
            [
             0.5555555555555556,
             "#d8576b"
            ],
            [
             0.6666666666666666,
             "#ed7953"
            ],
            [
             0.7777777777777778,
             "#fb9f3a"
            ],
            [
             0.8888888888888888,
             "#fdca26"
            ],
            [
             1,
             "#f0f921"
            ]
           ]
          },
          "colorway": [
           "#636efa",
           "#EF553B",
           "#00cc96",
           "#ab63fa",
           "#FFA15A",
           "#19d3f3",
           "#FF6692",
           "#B6E880",
           "#FF97FF",
           "#FECB52"
          ],
          "font": {
           "color": "#2a3f5f"
          },
          "geo": {
           "bgcolor": "white",
           "lakecolor": "white",
           "landcolor": "#E5ECF6",
           "showlakes": true,
           "showland": true,
           "subunitcolor": "white"
          },
          "hoverlabel": {
           "align": "left"
          },
          "hovermode": "closest",
          "mapbox": {
           "style": "light"
          },
          "paper_bgcolor": "white",
          "plot_bgcolor": "#E5ECF6",
          "polar": {
           "angularaxis": {
            "gridcolor": "white",
            "linecolor": "white",
            "ticks": ""
           },
           "bgcolor": "#E5ECF6",
           "radialaxis": {
            "gridcolor": "white",
            "linecolor": "white",
            "ticks": ""
           }
          },
          "scene": {
           "xaxis": {
            "backgroundcolor": "#E5ECF6",
            "gridcolor": "white",
            "gridwidth": 2,
            "linecolor": "white",
            "showbackground": true,
            "ticks": "",
            "zerolinecolor": "white"
           },
           "yaxis": {
            "backgroundcolor": "#E5ECF6",
            "gridcolor": "white",
            "gridwidth": 2,
            "linecolor": "white",
            "showbackground": true,
            "ticks": "",
            "zerolinecolor": "white"
           },
           "zaxis": {
            "backgroundcolor": "#E5ECF6",
            "gridcolor": "white",
            "gridwidth": 2,
            "linecolor": "white",
            "showbackground": true,
            "ticks": "",
            "zerolinecolor": "white"
           }
          },
          "shapedefaults": {
           "line": {
            "color": "#2a3f5f"
           }
          },
          "ternary": {
           "aaxis": {
            "gridcolor": "white",
            "linecolor": "white",
            "ticks": ""
           },
           "baxis": {
            "gridcolor": "white",
            "linecolor": "white",
            "ticks": ""
           },
           "bgcolor": "#E5ECF6",
           "caxis": {
            "gridcolor": "white",
            "linecolor": "white",
            "ticks": ""
           }
          },
          "title": {
           "x": 0.05
          },
          "xaxis": {
           "automargin": true,
           "gridcolor": "white",
           "linecolor": "white",
           "ticks": "",
           "title": {
            "standoff": 15
           },
           "zerolinecolor": "white",
           "zerolinewidth": 2
          },
          "yaxis": {
           "automargin": true,
           "gridcolor": "white",
           "linecolor": "white",
           "ticks": "",
           "title": {
            "standoff": 15
           },
           "zerolinecolor": "white",
           "zerolinewidth": 2
          }
         }
        }
       }
      }
     },
     "metadata": {},
     "output_type": "display_data"
    }
   ],
   "source": [
    "scatter_matrix = px.scatter_matrix(df, dimensions=[\"time\", \"pulse\"], color=\"diet\").show()"
   ]
  },
  {
   "cell_type": "code",
   "execution_count": 21,
   "metadata": {},
   "outputs": [
    {
     "data": {
      "application/vnd.plotly.v1+json": {
       "config": {
        "plotlyServerURL": "https://plot.ly"
       },
       "data": [
        {
         "branchvalues": "total",
         "domain": {
          "x": [
           0,
           1
          ],
          "y": [
           0,
           1
          ]
         },
         "hovertemplate": "labels=%{label}<br>count=%{value}<br>parent=%{parent}<br>id=%{id}<extra></extra>",
         "ids": [
          "no fat/rest/80/1",
          "low fat/rest/80/1",
          "no fat/walking/80/1",
          "low fat/walking/80/1",
          "no fat/running/80/1",
          "low fat/running/80/1",
          "no fat/rest/82/1",
          "low fat/rest/82/1",
          "no fat/walking/82/1",
          "low fat/walking/82/1",
          "no fat/running/82/1",
          "low fat/running/82/1",
          "no fat/rest/83/1",
          "low fat/rest/83/1",
          "no fat/walking/83/1",
          "low fat/walking/83/1",
          "no fat/running/83/1",
          "low fat/running/83/1",
          "no fat/rest/84/1",
          "low fat/rest/84/1",
          "no fat/walking/84/1",
          "low fat/walking/84/1",
          "no fat/running/84/1",
          "low fat/running/84/1",
          "no fat/rest/85/1",
          "low fat/rest/85/1",
          "no fat/walking/85/1",
          "low fat/walking/85/1",
          "no fat/running/85/1",
          "low fat/running/85/1",
          "no fat/rest/86/1",
          "low fat/rest/86/1",
          "no fat/walking/86/1",
          "low fat/walking/86/1",
          "no fat/running/86/1",
          "low fat/running/86/1",
          "no fat/rest/87/1",
          "low fat/rest/87/1",
          "no fat/walking/87/1",
          "low fat/walking/87/1",
          "no fat/running/87/1",
          "low fat/running/87/1",
          "no fat/rest/88/1",
          "low fat/rest/88/1",
          "no fat/walking/88/1",
          "low fat/walking/88/1",
          "no fat/running/88/1",
          "low fat/running/88/1",
          "no fat/rest/89/1",
          "low fat/rest/89/1",
          "no fat/walking/89/1",
          "low fat/walking/89/1",
          "no fat/running/89/1",
          "low fat/running/89/1",
          "no fat/rest/90/1",
          "low fat/rest/90/1",
          "no fat/walking/90/1",
          "low fat/walking/90/1",
          "no fat/running/90/1",
          "low fat/running/90/1",
          "no fat/rest/91/1",
          "low fat/rest/91/1",
          "no fat/walking/91/1",
          "low fat/walking/91/1",
          "no fat/running/91/1",
          "low fat/running/91/1",
          "no fat/rest/92/1",
          "low fat/rest/92/1",
          "no fat/walking/92/1",
          "low fat/walking/92/1",
          "no fat/running/92/1",
          "low fat/running/92/1",
          "no fat/rest/93/1",
          "low fat/rest/93/1",
          "no fat/walking/93/1",
          "low fat/walking/93/1",
          "no fat/running/93/1",
          "low fat/running/93/1",
          "no fat/rest/94/1",
          "low fat/rest/94/1",
          "no fat/walking/94/1",
          "low fat/walking/94/1",
          "no fat/running/94/1",
          "low fat/running/94/1",
          "no fat/rest/95/1",
          "low fat/rest/95/1",
          "no fat/walking/95/1",
          "low fat/walking/95/1",
          "no fat/running/95/1",
          "low fat/running/95/1",
          "no fat/rest/96/1",
          "low fat/rest/96/1",
          "no fat/walking/96/1",
          "low fat/walking/96/1",
          "no fat/running/96/1",
          "low fat/running/96/1",
          "no fat/rest/97/1",
          "low fat/rest/97/1",
          "no fat/walking/97/1",
          "low fat/walking/97/1",
          "no fat/running/97/1",
          "low fat/running/97/1",
          "no fat/rest/98/1",
          "low fat/rest/98/1",
          "no fat/walking/98/1",
          "low fat/walking/98/1",
          "no fat/running/98/1",
          "low fat/running/98/1",
          "no fat/rest/99/1",
          "low fat/rest/99/1",
          "no fat/walking/99/1",
          "low fat/walking/99/1",
          "no fat/running/99/1",
          "low fat/running/99/1",
          "no fat/rest/100/1",
          "low fat/rest/100/1",
          "no fat/walking/100/1",
          "low fat/walking/100/1",
          "no fat/running/100/1",
          "low fat/running/100/1",
          "no fat/rest/101/1",
          "low fat/rest/101/1",
          "no fat/walking/101/1",
          "low fat/walking/101/1",
          "no fat/running/101/1",
          "low fat/running/101/1",
          "no fat/rest/102/1",
          "low fat/rest/102/1",
          "no fat/walking/102/1",
          "low fat/walking/102/1",
          "no fat/running/102/1",
          "low fat/running/102/1",
          "no fat/rest/103/1",
          "low fat/rest/103/1",
          "no fat/walking/103/1",
          "low fat/walking/103/1",
          "no fat/running/103/1",
          "low fat/running/103/1",
          "no fat/rest/104/1",
          "low fat/rest/104/1",
          "no fat/walking/104/1",
          "low fat/walking/104/1",
          "no fat/running/104/1",
          "low fat/running/104/1",
          "no fat/rest/105/1",
          "low fat/rest/105/1",
          "no fat/walking/105/1",
          "low fat/walking/105/1",
          "no fat/running/105/1",
          "low fat/running/105/1",
          "no fat/rest/109/1",
          "low fat/rest/109/1",
          "no fat/walking/109/1",
          "low fat/walking/109/1",
          "no fat/running/109/1",
          "low fat/running/109/1",
          "no fat/rest/110/1",
          "low fat/rest/110/1",
          "no fat/walking/110/1",
          "low fat/walking/110/1",
          "no fat/running/110/1",
          "low fat/running/110/1",
          "no fat/rest/111/1",
          "low fat/rest/111/1",
          "no fat/walking/111/1",
          "low fat/walking/111/1",
          "no fat/running/111/1",
          "low fat/running/111/1",
          "no fat/rest/112/1",
          "low fat/rest/112/1",
          "no fat/walking/112/1",
          "low fat/walking/112/1",
          "no fat/running/112/1",
          "low fat/running/112/1",
          "no fat/rest/116/1",
          "low fat/rest/116/1",
          "no fat/walking/116/1",
          "low fat/walking/116/1",
          "no fat/running/116/1",
          "low fat/running/116/1",
          "no fat/rest/120/1",
          "low fat/rest/120/1",
          "no fat/walking/120/1",
          "low fat/walking/120/1",
          "no fat/running/120/1",
          "low fat/running/120/1",
          "no fat/rest/124/1",
          "low fat/rest/124/1",
          "no fat/walking/124/1",
          "low fat/walking/124/1",
          "no fat/running/124/1",
          "low fat/running/124/1",
          "no fat/rest/126/1",
          "low fat/rest/126/1",
          "no fat/walking/126/1",
          "low fat/walking/126/1",
          "no fat/running/126/1",
          "low fat/running/126/1",
          "no fat/rest/130/1",
          "low fat/rest/130/1",
          "no fat/walking/130/1",
          "low fat/walking/130/1",
          "no fat/running/130/1",
          "low fat/running/130/1",
          "no fat/rest/132/1",
          "low fat/rest/132/1",
          "no fat/walking/132/1",
          "low fat/walking/132/1",
          "no fat/running/132/1",
          "low fat/running/132/1",
          "no fat/rest/135/1",
          "low fat/rest/135/1",
          "no fat/walking/135/1",
          "low fat/walking/135/1",
          "no fat/running/135/1",
          "low fat/running/135/1",
          "no fat/rest/140/1",
          "low fat/rest/140/1",
          "no fat/walking/140/1",
          "low fat/walking/140/1",
          "no fat/running/140/1",
          "low fat/running/140/1",
          "no fat/rest/143/1",
          "low fat/rest/143/1",
          "no fat/walking/143/1",
          "low fat/walking/143/1",
          "no fat/running/143/1",
          "low fat/running/143/1",
          "no fat/rest/150/1",
          "low fat/rest/150/1",
          "no fat/walking/150/1",
          "low fat/walking/150/1",
          "no fat/running/150/1",
          "low fat/running/150/1",
          "no fat/rest/80/15",
          "low fat/rest/80/15",
          "no fat/walking/80/15",
          "low fat/walking/80/15",
          "no fat/running/80/15",
          "low fat/running/80/15",
          "no fat/rest/82/15",
          "low fat/rest/82/15",
          "no fat/walking/82/15",
          "low fat/walking/82/15",
          "no fat/running/82/15",
          "low fat/running/82/15",
          "no fat/rest/83/15",
          "low fat/rest/83/15",
          "no fat/walking/83/15",
          "low fat/walking/83/15",
          "no fat/running/83/15",
          "low fat/running/83/15",
          "no fat/rest/84/15",
          "low fat/rest/84/15",
          "no fat/walking/84/15",
          "low fat/walking/84/15",
          "no fat/running/84/15",
          "low fat/running/84/15",
          "no fat/rest/85/15",
          "low fat/rest/85/15",
          "no fat/walking/85/15",
          "low fat/walking/85/15",
          "no fat/running/85/15",
          "low fat/running/85/15",
          "no fat/rest/86/15",
          "low fat/rest/86/15",
          "no fat/walking/86/15",
          "low fat/walking/86/15",
          "no fat/running/86/15",
          "low fat/running/86/15",
          "no fat/rest/87/15",
          "low fat/rest/87/15",
          "no fat/walking/87/15",
          "low fat/walking/87/15",
          "no fat/running/87/15",
          "low fat/running/87/15",
          "no fat/rest/88/15",
          "low fat/rest/88/15",
          "no fat/walking/88/15",
          "low fat/walking/88/15",
          "no fat/running/88/15",
          "low fat/running/88/15",
          "no fat/rest/89/15",
          "low fat/rest/89/15",
          "no fat/walking/89/15",
          "low fat/walking/89/15",
          "no fat/running/89/15",
          "low fat/running/89/15",
          "no fat/rest/90/15",
          "low fat/rest/90/15",
          "no fat/walking/90/15",
          "low fat/walking/90/15",
          "no fat/running/90/15",
          "low fat/running/90/15",
          "no fat/rest/91/15",
          "low fat/rest/91/15",
          "no fat/walking/91/15",
          "low fat/walking/91/15",
          "no fat/running/91/15",
          "low fat/running/91/15",
          "no fat/rest/92/15",
          "low fat/rest/92/15",
          "no fat/walking/92/15",
          "low fat/walking/92/15",
          "no fat/running/92/15",
          "low fat/running/92/15",
          "no fat/rest/93/15",
          "low fat/rest/93/15",
          "no fat/walking/93/15",
          "low fat/walking/93/15",
          "no fat/running/93/15",
          "low fat/running/93/15",
          "no fat/rest/94/15",
          "low fat/rest/94/15",
          "no fat/walking/94/15",
          "low fat/walking/94/15",
          "no fat/running/94/15",
          "low fat/running/94/15",
          "no fat/rest/95/15",
          "low fat/rest/95/15",
          "no fat/walking/95/15",
          "low fat/walking/95/15",
          "no fat/running/95/15",
          "low fat/running/95/15",
          "no fat/rest/96/15",
          "low fat/rest/96/15",
          "no fat/walking/96/15",
          "low fat/walking/96/15",
          "no fat/running/96/15",
          "low fat/running/96/15",
          "no fat/rest/97/15",
          "low fat/rest/97/15",
          "no fat/walking/97/15",
          "low fat/walking/97/15",
          "no fat/running/97/15",
          "low fat/running/97/15",
          "no fat/rest/98/15",
          "low fat/rest/98/15",
          "no fat/walking/98/15",
          "low fat/walking/98/15",
          "no fat/running/98/15",
          "low fat/running/98/15",
          "no fat/rest/99/15",
          "low fat/rest/99/15",
          "no fat/walking/99/15",
          "low fat/walking/99/15",
          "no fat/running/99/15",
          "low fat/running/99/15",
          "no fat/rest/100/15",
          "low fat/rest/100/15",
          "no fat/walking/100/15",
          "low fat/walking/100/15",
          "no fat/running/100/15",
          "low fat/running/100/15",
          "no fat/rest/101/15",
          "low fat/rest/101/15",
          "no fat/walking/101/15",
          "low fat/walking/101/15",
          "no fat/running/101/15",
          "low fat/running/101/15",
          "no fat/rest/102/15",
          "low fat/rest/102/15",
          "no fat/walking/102/15",
          "low fat/walking/102/15",
          "no fat/running/102/15",
          "low fat/running/102/15",
          "no fat/rest/103/15",
          "low fat/rest/103/15",
          "no fat/walking/103/15",
          "low fat/walking/103/15",
          "no fat/running/103/15",
          "low fat/running/103/15",
          "no fat/rest/104/15",
          "low fat/rest/104/15",
          "no fat/walking/104/15",
          "low fat/walking/104/15",
          "no fat/running/104/15",
          "low fat/running/104/15",
          "no fat/rest/105/15",
          "low fat/rest/105/15",
          "no fat/walking/105/15",
          "low fat/walking/105/15",
          "no fat/running/105/15",
          "low fat/running/105/15",
          "no fat/rest/109/15",
          "low fat/rest/109/15",
          "no fat/walking/109/15",
          "low fat/walking/109/15",
          "no fat/running/109/15",
          "low fat/running/109/15",
          "no fat/rest/110/15",
          "low fat/rest/110/15",
          "no fat/walking/110/15",
          "low fat/walking/110/15",
          "no fat/running/110/15",
          "low fat/running/110/15",
          "no fat/rest/111/15",
          "low fat/rest/111/15",
          "no fat/walking/111/15",
          "low fat/walking/111/15",
          "no fat/running/111/15",
          "low fat/running/111/15",
          "no fat/rest/112/15",
          "low fat/rest/112/15",
          "no fat/walking/112/15",
          "low fat/walking/112/15",
          "no fat/running/112/15",
          "low fat/running/112/15",
          "no fat/rest/116/15",
          "low fat/rest/116/15",
          "no fat/walking/116/15",
          "low fat/walking/116/15",
          "no fat/running/116/15",
          "low fat/running/116/15",
          "no fat/rest/120/15",
          "low fat/rest/120/15",
          "no fat/walking/120/15",
          "low fat/walking/120/15",
          "no fat/running/120/15",
          "low fat/running/120/15",
          "no fat/rest/124/15",
          "low fat/rest/124/15",
          "no fat/walking/124/15",
          "low fat/walking/124/15",
          "no fat/running/124/15",
          "low fat/running/124/15",
          "no fat/rest/126/15",
          "low fat/rest/126/15",
          "no fat/walking/126/15",
          "low fat/walking/126/15",
          "no fat/running/126/15",
          "low fat/running/126/15",
          "no fat/rest/130/15",
          "low fat/rest/130/15",
          "no fat/walking/130/15",
          "low fat/walking/130/15",
          "no fat/running/130/15",
          "low fat/running/130/15",
          "no fat/rest/132/15",
          "low fat/rest/132/15",
          "no fat/walking/132/15",
          "low fat/walking/132/15",
          "no fat/running/132/15",
          "low fat/running/132/15",
          "no fat/rest/135/15",
          "low fat/rest/135/15",
          "no fat/walking/135/15",
          "low fat/walking/135/15",
          "no fat/running/135/15",
          "low fat/running/135/15",
          "no fat/rest/140/15",
          "low fat/rest/140/15",
          "no fat/walking/140/15",
          "low fat/walking/140/15",
          "no fat/running/140/15",
          "low fat/running/140/15",
          "no fat/rest/143/15",
          "low fat/rest/143/15",
          "no fat/walking/143/15",
          "low fat/walking/143/15",
          "no fat/running/143/15",
          "low fat/running/143/15",
          "no fat/rest/150/15",
          "low fat/rest/150/15",
          "no fat/walking/150/15",
          "low fat/walking/150/15",
          "no fat/running/150/15",
          "low fat/running/150/15",
          "no fat/rest/80/30",
          "low fat/rest/80/30",
          "no fat/walking/80/30",
          "low fat/walking/80/30",
          "no fat/running/80/30",
          "low fat/running/80/30",
          "no fat/rest/82/30",
          "low fat/rest/82/30",
          "no fat/walking/82/30",
          "low fat/walking/82/30",
          "no fat/running/82/30",
          "low fat/running/82/30",
          "no fat/rest/83/30",
          "low fat/rest/83/30",
          "no fat/walking/83/30",
          "low fat/walking/83/30",
          "no fat/running/83/30",
          "low fat/running/83/30",
          "no fat/rest/84/30",
          "low fat/rest/84/30",
          "no fat/walking/84/30",
          "low fat/walking/84/30",
          "no fat/running/84/30",
          "low fat/running/84/30",
          "no fat/rest/85/30",
          "low fat/rest/85/30",
          "no fat/walking/85/30",
          "low fat/walking/85/30",
          "no fat/running/85/30",
          "low fat/running/85/30",
          "no fat/rest/86/30",
          "low fat/rest/86/30",
          "no fat/walking/86/30",
          "low fat/walking/86/30",
          "no fat/running/86/30",
          "low fat/running/86/30",
          "no fat/rest/87/30",
          "low fat/rest/87/30",
          "no fat/walking/87/30",
          "low fat/walking/87/30",
          "no fat/running/87/30",
          "low fat/running/87/30",
          "no fat/rest/88/30",
          "low fat/rest/88/30",
          "no fat/walking/88/30",
          "low fat/walking/88/30",
          "no fat/running/88/30",
          "low fat/running/88/30",
          "no fat/rest/89/30",
          "low fat/rest/89/30",
          "no fat/walking/89/30",
          "low fat/walking/89/30",
          "no fat/running/89/30",
          "low fat/running/89/30",
          "no fat/rest/90/30",
          "low fat/rest/90/30",
          "no fat/walking/90/30",
          "low fat/walking/90/30",
          "no fat/running/90/30",
          "low fat/running/90/30",
          "no fat/rest/91/30",
          "low fat/rest/91/30",
          "no fat/walking/91/30",
          "low fat/walking/91/30",
          "no fat/running/91/30",
          "low fat/running/91/30",
          "no fat/rest/92/30",
          "low fat/rest/92/30",
          "no fat/walking/92/30",
          "low fat/walking/92/30",
          "no fat/running/92/30",
          "low fat/running/92/30",
          "no fat/rest/93/30",
          "low fat/rest/93/30",
          "no fat/walking/93/30",
          "low fat/walking/93/30",
          "no fat/running/93/30",
          "low fat/running/93/30",
          "no fat/rest/94/30",
          "low fat/rest/94/30",
          "no fat/walking/94/30",
          "low fat/walking/94/30",
          "no fat/running/94/30",
          "low fat/running/94/30",
          "no fat/rest/95/30",
          "low fat/rest/95/30",
          "no fat/walking/95/30",
          "low fat/walking/95/30",
          "no fat/running/95/30",
          "low fat/running/95/30",
          "no fat/rest/96/30",
          "low fat/rest/96/30",
          "no fat/walking/96/30",
          "low fat/walking/96/30",
          "no fat/running/96/30",
          "low fat/running/96/30",
          "no fat/rest/97/30",
          "low fat/rest/97/30",
          "no fat/walking/97/30",
          "low fat/walking/97/30",
          "no fat/running/97/30",
          "low fat/running/97/30",
          "no fat/rest/98/30",
          "low fat/rest/98/30",
          "no fat/walking/98/30",
          "low fat/walking/98/30",
          "no fat/running/98/30",
          "low fat/running/98/30",
          "no fat/rest/99/30",
          "low fat/rest/99/30",
          "no fat/walking/99/30",
          "low fat/walking/99/30",
          "no fat/running/99/30",
          "low fat/running/99/30",
          "no fat/rest/100/30",
          "low fat/rest/100/30",
          "no fat/walking/100/30",
          "low fat/walking/100/30",
          "no fat/running/100/30",
          "low fat/running/100/30",
          "no fat/rest/101/30",
          "low fat/rest/101/30",
          "no fat/walking/101/30",
          "low fat/walking/101/30",
          "no fat/running/101/30",
          "low fat/running/101/30",
          "no fat/rest/102/30",
          "low fat/rest/102/30",
          "no fat/walking/102/30",
          "low fat/walking/102/30",
          "no fat/running/102/30",
          "low fat/running/102/30",
          "no fat/rest/103/30",
          "low fat/rest/103/30",
          "no fat/walking/103/30",
          "low fat/walking/103/30",
          "no fat/running/103/30",
          "low fat/running/103/30",
          "no fat/rest/104/30",
          "low fat/rest/104/30",
          "no fat/walking/104/30",
          "low fat/walking/104/30",
          "no fat/running/104/30",
          "low fat/running/104/30",
          "no fat/rest/105/30",
          "low fat/rest/105/30",
          "no fat/walking/105/30",
          "low fat/walking/105/30",
          "no fat/running/105/30",
          "low fat/running/105/30",
          "no fat/rest/109/30",
          "low fat/rest/109/30",
          "no fat/walking/109/30",
          "low fat/walking/109/30",
          "no fat/running/109/30",
          "low fat/running/109/30",
          "no fat/rest/110/30",
          "low fat/rest/110/30",
          "no fat/walking/110/30",
          "low fat/walking/110/30",
          "no fat/running/110/30",
          "low fat/running/110/30",
          "no fat/rest/111/30",
          "low fat/rest/111/30",
          "no fat/walking/111/30",
          "low fat/walking/111/30",
          "no fat/running/111/30",
          "low fat/running/111/30",
          "no fat/rest/112/30",
          "low fat/rest/112/30",
          "no fat/walking/112/30",
          "low fat/walking/112/30",
          "no fat/running/112/30",
          "low fat/running/112/30",
          "no fat/rest/116/30",
          "low fat/rest/116/30",
          "no fat/walking/116/30",
          "low fat/walking/116/30",
          "no fat/running/116/30",
          "low fat/running/116/30",
          "no fat/rest/120/30",
          "low fat/rest/120/30",
          "no fat/walking/120/30",
          "low fat/walking/120/30",
          "no fat/running/120/30",
          "low fat/running/120/30",
          "no fat/rest/124/30",
          "low fat/rest/124/30",
          "no fat/walking/124/30",
          "low fat/walking/124/30",
          "no fat/running/124/30",
          "low fat/running/124/30",
          "no fat/rest/126/30",
          "low fat/rest/126/30",
          "no fat/walking/126/30",
          "low fat/walking/126/30",
          "no fat/running/126/30",
          "low fat/running/126/30",
          "no fat/rest/130/30",
          "low fat/rest/130/30",
          "no fat/walking/130/30",
          "low fat/walking/130/30",
          "no fat/running/130/30",
          "low fat/running/130/30",
          "no fat/rest/132/30",
          "low fat/rest/132/30",
          "no fat/walking/132/30",
          "low fat/walking/132/30",
          "no fat/running/132/30",
          "low fat/running/132/30",
          "no fat/rest/135/30",
          "low fat/rest/135/30",
          "no fat/walking/135/30",
          "low fat/walking/135/30",
          "no fat/running/135/30",
          "low fat/running/135/30",
          "no fat/rest/140/30",
          "low fat/rest/140/30",
          "no fat/walking/140/30",
          "low fat/walking/140/30",
          "no fat/running/140/30",
          "low fat/running/140/30",
          "no fat/rest/143/30",
          "low fat/rest/143/30",
          "no fat/walking/143/30",
          "low fat/walking/143/30",
          "no fat/running/143/30",
          "low fat/running/143/30",
          "no fat/rest/150/30",
          "low fat/rest/150/30",
          "no fat/walking/150/30",
          "low fat/walking/150/30",
          "no fat/running/150/30",
          "low fat/running/150/30",
          "no fat/rest/80",
          "low fat/rest/80",
          "no fat/walking/80",
          "low fat/walking/80",
          "no fat/running/80",
          "low fat/running/80",
          "no fat/rest/82",
          "low fat/rest/82",
          "no fat/walking/82",
          "low fat/walking/82",
          "no fat/running/82",
          "low fat/running/82",
          "no fat/rest/83",
          "low fat/rest/83",
          "no fat/walking/83",
          "low fat/walking/83",
          "no fat/running/83",
          "low fat/running/83",
          "no fat/rest/84",
          "low fat/rest/84",
          "no fat/walking/84",
          "low fat/walking/84",
          "no fat/running/84",
          "low fat/running/84",
          "no fat/rest/85",
          "low fat/rest/85",
          "no fat/walking/85",
          "low fat/walking/85",
          "no fat/running/85",
          "low fat/running/85",
          "no fat/rest/86",
          "low fat/rest/86",
          "no fat/walking/86",
          "low fat/walking/86",
          "no fat/running/86",
          "low fat/running/86",
          "no fat/rest/87",
          "low fat/rest/87",
          "no fat/walking/87",
          "low fat/walking/87",
          "no fat/running/87",
          "low fat/running/87",
          "no fat/rest/88",
          "low fat/rest/88",
          "no fat/walking/88",
          "low fat/walking/88",
          "no fat/running/88",
          "low fat/running/88",
          "no fat/rest/89",
          "low fat/rest/89",
          "no fat/walking/89",
          "low fat/walking/89",
          "no fat/running/89",
          "low fat/running/89",
          "no fat/rest/90",
          "low fat/rest/90",
          "no fat/walking/90",
          "low fat/walking/90",
          "no fat/running/90",
          "low fat/running/90",
          "no fat/rest/91",
          "low fat/rest/91",
          "no fat/walking/91",
          "low fat/walking/91",
          "no fat/running/91",
          "low fat/running/91",
          "no fat/rest/92",
          "low fat/rest/92",
          "no fat/walking/92",
          "low fat/walking/92",
          "no fat/running/92",
          "low fat/running/92",
          "no fat/rest/93",
          "low fat/rest/93",
          "no fat/walking/93",
          "low fat/walking/93",
          "no fat/running/93",
          "low fat/running/93",
          "no fat/rest/94",
          "low fat/rest/94",
          "no fat/walking/94",
          "low fat/walking/94",
          "no fat/running/94",
          "low fat/running/94",
          "no fat/rest/95",
          "low fat/rest/95",
          "no fat/walking/95",
          "low fat/walking/95",
          "no fat/running/95",
          "low fat/running/95",
          "no fat/rest/96",
          "low fat/rest/96",
          "no fat/walking/96",
          "low fat/walking/96",
          "no fat/running/96",
          "low fat/running/96",
          "no fat/rest/97",
          "low fat/rest/97",
          "no fat/walking/97",
          "low fat/walking/97",
          "no fat/running/97",
          "low fat/running/97",
          "no fat/rest/98",
          "low fat/rest/98",
          "no fat/walking/98",
          "low fat/walking/98",
          "no fat/running/98",
          "low fat/running/98",
          "no fat/rest/99",
          "low fat/rest/99",
          "no fat/walking/99",
          "low fat/walking/99",
          "no fat/running/99",
          "low fat/running/99",
          "no fat/rest/100",
          "low fat/rest/100",
          "no fat/walking/100",
          "low fat/walking/100",
          "no fat/running/100",
          "low fat/running/100",
          "no fat/rest/101",
          "low fat/rest/101",
          "no fat/walking/101",
          "low fat/walking/101",
          "no fat/running/101",
          "low fat/running/101",
          "no fat/rest/102",
          "low fat/rest/102",
          "no fat/walking/102",
          "low fat/walking/102",
          "no fat/running/102",
          "low fat/running/102",
          "no fat/rest/103",
          "low fat/rest/103",
          "no fat/walking/103",
          "low fat/walking/103",
          "no fat/running/103",
          "low fat/running/103",
          "no fat/rest/104",
          "low fat/rest/104",
          "no fat/walking/104",
          "low fat/walking/104",
          "no fat/running/104",
          "low fat/running/104",
          "no fat/rest/105",
          "low fat/rest/105",
          "no fat/walking/105",
          "low fat/walking/105",
          "no fat/running/105",
          "low fat/running/105",
          "no fat/rest/109",
          "low fat/rest/109",
          "no fat/walking/109",
          "low fat/walking/109",
          "no fat/running/109",
          "low fat/running/109",
          "no fat/rest/110",
          "low fat/rest/110",
          "no fat/walking/110",
          "low fat/walking/110",
          "no fat/running/110",
          "low fat/running/110",
          "no fat/rest/111",
          "low fat/rest/111",
          "no fat/walking/111",
          "low fat/walking/111",
          "no fat/running/111",
          "low fat/running/111",
          "no fat/rest/112",
          "low fat/rest/112",
          "no fat/walking/112",
          "low fat/walking/112",
          "no fat/running/112",
          "low fat/running/112",
          "no fat/rest/116",
          "low fat/rest/116",
          "no fat/walking/116",
          "low fat/walking/116",
          "no fat/running/116",
          "low fat/running/116",
          "no fat/rest/120",
          "low fat/rest/120",
          "no fat/walking/120",
          "low fat/walking/120",
          "no fat/running/120",
          "low fat/running/120",
          "no fat/rest/124",
          "low fat/rest/124",
          "no fat/walking/124",
          "low fat/walking/124",
          "no fat/running/124",
          "low fat/running/124",
          "no fat/rest/126",
          "low fat/rest/126",
          "no fat/walking/126",
          "low fat/walking/126",
          "no fat/running/126",
          "low fat/running/126",
          "no fat/rest/130",
          "low fat/rest/130",
          "no fat/walking/130",
          "low fat/walking/130",
          "no fat/running/130",
          "low fat/running/130",
          "no fat/rest/132",
          "low fat/rest/132",
          "no fat/walking/132",
          "low fat/walking/132",
          "no fat/running/132",
          "low fat/running/132",
          "no fat/rest/135",
          "low fat/rest/135",
          "no fat/walking/135",
          "low fat/walking/135",
          "no fat/running/135",
          "low fat/running/135",
          "no fat/rest/140",
          "low fat/rest/140",
          "no fat/walking/140",
          "low fat/walking/140",
          "no fat/running/140",
          "low fat/running/140",
          "no fat/rest/143",
          "low fat/rest/143",
          "no fat/walking/143",
          "low fat/walking/143",
          "no fat/running/143",
          "low fat/running/143",
          "no fat/rest/150",
          "low fat/rest/150",
          "no fat/walking/150",
          "low fat/walking/150",
          "no fat/running/150",
          "low fat/running/150",
          "no fat/rest",
          "low fat/rest",
          "no fat/walking",
          "low fat/walking",
          "no fat/running",
          "low fat/running",
          "no fat",
          "low fat"
         ],
         "labels": [
          "1",
          "1",
          "1",
          "1",
          "1",
          "1",
          "1",
          "1",
          "1",
          "1",
          "1",
          "1",
          "1",
          "1",
          "1",
          "1",
          "1",
          "1",
          "1",
          "1",
          "1",
          "1",
          "1",
          "1",
          "1",
          "1",
          "1",
          "1",
          "1",
          "1",
          "1",
          "1",
          "1",
          "1",
          "1",
          "1",
          "1",
          "1",
          "1",
          "1",
          "1",
          "1",
          "1",
          "1",
          "1",
          "1",
          "1",
          "1",
          "1",
          "1",
          "1",
          "1",
          "1",
          "1",
          "1",
          "1",
          "1",
          "1",
          "1",
          "1",
          "1",
          "1",
          "1",
          "1",
          "1",
          "1",
          "1",
          "1",
          "1",
          "1",
          "1",
          "1",
          "1",
          "1",
          "1",
          "1",
          "1",
          "1",
          "1",
          "1",
          "1",
          "1",
          "1",
          "1",
          "1",
          "1",
          "1",
          "1",
          "1",
          "1",
          "1",
          "1",
          "1",
          "1",
          "1",
          "1",
          "1",
          "1",
          "1",
          "1",
          "1",
          "1",
          "1",
          "1",
          "1",
          "1",
          "1",
          "1",
          "1",
          "1",
          "1",
          "1",
          "1",
          "1",
          "1",
          "1",
          "1",
          "1",
          "1",
          "1",
          "1",
          "1",
          "1",
          "1",
          "1",
          "1",
          "1",
          "1",
          "1",
          "1",
          "1",
          "1",
          "1",
          "1",
          "1",
          "1",
          "1",
          "1",
          "1",
          "1",
          "1",
          "1",
          "1",
          "1",
          "1",
          "1",
          "1",
          "1",
          "1",
          "1",
          "1",
          "1",
          "1",
          "1",
          "1",
          "1",
          "1",
          "1",
          "1",
          "1",
          "1",
          "1",
          "1",
          "1",
          "1",
          "1",
          "1",
          "1",
          "1",
          "1",
          "1",
          "1",
          "1",
          "1",
          "1",
          "1",
          "1",
          "1",
          "1",
          "1",
          "1",
          "1",
          "1",
          "1",
          "1",
          "1",
          "1",
          "1",
          "1",
          "1",
          "1",
          "1",
          "1",
          "1",
          "1",
          "1",
          "1",
          "1",
          "1",
          "1",
          "1",
          "1",
          "1",
          "1",
          "1",
          "1",
          "1",
          "1",
          "1",
          "1",
          "1",
          "1",
          "1",
          "1",
          "1",
          "1",
          "1",
          "1",
          "1",
          "1",
          "1",
          "1",
          "1",
          "1",
          "1",
          "1",
          "1",
          "1",
          "1",
          "1",
          "1",
          "1",
          "1",
          "1",
          "15",
          "15",
          "15",
          "15",
          "15",
          "15",
          "15",
          "15",
          "15",
          "15",
          "15",
          "15",
          "15",
          "15",
          "15",
          "15",
          "15",
          "15",
          "15",
          "15",
          "15",
          "15",
          "15",
          "15",
          "15",
          "15",
          "15",
          "15",
          "15",
          "15",
          "15",
          "15",
          "15",
          "15",
          "15",
          "15",
          "15",
          "15",
          "15",
          "15",
          "15",
          "15",
          "15",
          "15",
          "15",
          "15",
          "15",
          "15",
          "15",
          "15",
          "15",
          "15",
          "15",
          "15",
          "15",
          "15",
          "15",
          "15",
          "15",
          "15",
          "15",
          "15",
          "15",
          "15",
          "15",
          "15",
          "15",
          "15",
          "15",
          "15",
          "15",
          "15",
          "15",
          "15",
          "15",
          "15",
          "15",
          "15",
          "15",
          "15",
          "15",
          "15",
          "15",
          "15",
          "15",
          "15",
          "15",
          "15",
          "15",
          "15",
          "15",
          "15",
          "15",
          "15",
          "15",
          "15",
          "15",
          "15",
          "15",
          "15",
          "15",
          "15",
          "15",
          "15",
          "15",
          "15",
          "15",
          "15",
          "15",
          "15",
          "15",
          "15",
          "15",
          "15",
          "15",
          "15",
          "15",
          "15",
          "15",
          "15",
          "15",
          "15",
          "15",
          "15",
          "15",
          "15",
          "15",
          "15",
          "15",
          "15",
          "15",
          "15",
          "15",
          "15",
          "15",
          "15",
          "15",
          "15",
          "15",
          "15",
          "15",
          "15",
          "15",
          "15",
          "15",
          "15",
          "15",
          "15",
          "15",
          "15",
          "15",
          "15",
          "15",
          "15",
          "15",
          "15",
          "15",
          "15",
          "15",
          "15",
          "15",
          "15",
          "15",
          "15",
          "15",
          "15",
          "15",
          "15",
          "15",
          "15",
          "15",
          "15",
          "15",
          "15",
          "15",
          "15",
          "15",
          "15",
          "15",
          "15",
          "15",
          "15",
          "15",
          "15",
          "15",
          "15",
          "15",
          "15",
          "15",
          "15",
          "15",
          "15",
          "15",
          "15",
          "15",
          "15",
          "15",
          "15",
          "15",
          "15",
          "15",
          "15",
          "15",
          "15",
          "15",
          "15",
          "15",
          "15",
          "15",
          "15",
          "15",
          "15",
          "15",
          "15",
          "15",
          "15",
          "15",
          "15",
          "15",
          "15",
          "15",
          "15",
          "15",
          "15",
          "15",
          "15",
          "15",
          "15",
          "15",
          "15",
          "15",
          "15",
          "15",
          "15",
          "30",
          "30",
          "30",
          "30",
          "30",
          "30",
          "30",
          "30",
          "30",
          "30",
          "30",
          "30",
          "30",
          "30",
          "30",
          "30",
          "30",
          "30",
          "30",
          "30",
          "30",
          "30",
          "30",
          "30",
          "30",
          "30",
          "30",
          "30",
          "30",
          "30",
          "30",
          "30",
          "30",
          "30",
          "30",
          "30",
          "30",
          "30",
          "30",
          "30",
          "30",
          "30",
          "30",
          "30",
          "30",
          "30",
          "30",
          "30",
          "30",
          "30",
          "30",
          "30",
          "30",
          "30",
          "30",
          "30",
          "30",
          "30",
          "30",
          "30",
          "30",
          "30",
          "30",
          "30",
          "30",
          "30",
          "30",
          "30",
          "30",
          "30",
          "30",
          "30",
          "30",
          "30",
          "30",
          "30",
          "30",
          "30",
          "30",
          "30",
          "30",
          "30",
          "30",
          "30",
          "30",
          "30",
          "30",
          "30",
          "30",
          "30",
          "30",
          "30",
          "30",
          "30",
          "30",
          "30",
          "30",
          "30",
          "30",
          "30",
          "30",
          "30",
          "30",
          "30",
          "30",
          "30",
          "30",
          "30",
          "30",
          "30",
          "30",
          "30",
          "30",
          "30",
          "30",
          "30",
          "30",
          "30",
          "30",
          "30",
          "30",
          "30",
          "30",
          "30",
          "30",
          "30",
          "30",
          "30",
          "30",
          "30",
          "30",
          "30",
          "30",
          "30",
          "30",
          "30",
          "30",
          "30",
          "30",
          "30",
          "30",
          "30",
          "30",
          "30",
          "30",
          "30",
          "30",
          "30",
          "30",
          "30",
          "30",
          "30",
          "30",
          "30",
          "30",
          "30",
          "30",
          "30",
          "30",
          "30",
          "30",
          "30",
          "30",
          "30",
          "30",
          "30",
          "30",
          "30",
          "30",
          "30",
          "30",
          "30",
          "30",
          "30",
          "30",
          "30",
          "30",
          "30",
          "30",
          "30",
          "30",
          "30",
          "30",
          "30",
          "30",
          "30",
          "30",
          "30",
          "30",
          "30",
          "30",
          "30",
          "30",
          "30",
          "30",
          "30",
          "30",
          "30",
          "30",
          "30",
          "30",
          "30",
          "30",
          "30",
          "30",
          "30",
          "30",
          "30",
          "30",
          "30",
          "30",
          "30",
          "30",
          "30",
          "30",
          "30",
          "30",
          "30",
          "30",
          "30",
          "30",
          "30",
          "30",
          "30",
          "30",
          "30",
          "30",
          "30",
          "30",
          "30",
          "30",
          "30",
          "30",
          "30",
          "80",
          "80",
          "80",
          "80",
          "80",
          "80",
          "82",
          "82",
          "82",
          "82",
          "82",
          "82",
          "83",
          "83",
          "83",
          "83",
          "83",
          "83",
          "84",
          "84",
          "84",
          "84",
          "84",
          "84",
          "85",
          "85",
          "85",
          "85",
          "85",
          "85",
          "86",
          "86",
          "86",
          "86",
          "86",
          "86",
          "87",
          "87",
          "87",
          "87",
          "87",
          "87",
          "88",
          "88",
          "88",
          "88",
          "88",
          "88",
          "89",
          "89",
          "89",
          "89",
          "89",
          "89",
          "90",
          "90",
          "90",
          "90",
          "90",
          "90",
          "91",
          "91",
          "91",
          "91",
          "91",
          "91",
          "92",
          "92",
          "92",
          "92",
          "92",
          "92",
          "93",
          "93",
          "93",
          "93",
          "93",
          "93",
          "94",
          "94",
          "94",
          "94",
          "94",
          "94",
          "95",
          "95",
          "95",
          "95",
          "95",
          "95",
          "96",
          "96",
          "96",
          "96",
          "96",
          "96",
          "97",
          "97",
          "97",
          "97",
          "97",
          "97",
          "98",
          "98",
          "98",
          "98",
          "98",
          "98",
          "99",
          "99",
          "99",
          "99",
          "99",
          "99",
          "100",
          "100",
          "100",
          "100",
          "100",
          "100",
          "101",
          "101",
          "101",
          "101",
          "101",
          "101",
          "102",
          "102",
          "102",
          "102",
          "102",
          "102",
          "103",
          "103",
          "103",
          "103",
          "103",
          "103",
          "104",
          "104",
          "104",
          "104",
          "104",
          "104",
          "105",
          "105",
          "105",
          "105",
          "105",
          "105",
          "109",
          "109",
          "109",
          "109",
          "109",
          "109",
          "110",
          "110",
          "110",
          "110",
          "110",
          "110",
          "111",
          "111",
          "111",
          "111",
          "111",
          "111",
          "112",
          "112",
          "112",
          "112",
          "112",
          "112",
          "116",
          "116",
          "116",
          "116",
          "116",
          "116",
          "120",
          "120",
          "120",
          "120",
          "120",
          "120",
          "124",
          "124",
          "124",
          "124",
          "124",
          "124",
          "126",
          "126",
          "126",
          "126",
          "126",
          "126",
          "130",
          "130",
          "130",
          "130",
          "130",
          "130",
          "132",
          "132",
          "132",
          "132",
          "132",
          "132",
          "135",
          "135",
          "135",
          "135",
          "135",
          "135",
          "140",
          "140",
          "140",
          "140",
          "140",
          "140",
          "143",
          "143",
          "143",
          "143",
          "143",
          "143",
          "150",
          "150",
          "150",
          "150",
          "150",
          "150",
          "rest",
          "rest",
          "walking",
          "walking",
          "running",
          "running",
          "no fat",
          "low fat"
         ],
         "name": "",
         "parents": [
          "no fat/rest/80",
          "low fat/rest/80",
          "no fat/walking/80",
          "low fat/walking/80",
          "no fat/running/80",
          "low fat/running/80",
          "no fat/rest/82",
          "low fat/rest/82",
          "no fat/walking/82",
          "low fat/walking/82",
          "no fat/running/82",
          "low fat/running/82",
          "no fat/rest/83",
          "low fat/rest/83",
          "no fat/walking/83",
          "low fat/walking/83",
          "no fat/running/83",
          "low fat/running/83",
          "no fat/rest/84",
          "low fat/rest/84",
          "no fat/walking/84",
          "low fat/walking/84",
          "no fat/running/84",
          "low fat/running/84",
          "no fat/rest/85",
          "low fat/rest/85",
          "no fat/walking/85",
          "low fat/walking/85",
          "no fat/running/85",
          "low fat/running/85",
          "no fat/rest/86",
          "low fat/rest/86",
          "no fat/walking/86",
          "low fat/walking/86",
          "no fat/running/86",
          "low fat/running/86",
          "no fat/rest/87",
          "low fat/rest/87",
          "no fat/walking/87",
          "low fat/walking/87",
          "no fat/running/87",
          "low fat/running/87",
          "no fat/rest/88",
          "low fat/rest/88",
          "no fat/walking/88",
          "low fat/walking/88",
          "no fat/running/88",
          "low fat/running/88",
          "no fat/rest/89",
          "low fat/rest/89",
          "no fat/walking/89",
          "low fat/walking/89",
          "no fat/running/89",
          "low fat/running/89",
          "no fat/rest/90",
          "low fat/rest/90",
          "no fat/walking/90",
          "low fat/walking/90",
          "no fat/running/90",
          "low fat/running/90",
          "no fat/rest/91",
          "low fat/rest/91",
          "no fat/walking/91",
          "low fat/walking/91",
          "no fat/running/91",
          "low fat/running/91",
          "no fat/rest/92",
          "low fat/rest/92",
          "no fat/walking/92",
          "low fat/walking/92",
          "no fat/running/92",
          "low fat/running/92",
          "no fat/rest/93",
          "low fat/rest/93",
          "no fat/walking/93",
          "low fat/walking/93",
          "no fat/running/93",
          "low fat/running/93",
          "no fat/rest/94",
          "low fat/rest/94",
          "no fat/walking/94",
          "low fat/walking/94",
          "no fat/running/94",
          "low fat/running/94",
          "no fat/rest/95",
          "low fat/rest/95",
          "no fat/walking/95",
          "low fat/walking/95",
          "no fat/running/95",
          "low fat/running/95",
          "no fat/rest/96",
          "low fat/rest/96",
          "no fat/walking/96",
          "low fat/walking/96",
          "no fat/running/96",
          "low fat/running/96",
          "no fat/rest/97",
          "low fat/rest/97",
          "no fat/walking/97",
          "low fat/walking/97",
          "no fat/running/97",
          "low fat/running/97",
          "no fat/rest/98",
          "low fat/rest/98",
          "no fat/walking/98",
          "low fat/walking/98",
          "no fat/running/98",
          "low fat/running/98",
          "no fat/rest/99",
          "low fat/rest/99",
          "no fat/walking/99",
          "low fat/walking/99",
          "no fat/running/99",
          "low fat/running/99",
          "no fat/rest/100",
          "low fat/rest/100",
          "no fat/walking/100",
          "low fat/walking/100",
          "no fat/running/100",
          "low fat/running/100",
          "no fat/rest/101",
          "low fat/rest/101",
          "no fat/walking/101",
          "low fat/walking/101",
          "no fat/running/101",
          "low fat/running/101",
          "no fat/rest/102",
          "low fat/rest/102",
          "no fat/walking/102",
          "low fat/walking/102",
          "no fat/running/102",
          "low fat/running/102",
          "no fat/rest/103",
          "low fat/rest/103",
          "no fat/walking/103",
          "low fat/walking/103",
          "no fat/running/103",
          "low fat/running/103",
          "no fat/rest/104",
          "low fat/rest/104",
          "no fat/walking/104",
          "low fat/walking/104",
          "no fat/running/104",
          "low fat/running/104",
          "no fat/rest/105",
          "low fat/rest/105",
          "no fat/walking/105",
          "low fat/walking/105",
          "no fat/running/105",
          "low fat/running/105",
          "no fat/rest/109",
          "low fat/rest/109",
          "no fat/walking/109",
          "low fat/walking/109",
          "no fat/running/109",
          "low fat/running/109",
          "no fat/rest/110",
          "low fat/rest/110",
          "no fat/walking/110",
          "low fat/walking/110",
          "no fat/running/110",
          "low fat/running/110",
          "no fat/rest/111",
          "low fat/rest/111",
          "no fat/walking/111",
          "low fat/walking/111",
          "no fat/running/111",
          "low fat/running/111",
          "no fat/rest/112",
          "low fat/rest/112",
          "no fat/walking/112",
          "low fat/walking/112",
          "no fat/running/112",
          "low fat/running/112",
          "no fat/rest/116",
          "low fat/rest/116",
          "no fat/walking/116",
          "low fat/walking/116",
          "no fat/running/116",
          "low fat/running/116",
          "no fat/rest/120",
          "low fat/rest/120",
          "no fat/walking/120",
          "low fat/walking/120",
          "no fat/running/120",
          "low fat/running/120",
          "no fat/rest/124",
          "low fat/rest/124",
          "no fat/walking/124",
          "low fat/walking/124",
          "no fat/running/124",
          "low fat/running/124",
          "no fat/rest/126",
          "low fat/rest/126",
          "no fat/walking/126",
          "low fat/walking/126",
          "no fat/running/126",
          "low fat/running/126",
          "no fat/rest/130",
          "low fat/rest/130",
          "no fat/walking/130",
          "low fat/walking/130",
          "no fat/running/130",
          "low fat/running/130",
          "no fat/rest/132",
          "low fat/rest/132",
          "no fat/walking/132",
          "low fat/walking/132",
          "no fat/running/132",
          "low fat/running/132",
          "no fat/rest/135",
          "low fat/rest/135",
          "no fat/walking/135",
          "low fat/walking/135",
          "no fat/running/135",
          "low fat/running/135",
          "no fat/rest/140",
          "low fat/rest/140",
          "no fat/walking/140",
          "low fat/walking/140",
          "no fat/running/140",
          "low fat/running/140",
          "no fat/rest/143",
          "low fat/rest/143",
          "no fat/walking/143",
          "low fat/walking/143",
          "no fat/running/143",
          "low fat/running/143",
          "no fat/rest/150",
          "low fat/rest/150",
          "no fat/walking/150",
          "low fat/walking/150",
          "no fat/running/150",
          "low fat/running/150",
          "no fat/rest/80",
          "low fat/rest/80",
          "no fat/walking/80",
          "low fat/walking/80",
          "no fat/running/80",
          "low fat/running/80",
          "no fat/rest/82",
          "low fat/rest/82",
          "no fat/walking/82",
          "low fat/walking/82",
          "no fat/running/82",
          "low fat/running/82",
          "no fat/rest/83",
          "low fat/rest/83",
          "no fat/walking/83",
          "low fat/walking/83",
          "no fat/running/83",
          "low fat/running/83",
          "no fat/rest/84",
          "low fat/rest/84",
          "no fat/walking/84",
          "low fat/walking/84",
          "no fat/running/84",
          "low fat/running/84",
          "no fat/rest/85",
          "low fat/rest/85",
          "no fat/walking/85",
          "low fat/walking/85",
          "no fat/running/85",
          "low fat/running/85",
          "no fat/rest/86",
          "low fat/rest/86",
          "no fat/walking/86",
          "low fat/walking/86",
          "no fat/running/86",
          "low fat/running/86",
          "no fat/rest/87",
          "low fat/rest/87",
          "no fat/walking/87",
          "low fat/walking/87",
          "no fat/running/87",
          "low fat/running/87",
          "no fat/rest/88",
          "low fat/rest/88",
          "no fat/walking/88",
          "low fat/walking/88",
          "no fat/running/88",
          "low fat/running/88",
          "no fat/rest/89",
          "low fat/rest/89",
          "no fat/walking/89",
          "low fat/walking/89",
          "no fat/running/89",
          "low fat/running/89",
          "no fat/rest/90",
          "low fat/rest/90",
          "no fat/walking/90",
          "low fat/walking/90",
          "no fat/running/90",
          "low fat/running/90",
          "no fat/rest/91",
          "low fat/rest/91",
          "no fat/walking/91",
          "low fat/walking/91",
          "no fat/running/91",
          "low fat/running/91",
          "no fat/rest/92",
          "low fat/rest/92",
          "no fat/walking/92",
          "low fat/walking/92",
          "no fat/running/92",
          "low fat/running/92",
          "no fat/rest/93",
          "low fat/rest/93",
          "no fat/walking/93",
          "low fat/walking/93",
          "no fat/running/93",
          "low fat/running/93",
          "no fat/rest/94",
          "low fat/rest/94",
          "no fat/walking/94",
          "low fat/walking/94",
          "no fat/running/94",
          "low fat/running/94",
          "no fat/rest/95",
          "low fat/rest/95",
          "no fat/walking/95",
          "low fat/walking/95",
          "no fat/running/95",
          "low fat/running/95",
          "no fat/rest/96",
          "low fat/rest/96",
          "no fat/walking/96",
          "low fat/walking/96",
          "no fat/running/96",
          "low fat/running/96",
          "no fat/rest/97",
          "low fat/rest/97",
          "no fat/walking/97",
          "low fat/walking/97",
          "no fat/running/97",
          "low fat/running/97",
          "no fat/rest/98",
          "low fat/rest/98",
          "no fat/walking/98",
          "low fat/walking/98",
          "no fat/running/98",
          "low fat/running/98",
          "no fat/rest/99",
          "low fat/rest/99",
          "no fat/walking/99",
          "low fat/walking/99",
          "no fat/running/99",
          "low fat/running/99",
          "no fat/rest/100",
          "low fat/rest/100",
          "no fat/walking/100",
          "low fat/walking/100",
          "no fat/running/100",
          "low fat/running/100",
          "no fat/rest/101",
          "low fat/rest/101",
          "no fat/walking/101",
          "low fat/walking/101",
          "no fat/running/101",
          "low fat/running/101",
          "no fat/rest/102",
          "low fat/rest/102",
          "no fat/walking/102",
          "low fat/walking/102",
          "no fat/running/102",
          "low fat/running/102",
          "no fat/rest/103",
          "low fat/rest/103",
          "no fat/walking/103",
          "low fat/walking/103",
          "no fat/running/103",
          "low fat/running/103",
          "no fat/rest/104",
          "low fat/rest/104",
          "no fat/walking/104",
          "low fat/walking/104",
          "no fat/running/104",
          "low fat/running/104",
          "no fat/rest/105",
          "low fat/rest/105",
          "no fat/walking/105",
          "low fat/walking/105",
          "no fat/running/105",
          "low fat/running/105",
          "no fat/rest/109",
          "low fat/rest/109",
          "no fat/walking/109",
          "low fat/walking/109",
          "no fat/running/109",
          "low fat/running/109",
          "no fat/rest/110",
          "low fat/rest/110",
          "no fat/walking/110",
          "low fat/walking/110",
          "no fat/running/110",
          "low fat/running/110",
          "no fat/rest/111",
          "low fat/rest/111",
          "no fat/walking/111",
          "low fat/walking/111",
          "no fat/running/111",
          "low fat/running/111",
          "no fat/rest/112",
          "low fat/rest/112",
          "no fat/walking/112",
          "low fat/walking/112",
          "no fat/running/112",
          "low fat/running/112",
          "no fat/rest/116",
          "low fat/rest/116",
          "no fat/walking/116",
          "low fat/walking/116",
          "no fat/running/116",
          "low fat/running/116",
          "no fat/rest/120",
          "low fat/rest/120",
          "no fat/walking/120",
          "low fat/walking/120",
          "no fat/running/120",
          "low fat/running/120",
          "no fat/rest/124",
          "low fat/rest/124",
          "no fat/walking/124",
          "low fat/walking/124",
          "no fat/running/124",
          "low fat/running/124",
          "no fat/rest/126",
          "low fat/rest/126",
          "no fat/walking/126",
          "low fat/walking/126",
          "no fat/running/126",
          "low fat/running/126",
          "no fat/rest/130",
          "low fat/rest/130",
          "no fat/walking/130",
          "low fat/walking/130",
          "no fat/running/130",
          "low fat/running/130",
          "no fat/rest/132",
          "low fat/rest/132",
          "no fat/walking/132",
          "low fat/walking/132",
          "no fat/running/132",
          "low fat/running/132",
          "no fat/rest/135",
          "low fat/rest/135",
          "no fat/walking/135",
          "low fat/walking/135",
          "no fat/running/135",
          "low fat/running/135",
          "no fat/rest/140",
          "low fat/rest/140",
          "no fat/walking/140",
          "low fat/walking/140",
          "no fat/running/140",
          "low fat/running/140",
          "no fat/rest/143",
          "low fat/rest/143",
          "no fat/walking/143",
          "low fat/walking/143",
          "no fat/running/143",
          "low fat/running/143",
          "no fat/rest/150",
          "low fat/rest/150",
          "no fat/walking/150",
          "low fat/walking/150",
          "no fat/running/150",
          "low fat/running/150",
          "no fat/rest/80",
          "low fat/rest/80",
          "no fat/walking/80",
          "low fat/walking/80",
          "no fat/running/80",
          "low fat/running/80",
          "no fat/rest/82",
          "low fat/rest/82",
          "no fat/walking/82",
          "low fat/walking/82",
          "no fat/running/82",
          "low fat/running/82",
          "no fat/rest/83",
          "low fat/rest/83",
          "no fat/walking/83",
          "low fat/walking/83",
          "no fat/running/83",
          "low fat/running/83",
          "no fat/rest/84",
          "low fat/rest/84",
          "no fat/walking/84",
          "low fat/walking/84",
          "no fat/running/84",
          "low fat/running/84",
          "no fat/rest/85",
          "low fat/rest/85",
          "no fat/walking/85",
          "low fat/walking/85",
          "no fat/running/85",
          "low fat/running/85",
          "no fat/rest/86",
          "low fat/rest/86",
          "no fat/walking/86",
          "low fat/walking/86",
          "no fat/running/86",
          "low fat/running/86",
          "no fat/rest/87",
          "low fat/rest/87",
          "no fat/walking/87",
          "low fat/walking/87",
          "no fat/running/87",
          "low fat/running/87",
          "no fat/rest/88",
          "low fat/rest/88",
          "no fat/walking/88",
          "low fat/walking/88",
          "no fat/running/88",
          "low fat/running/88",
          "no fat/rest/89",
          "low fat/rest/89",
          "no fat/walking/89",
          "low fat/walking/89",
          "no fat/running/89",
          "low fat/running/89",
          "no fat/rest/90",
          "low fat/rest/90",
          "no fat/walking/90",
          "low fat/walking/90",
          "no fat/running/90",
          "low fat/running/90",
          "no fat/rest/91",
          "low fat/rest/91",
          "no fat/walking/91",
          "low fat/walking/91",
          "no fat/running/91",
          "low fat/running/91",
          "no fat/rest/92",
          "low fat/rest/92",
          "no fat/walking/92",
          "low fat/walking/92",
          "no fat/running/92",
          "low fat/running/92",
          "no fat/rest/93",
          "low fat/rest/93",
          "no fat/walking/93",
          "low fat/walking/93",
          "no fat/running/93",
          "low fat/running/93",
          "no fat/rest/94",
          "low fat/rest/94",
          "no fat/walking/94",
          "low fat/walking/94",
          "no fat/running/94",
          "low fat/running/94",
          "no fat/rest/95",
          "low fat/rest/95",
          "no fat/walking/95",
          "low fat/walking/95",
          "no fat/running/95",
          "low fat/running/95",
          "no fat/rest/96",
          "low fat/rest/96",
          "no fat/walking/96",
          "low fat/walking/96",
          "no fat/running/96",
          "low fat/running/96",
          "no fat/rest/97",
          "low fat/rest/97",
          "no fat/walking/97",
          "low fat/walking/97",
          "no fat/running/97",
          "low fat/running/97",
          "no fat/rest/98",
          "low fat/rest/98",
          "no fat/walking/98",
          "low fat/walking/98",
          "no fat/running/98",
          "low fat/running/98",
          "no fat/rest/99",
          "low fat/rest/99",
          "no fat/walking/99",
          "low fat/walking/99",
          "no fat/running/99",
          "low fat/running/99",
          "no fat/rest/100",
          "low fat/rest/100",
          "no fat/walking/100",
          "low fat/walking/100",
          "no fat/running/100",
          "low fat/running/100",
          "no fat/rest/101",
          "low fat/rest/101",
          "no fat/walking/101",
          "low fat/walking/101",
          "no fat/running/101",
          "low fat/running/101",
          "no fat/rest/102",
          "low fat/rest/102",
          "no fat/walking/102",
          "low fat/walking/102",
          "no fat/running/102",
          "low fat/running/102",
          "no fat/rest/103",
          "low fat/rest/103",
          "no fat/walking/103",
          "low fat/walking/103",
          "no fat/running/103",
          "low fat/running/103",
          "no fat/rest/104",
          "low fat/rest/104",
          "no fat/walking/104",
          "low fat/walking/104",
          "no fat/running/104",
          "low fat/running/104",
          "no fat/rest/105",
          "low fat/rest/105",
          "no fat/walking/105",
          "low fat/walking/105",
          "no fat/running/105",
          "low fat/running/105",
          "no fat/rest/109",
          "low fat/rest/109",
          "no fat/walking/109",
          "low fat/walking/109",
          "no fat/running/109",
          "low fat/running/109",
          "no fat/rest/110",
          "low fat/rest/110",
          "no fat/walking/110",
          "low fat/walking/110",
          "no fat/running/110",
          "low fat/running/110",
          "no fat/rest/111",
          "low fat/rest/111",
          "no fat/walking/111",
          "low fat/walking/111",
          "no fat/running/111",
          "low fat/running/111",
          "no fat/rest/112",
          "low fat/rest/112",
          "no fat/walking/112",
          "low fat/walking/112",
          "no fat/running/112",
          "low fat/running/112",
          "no fat/rest/116",
          "low fat/rest/116",
          "no fat/walking/116",
          "low fat/walking/116",
          "no fat/running/116",
          "low fat/running/116",
          "no fat/rest/120",
          "low fat/rest/120",
          "no fat/walking/120",
          "low fat/walking/120",
          "no fat/running/120",
          "low fat/running/120",
          "no fat/rest/124",
          "low fat/rest/124",
          "no fat/walking/124",
          "low fat/walking/124",
          "no fat/running/124",
          "low fat/running/124",
          "no fat/rest/126",
          "low fat/rest/126",
          "no fat/walking/126",
          "low fat/walking/126",
          "no fat/running/126",
          "low fat/running/126",
          "no fat/rest/130",
          "low fat/rest/130",
          "no fat/walking/130",
          "low fat/walking/130",
          "no fat/running/130",
          "low fat/running/130",
          "no fat/rest/132",
          "low fat/rest/132",
          "no fat/walking/132",
          "low fat/walking/132",
          "no fat/running/132",
          "low fat/running/132",
          "no fat/rest/135",
          "low fat/rest/135",
          "no fat/walking/135",
          "low fat/walking/135",
          "no fat/running/135",
          "low fat/running/135",
          "no fat/rest/140",
          "low fat/rest/140",
          "no fat/walking/140",
          "low fat/walking/140",
          "no fat/running/140",
          "low fat/running/140",
          "no fat/rest/143",
          "low fat/rest/143",
          "no fat/walking/143",
          "low fat/walking/143",
          "no fat/running/143",
          "low fat/running/143",
          "no fat/rest/150",
          "low fat/rest/150",
          "no fat/walking/150",
          "low fat/walking/150",
          "no fat/running/150",
          "low fat/running/150",
          "no fat/rest",
          "low fat/rest",
          "no fat/walking",
          "low fat/walking",
          "no fat/running",
          "low fat/running",
          "no fat/rest",
          "low fat/rest",
          "no fat/walking",
          "low fat/walking",
          "no fat/running",
          "low fat/running",
          "no fat/rest",
          "low fat/rest",
          "no fat/walking",
          "low fat/walking",
          "no fat/running",
          "low fat/running",
          "no fat/rest",
          "low fat/rest",
          "no fat/walking",
          "low fat/walking",
          "no fat/running",
          "low fat/running",
          "no fat/rest",
          "low fat/rest",
          "no fat/walking",
          "low fat/walking",
          "no fat/running",
          "low fat/running",
          "no fat/rest",
          "low fat/rest",
          "no fat/walking",
          "low fat/walking",
          "no fat/running",
          "low fat/running",
          "no fat/rest",
          "low fat/rest",
          "no fat/walking",
          "low fat/walking",
          "no fat/running",
          "low fat/running",
          "no fat/rest",
          "low fat/rest",
          "no fat/walking",
          "low fat/walking",
          "no fat/running",
          "low fat/running",
          "no fat/rest",
          "low fat/rest",
          "no fat/walking",
          "low fat/walking",
          "no fat/running",
          "low fat/running",
          "no fat/rest",
          "low fat/rest",
          "no fat/walking",
          "low fat/walking",
          "no fat/running",
          "low fat/running",
          "no fat/rest",
          "low fat/rest",
          "no fat/walking",
          "low fat/walking",
          "no fat/running",
          "low fat/running",
          "no fat/rest",
          "low fat/rest",
          "no fat/walking",
          "low fat/walking",
          "no fat/running",
          "low fat/running",
          "no fat/rest",
          "low fat/rest",
          "no fat/walking",
          "low fat/walking",
          "no fat/running",
          "low fat/running",
          "no fat/rest",
          "low fat/rest",
          "no fat/walking",
          "low fat/walking",
          "no fat/running",
          "low fat/running",
          "no fat/rest",
          "low fat/rest",
          "no fat/walking",
          "low fat/walking",
          "no fat/running",
          "low fat/running",
          "no fat/rest",
          "low fat/rest",
          "no fat/walking",
          "low fat/walking",
          "no fat/running",
          "low fat/running",
          "no fat/rest",
          "low fat/rest",
          "no fat/walking",
          "low fat/walking",
          "no fat/running",
          "low fat/running",
          "no fat/rest",
          "low fat/rest",
          "no fat/walking",
          "low fat/walking",
          "no fat/running",
          "low fat/running",
          "no fat/rest",
          "low fat/rest",
          "no fat/walking",
          "low fat/walking",
          "no fat/running",
          "low fat/running",
          "no fat/rest",
          "low fat/rest",
          "no fat/walking",
          "low fat/walking",
          "no fat/running",
          "low fat/running",
          "no fat/rest",
          "low fat/rest",
          "no fat/walking",
          "low fat/walking",
          "no fat/running",
          "low fat/running",
          "no fat/rest",
          "low fat/rest",
          "no fat/walking",
          "low fat/walking",
          "no fat/running",
          "low fat/running",
          "no fat/rest",
          "low fat/rest",
          "no fat/walking",
          "low fat/walking",
          "no fat/running",
          "low fat/running",
          "no fat/rest",
          "low fat/rest",
          "no fat/walking",
          "low fat/walking",
          "no fat/running",
          "low fat/running",
          "no fat/rest",
          "low fat/rest",
          "no fat/walking",
          "low fat/walking",
          "no fat/running",
          "low fat/running",
          "no fat/rest",
          "low fat/rest",
          "no fat/walking",
          "low fat/walking",
          "no fat/running",
          "low fat/running",
          "no fat/rest",
          "low fat/rest",
          "no fat/walking",
          "low fat/walking",
          "no fat/running",
          "low fat/running",
          "no fat/rest",
          "low fat/rest",
          "no fat/walking",
          "low fat/walking",
          "no fat/running",
          "low fat/running",
          "no fat/rest",
          "low fat/rest",
          "no fat/walking",
          "low fat/walking",
          "no fat/running",
          "low fat/running",
          "no fat/rest",
          "low fat/rest",
          "no fat/walking",
          "low fat/walking",
          "no fat/running",
          "low fat/running",
          "no fat/rest",
          "low fat/rest",
          "no fat/walking",
          "low fat/walking",
          "no fat/running",
          "low fat/running",
          "no fat/rest",
          "low fat/rest",
          "no fat/walking",
          "low fat/walking",
          "no fat/running",
          "low fat/running",
          "no fat/rest",
          "low fat/rest",
          "no fat/walking",
          "low fat/walking",
          "no fat/running",
          "low fat/running",
          "no fat/rest",
          "low fat/rest",
          "no fat/walking",
          "low fat/walking",
          "no fat/running",
          "low fat/running",
          "no fat/rest",
          "low fat/rest",
          "no fat/walking",
          "low fat/walking",
          "no fat/running",
          "low fat/running",
          "no fat/rest",
          "low fat/rest",
          "no fat/walking",
          "low fat/walking",
          "no fat/running",
          "low fat/running",
          "no fat/rest",
          "low fat/rest",
          "no fat/walking",
          "low fat/walking",
          "no fat/running",
          "low fat/running",
          "no fat/rest",
          "low fat/rest",
          "no fat/walking",
          "low fat/walking",
          "no fat/running",
          "low fat/running",
          "no fat/rest",
          "low fat/rest",
          "no fat/walking",
          "low fat/walking",
          "no fat/running",
          "low fat/running",
          "no fat",
          "low fat",
          "no fat",
          "low fat",
          "no fat",
          "low fat",
          "",
          ""
         ],
         "type": "treemap",
         "values": [
          0,
          1,
          0,
          0,
          0,
          0,
          0,
          0,
          0,
          0,
          0,
          0,
          1,
          0,
          0,
          0,
          0,
          0,
          0,
          0,
          1,
          0,
          0,
          0,
          0,
          1,
          0,
          0,
          0,
          0,
          0,
          0,
          0,
          1,
          0,
          0,
          1,
          0,
          0,
          0,
          0,
          1,
          0,
          0,
          0,
          0,
          0,
          0,
          0,
          0,
          0,
          1,
          0,
          0,
          0,
          1,
          0,
          1,
          0,
          0,
          0,
          1,
          0,
          0,
          0,
          0,
          1,
          0,
          1,
          0,
          0,
          0,
          0,
          0,
          0,
          1,
          0,
          1,
          0,
          0,
          0,
          0,
          1,
          1,
          0,
          0,
          0,
          1,
          1,
          0,
          0,
          0,
          0,
          0,
          0,
          0,
          1,
          1,
          1,
          0,
          0,
          0,
          0,
          0,
          0,
          0,
          0,
          2,
          0,
          0,
          0,
          0,
          1,
          0,
          1,
          0,
          0,
          0,
          1,
          0,
          0,
          0,
          0,
          0,
          0,
          0,
          0,
          0,
          1,
          0,
          0,
          0,
          0,
          0,
          1,
          0,
          1,
          0,
          0,
          0,
          0,
          0,
          0,
          0,
          0,
          0,
          0,
          0,
          0,
          0,
          0,
          0,
          0,
          0,
          0,
          0,
          0,
          0,
          0,
          0,
          0,
          0,
          0,
          0,
          0,
          0,
          0,
          0,
          0,
          0,
          0,
          0,
          0,
          0,
          0,
          0,
          0,
          0,
          0,
          0,
          0,
          0,
          0,
          0,
          0,
          0,
          0,
          0,
          0,
          0,
          0,
          0,
          0,
          0,
          0,
          0,
          0,
          0,
          0,
          0,
          0,
          0,
          0,
          0,
          0,
          0,
          0,
          0,
          0,
          0,
          0,
          0,
          0,
          0,
          0,
          0,
          0,
          0,
          0,
          0,
          0,
          0,
          0,
          0,
          0,
          0,
          0,
          0,
          0,
          0,
          0,
          0,
          0,
          0,
          0,
          0,
          0,
          0,
          0,
          0,
          0,
          1,
          0,
          0,
          0,
          0,
          1,
          0,
          0,
          0,
          0,
          0,
          0,
          0,
          0,
          0,
          0,
          0,
          0,
          1,
          0,
          0,
          0,
          0,
          0,
          0,
          1,
          1,
          0,
          0,
          0,
          0,
          0,
          0,
          0,
          0,
          1,
          0,
          0,
          0,
          0,
          0,
          0,
          0,
          0,
          0,
          0,
          0,
          0,
          0,
          0,
          0,
          0,
          0,
          0,
          0,
          0,
          0,
          0,
          0,
          0,
          2,
          0,
          1,
          0,
          0,
          0,
          0,
          0,
          0,
          0,
          0,
          1,
          0,
          0,
          0,
          0,
          0,
          0,
          0,
          0,
          0,
          0,
          0,
          0,
          0,
          1,
          2,
          0,
          0,
          1,
          1,
          0,
          0,
          0,
          0,
          0,
          0,
          1,
          0,
          0,
          1,
          1,
          0,
          0,
          0,
          0,
          0,
          0,
          0,
          0,
          0,
          0,
          0,
          0,
          0,
          0,
          0,
          0,
          0,
          0,
          0,
          0,
          0,
          0,
          0,
          0,
          0,
          0,
          1,
          0,
          0,
          0,
          0,
          1,
          0,
          0,
          1,
          0,
          0,
          0,
          0,
          0,
          1,
          0,
          0,
          1,
          0,
          0,
          0,
          0,
          0,
          0,
          0,
          0,
          1,
          0,
          0,
          0,
          0,
          1,
          0,
          0,
          0,
          0,
          0,
          0,
          0,
          0,
          0,
          0,
          0,
          0,
          0,
          0,
          0,
          0,
          0,
          0,
          0,
          0,
          0,
          0,
          0,
          1,
          0,
          0,
          0,
          0,
          0,
          2,
          0,
          0,
          0,
          0,
          0,
          0,
          0,
          0,
          0,
          0,
          0,
          0,
          1,
          0,
          0,
          0,
          0,
          1,
          0,
          0,
          0,
          0,
          0,
          0,
          0,
          0,
          0,
          0,
          0,
          0,
          0,
          0,
          0,
          0,
          0,
          0,
          0,
          0,
          0,
          0,
          0,
          0,
          0,
          0,
          0,
          0,
          0,
          0,
          0,
          0,
          1,
          0,
          0,
          0,
          0,
          1,
          0,
          0,
          1,
          0,
          0,
          0,
          0,
          0,
          0,
          0,
          0,
          0,
          0,
          0,
          0,
          0,
          0,
          0,
          0,
          0,
          0,
          0,
          0,
          0,
          1,
          0,
          0,
          0,
          0,
          0,
          0,
          1,
          0,
          0,
          0,
          1,
          0,
          1,
          0,
          0,
          0,
          0,
          1,
          0,
          0,
          0,
          0,
          0,
          0,
          0,
          0,
          0,
          0,
          0,
          1,
          0,
          1,
          0,
          0,
          0,
          1,
          0,
          0,
          0,
          0,
          1,
          0,
          0,
          1,
          0,
          0,
          1,
          0,
          0,
          0,
          0,
          0,
          0,
          0,
          0,
          0,
          0,
          0,
          0,
          0,
          0,
          0,
          0,
          0,
          0,
          0,
          0,
          0,
          0,
          1,
          1,
          0,
          1,
          1,
          0,
          0,
          0,
          0,
          1,
          0,
          0,
          0,
          0,
          0,
          0,
          0,
          0,
          0,
          0,
          0,
          1,
          0,
          0,
          0,
          0,
          0,
          0,
          1,
          0,
          0,
          0,
          0,
          0,
          0,
          0,
          0,
          0,
          0,
          0,
          0,
          0,
          0,
          0,
          0,
          0,
          0,
          0,
          1,
          0,
          0,
          0,
          0,
          0,
          0,
          0,
          0,
          0,
          0,
          0,
          1,
          0,
          0,
          0,
          0,
          0,
          1,
          0,
          0,
          0,
          0,
          0,
          1,
          0,
          0,
          0,
          0,
          0,
          0,
          0,
          0,
          0,
          0,
          0,
          0,
          0,
          0,
          0,
          0,
          1,
          0,
          0,
          0,
          0,
          0,
          0,
          0,
          0,
          0,
          0,
          0,
          0,
          0,
          0,
          0,
          0,
          0,
          2,
          0,
          0,
          0,
          0,
          0,
          1,
          0,
          0,
          0,
          0,
          0,
          1,
          0,
          0,
          1,
          0,
          0,
          0,
          0,
          0,
          1,
          0,
          0,
          0,
          0,
          2,
          1,
          0,
          0,
          0,
          0,
          1,
          0,
          1,
          1,
          0,
          0,
          0,
          2,
          0,
          0,
          0,
          0,
          0,
          0,
          1,
          2,
          0,
          0,
          1,
          0,
          0,
          0,
          0,
          1,
          1,
          1,
          0,
          0,
          0,
          0,
          0,
          0,
          1,
          1,
          0,
          0,
          1,
          1,
          1,
          1,
          0,
          0,
          0,
          2,
          0,
          0,
          0,
          0,
          1,
          2,
          1,
          1,
          0,
          0,
          0,
          1,
          0,
          2,
          0,
          1,
          1,
          1,
          0,
          0,
          1,
          1,
          1,
          0,
          0,
          2,
          1,
          0,
          1,
          0,
          1,
          2,
          0,
          0,
          2,
          2,
          1,
          0,
          0,
          0,
          0,
          0,
          1,
          0,
          0,
          3,
          1,
          0,
          0,
          0,
          1,
          1,
          2,
          0,
          1,
          1,
          1,
          0,
          0,
          0,
          1,
          0,
          0,
          0,
          0,
          0,
          1,
          0,
          0,
          0,
          0,
          0,
          2,
          1,
          1,
          0,
          0,
          0,
          1,
          1,
          0,
          1,
          0,
          0,
          0,
          0,
          0,
          1,
          0,
          0,
          1,
          0,
          0,
          0,
          0,
          0,
          0,
          0,
          0,
          2,
          0,
          0,
          0,
          0,
          1,
          0,
          0,
          0,
          0,
          0,
          0,
          1,
          0,
          0,
          0,
          0,
          0,
          1,
          0,
          0,
          0,
          0,
          0,
          1,
          0,
          0,
          0,
          0,
          1,
          0,
          0,
          0,
          0,
          0,
          2,
          0,
          0,
          0,
          0,
          0,
          1,
          0,
          0,
          0,
          0,
          0,
          0,
          1,
          0,
          0,
          0,
          0,
          1,
          0,
          0,
          0,
          0,
          0,
          2,
          0,
          0,
          0,
          0,
          0,
          1,
          0,
          0,
          0,
          0,
          0,
          1,
          0,
          15,
          15,
          15,
          15,
          15,
          15,
          45,
          45
         ]
        }
       ],
       "layout": {
        "legend": {
         "tracegroupgap": 0
        },
        "margin": {
         "t": 60
        },
        "template": {
         "data": {
          "bar": [
           {
            "error_x": {
             "color": "#2a3f5f"
            },
            "error_y": {
             "color": "#2a3f5f"
            },
            "marker": {
             "line": {
              "color": "#E5ECF6",
              "width": 0.5
             },
             "pattern": {
              "fillmode": "overlay",
              "size": 10,
              "solidity": 0.2
             }
            },
            "type": "bar"
           }
          ],
          "barpolar": [
           {
            "marker": {
             "line": {
              "color": "#E5ECF6",
              "width": 0.5
             },
             "pattern": {
              "fillmode": "overlay",
              "size": 10,
              "solidity": 0.2
             }
            },
            "type": "barpolar"
           }
          ],
          "carpet": [
           {
            "aaxis": {
             "endlinecolor": "#2a3f5f",
             "gridcolor": "white",
             "linecolor": "white",
             "minorgridcolor": "white",
             "startlinecolor": "#2a3f5f"
            },
            "baxis": {
             "endlinecolor": "#2a3f5f",
             "gridcolor": "white",
             "linecolor": "white",
             "minorgridcolor": "white",
             "startlinecolor": "#2a3f5f"
            },
            "type": "carpet"
           }
          ],
          "choropleth": [
           {
            "colorbar": {
             "outlinewidth": 0,
             "ticks": ""
            },
            "type": "choropleth"
           }
          ],
          "contour": [
           {
            "colorbar": {
             "outlinewidth": 0,
             "ticks": ""
            },
            "colorscale": [
             [
              0,
              "#0d0887"
             ],
             [
              0.1111111111111111,
              "#46039f"
             ],
             [
              0.2222222222222222,
              "#7201a8"
             ],
             [
              0.3333333333333333,
              "#9c179e"
             ],
             [
              0.4444444444444444,
              "#bd3786"
             ],
             [
              0.5555555555555556,
              "#d8576b"
             ],
             [
              0.6666666666666666,
              "#ed7953"
             ],
             [
              0.7777777777777778,
              "#fb9f3a"
             ],
             [
              0.8888888888888888,
              "#fdca26"
             ],
             [
              1,
              "#f0f921"
             ]
            ],
            "type": "contour"
           }
          ],
          "contourcarpet": [
           {
            "colorbar": {
             "outlinewidth": 0,
             "ticks": ""
            },
            "type": "contourcarpet"
           }
          ],
          "heatmap": [
           {
            "colorbar": {
             "outlinewidth": 0,
             "ticks": ""
            },
            "colorscale": [
             [
              0,
              "#0d0887"
             ],
             [
              0.1111111111111111,
              "#46039f"
             ],
             [
              0.2222222222222222,
              "#7201a8"
             ],
             [
              0.3333333333333333,
              "#9c179e"
             ],
             [
              0.4444444444444444,
              "#bd3786"
             ],
             [
              0.5555555555555556,
              "#d8576b"
             ],
             [
              0.6666666666666666,
              "#ed7953"
             ],
             [
              0.7777777777777778,
              "#fb9f3a"
             ],
             [
              0.8888888888888888,
              "#fdca26"
             ],
             [
              1,
              "#f0f921"
             ]
            ],
            "type": "heatmap"
           }
          ],
          "heatmapgl": [
           {
            "colorbar": {
             "outlinewidth": 0,
             "ticks": ""
            },
            "colorscale": [
             [
              0,
              "#0d0887"
             ],
             [
              0.1111111111111111,
              "#46039f"
             ],
             [
              0.2222222222222222,
              "#7201a8"
             ],
             [
              0.3333333333333333,
              "#9c179e"
             ],
             [
              0.4444444444444444,
              "#bd3786"
             ],
             [
              0.5555555555555556,
              "#d8576b"
             ],
             [
              0.6666666666666666,
              "#ed7953"
             ],
             [
              0.7777777777777778,
              "#fb9f3a"
             ],
             [
              0.8888888888888888,
              "#fdca26"
             ],
             [
              1,
              "#f0f921"
             ]
            ],
            "type": "heatmapgl"
           }
          ],
          "histogram": [
           {
            "marker": {
             "pattern": {
              "fillmode": "overlay",
              "size": 10,
              "solidity": 0.2
             }
            },
            "type": "histogram"
           }
          ],
          "histogram2d": [
           {
            "colorbar": {
             "outlinewidth": 0,
             "ticks": ""
            },
            "colorscale": [
             [
              0,
              "#0d0887"
             ],
             [
              0.1111111111111111,
              "#46039f"
             ],
             [
              0.2222222222222222,
              "#7201a8"
             ],
             [
              0.3333333333333333,
              "#9c179e"
             ],
             [
              0.4444444444444444,
              "#bd3786"
             ],
             [
              0.5555555555555556,
              "#d8576b"
             ],
             [
              0.6666666666666666,
              "#ed7953"
             ],
             [
              0.7777777777777778,
              "#fb9f3a"
             ],
             [
              0.8888888888888888,
              "#fdca26"
             ],
             [
              1,
              "#f0f921"
             ]
            ],
            "type": "histogram2d"
           }
          ],
          "histogram2dcontour": [
           {
            "colorbar": {
             "outlinewidth": 0,
             "ticks": ""
            },
            "colorscale": [
             [
              0,
              "#0d0887"
             ],
             [
              0.1111111111111111,
              "#46039f"
             ],
             [
              0.2222222222222222,
              "#7201a8"
             ],
             [
              0.3333333333333333,
              "#9c179e"
             ],
             [
              0.4444444444444444,
              "#bd3786"
             ],
             [
              0.5555555555555556,
              "#d8576b"
             ],
             [
              0.6666666666666666,
              "#ed7953"
             ],
             [
              0.7777777777777778,
              "#fb9f3a"
             ],
             [
              0.8888888888888888,
              "#fdca26"
             ],
             [
              1,
              "#f0f921"
             ]
            ],
            "type": "histogram2dcontour"
           }
          ],
          "mesh3d": [
           {
            "colorbar": {
             "outlinewidth": 0,
             "ticks": ""
            },
            "type": "mesh3d"
           }
          ],
          "parcoords": [
           {
            "line": {
             "colorbar": {
              "outlinewidth": 0,
              "ticks": ""
             }
            },
            "type": "parcoords"
           }
          ],
          "pie": [
           {
            "automargin": true,
            "type": "pie"
           }
          ],
          "scatter": [
           {
            "fillpattern": {
             "fillmode": "overlay",
             "size": 10,
             "solidity": 0.2
            },
            "type": "scatter"
           }
          ],
          "scatter3d": [
           {
            "line": {
             "colorbar": {
              "outlinewidth": 0,
              "ticks": ""
             }
            },
            "marker": {
             "colorbar": {
              "outlinewidth": 0,
              "ticks": ""
             }
            },
            "type": "scatter3d"
           }
          ],
          "scattercarpet": [
           {
            "marker": {
             "colorbar": {
              "outlinewidth": 0,
              "ticks": ""
             }
            },
            "type": "scattercarpet"
           }
          ],
          "scattergeo": [
           {
            "marker": {
             "colorbar": {
              "outlinewidth": 0,
              "ticks": ""
             }
            },
            "type": "scattergeo"
           }
          ],
          "scattergl": [
           {
            "marker": {
             "colorbar": {
              "outlinewidth": 0,
              "ticks": ""
             }
            },
            "type": "scattergl"
           }
          ],
          "scattermapbox": [
           {
            "marker": {
             "colorbar": {
              "outlinewidth": 0,
              "ticks": ""
             }
            },
            "type": "scattermapbox"
           }
          ],
          "scatterpolar": [
           {
            "marker": {
             "colorbar": {
              "outlinewidth": 0,
              "ticks": ""
             }
            },
            "type": "scatterpolar"
           }
          ],
          "scatterpolargl": [
           {
            "marker": {
             "colorbar": {
              "outlinewidth": 0,
              "ticks": ""
             }
            },
            "type": "scatterpolargl"
           }
          ],
          "scatterternary": [
           {
            "marker": {
             "colorbar": {
              "outlinewidth": 0,
              "ticks": ""
             }
            },
            "type": "scatterternary"
           }
          ],
          "surface": [
           {
            "colorbar": {
             "outlinewidth": 0,
             "ticks": ""
            },
            "colorscale": [
             [
              0,
              "#0d0887"
             ],
             [
              0.1111111111111111,
              "#46039f"
             ],
             [
              0.2222222222222222,
              "#7201a8"
             ],
             [
              0.3333333333333333,
              "#9c179e"
             ],
             [
              0.4444444444444444,
              "#bd3786"
             ],
             [
              0.5555555555555556,
              "#d8576b"
             ],
             [
              0.6666666666666666,
              "#ed7953"
             ],
             [
              0.7777777777777778,
              "#fb9f3a"
             ],
             [
              0.8888888888888888,
              "#fdca26"
             ],
             [
              1,
              "#f0f921"
             ]
            ],
            "type": "surface"
           }
          ],
          "table": [
           {
            "cells": {
             "fill": {
              "color": "#EBF0F8"
             },
             "line": {
              "color": "white"
             }
            },
            "header": {
             "fill": {
              "color": "#C8D4E3"
             },
             "line": {
              "color": "white"
             }
            },
            "type": "table"
           }
          ]
         },
         "layout": {
          "annotationdefaults": {
           "arrowcolor": "#2a3f5f",
           "arrowhead": 0,
           "arrowwidth": 1
          },
          "autotypenumbers": "strict",
          "coloraxis": {
           "colorbar": {
            "outlinewidth": 0,
            "ticks": ""
           }
          },
          "colorscale": {
           "diverging": [
            [
             0,
             "#8e0152"
            ],
            [
             0.1,
             "#c51b7d"
            ],
            [
             0.2,
             "#de77ae"
            ],
            [
             0.3,
             "#f1b6da"
            ],
            [
             0.4,
             "#fde0ef"
            ],
            [
             0.5,
             "#f7f7f7"
            ],
            [
             0.6,
             "#e6f5d0"
            ],
            [
             0.7,
             "#b8e186"
            ],
            [
             0.8,
             "#7fbc41"
            ],
            [
             0.9,
             "#4d9221"
            ],
            [
             1,
             "#276419"
            ]
           ],
           "sequential": [
            [
             0,
             "#0d0887"
            ],
            [
             0.1111111111111111,
             "#46039f"
            ],
            [
             0.2222222222222222,
             "#7201a8"
            ],
            [
             0.3333333333333333,
             "#9c179e"
            ],
            [
             0.4444444444444444,
             "#bd3786"
            ],
            [
             0.5555555555555556,
             "#d8576b"
            ],
            [
             0.6666666666666666,
             "#ed7953"
            ],
            [
             0.7777777777777778,
             "#fb9f3a"
            ],
            [
             0.8888888888888888,
             "#fdca26"
            ],
            [
             1,
             "#f0f921"
            ]
           ],
           "sequentialminus": [
            [
             0,
             "#0d0887"
            ],
            [
             0.1111111111111111,
             "#46039f"
            ],
            [
             0.2222222222222222,
             "#7201a8"
            ],
            [
             0.3333333333333333,
             "#9c179e"
            ],
            [
             0.4444444444444444,
             "#bd3786"
            ],
            [
             0.5555555555555556,
             "#d8576b"
            ],
            [
             0.6666666666666666,
             "#ed7953"
            ],
            [
             0.7777777777777778,
             "#fb9f3a"
            ],
            [
             0.8888888888888888,
             "#fdca26"
            ],
            [
             1,
             "#f0f921"
            ]
           ]
          },
          "colorway": [
           "#636efa",
           "#EF553B",
           "#00cc96",
           "#ab63fa",
           "#FFA15A",
           "#19d3f3",
           "#FF6692",
           "#B6E880",
           "#FF97FF",
           "#FECB52"
          ],
          "font": {
           "color": "#2a3f5f"
          },
          "geo": {
           "bgcolor": "white",
           "lakecolor": "white",
           "landcolor": "#E5ECF6",
           "showlakes": true,
           "showland": true,
           "subunitcolor": "white"
          },
          "hoverlabel": {
           "align": "left"
          },
          "hovermode": "closest",
          "mapbox": {
           "style": "light"
          },
          "paper_bgcolor": "white",
          "plot_bgcolor": "#E5ECF6",
          "polar": {
           "angularaxis": {
            "gridcolor": "white",
            "linecolor": "white",
            "ticks": ""
           },
           "bgcolor": "#E5ECF6",
           "radialaxis": {
            "gridcolor": "white",
            "linecolor": "white",
            "ticks": ""
           }
          },
          "scene": {
           "xaxis": {
            "backgroundcolor": "#E5ECF6",
            "gridcolor": "white",
            "gridwidth": 2,
            "linecolor": "white",
            "showbackground": true,
            "ticks": "",
            "zerolinecolor": "white"
           },
           "yaxis": {
            "backgroundcolor": "#E5ECF6",
            "gridcolor": "white",
            "gridwidth": 2,
            "linecolor": "white",
            "showbackground": true,
            "ticks": "",
            "zerolinecolor": "white"
           },
           "zaxis": {
            "backgroundcolor": "#E5ECF6",
            "gridcolor": "white",
            "gridwidth": 2,
            "linecolor": "white",
            "showbackground": true,
            "ticks": "",
            "zerolinecolor": "white"
           }
          },
          "shapedefaults": {
           "line": {
            "color": "#2a3f5f"
           }
          },
          "ternary": {
           "aaxis": {
            "gridcolor": "white",
            "linecolor": "white",
            "ticks": ""
           },
           "baxis": {
            "gridcolor": "white",
            "linecolor": "white",
            "ticks": ""
           },
           "bgcolor": "#E5ECF6",
           "caxis": {
            "gridcolor": "white",
            "linecolor": "white",
            "ticks": ""
           }
          },
          "title": {
           "x": 0.05
          },
          "xaxis": {
           "automargin": true,
           "gridcolor": "white",
           "linecolor": "white",
           "ticks": "",
           "title": {
            "standoff": 15
           },
           "zerolinecolor": "white",
           "zerolinewidth": 2
          },
          "yaxis": {
           "automargin": true,
           "gridcolor": "white",
           "linecolor": "white",
           "ticks": "",
           "title": {
            "standoff": 15
           },
           "zerolinecolor": "white",
           "zerolinewidth": 2
          }
         }
        }
       }
      }
     },
     "metadata": {},
     "output_type": "display_data"
    }
   ],
   "source": [
    "tree_map = px.treemap(df, path=['diet', 'kind', 'pulse', 'time']).show()"
   ]
  },
  {
   "cell_type": "code",
   "execution_count": 23,
   "metadata": {},
   "outputs": [
    {
     "data": {
      "application/vnd.plotly.v1+json": {
       "config": {
        "plotlyServerURL": "https://plot.ly"
       },
       "data": [
        {
         "dimensions": [
          {
           "label": "diet",
           "values": [
            "low fat",
            "low fat",
            "low fat",
            "low fat",
            "low fat",
            "low fat",
            "low fat",
            "low fat",
            "low fat",
            "low fat",
            "low fat",
            "low fat",
            "low fat",
            "low fat",
            "low fat",
            "no fat",
            "no fat",
            "no fat",
            "no fat",
            "no fat",
            "no fat",
            "no fat",
            "no fat",
            "no fat",
            "no fat",
            "no fat",
            "no fat",
            "no fat",
            "no fat",
            "no fat",
            "low fat",
            "low fat",
            "low fat",
            "low fat",
            "low fat",
            "low fat",
            "low fat",
            "low fat",
            "low fat",
            "low fat",
            "low fat",
            "low fat",
            "low fat",
            "low fat",
            "low fat",
            "no fat",
            "no fat",
            "no fat",
            "no fat",
            "no fat",
            "no fat",
            "no fat",
            "no fat",
            "no fat",
            "no fat",
            "no fat",
            "no fat",
            "no fat",
            "no fat",
            "no fat",
            "low fat",
            "low fat",
            "low fat",
            "low fat",
            "low fat",
            "low fat",
            "low fat",
            "low fat",
            "low fat",
            "low fat",
            "low fat",
            "low fat",
            "low fat",
            "low fat",
            "low fat",
            "no fat",
            "no fat",
            "no fat",
            "no fat",
            "no fat",
            "no fat",
            "no fat",
            "no fat",
            "no fat",
            "no fat",
            "no fat",
            "no fat",
            "no fat",
            "no fat",
            "no fat"
           ]
          },
          {
           "label": "kind",
           "values": [
            "rest",
            "rest",
            "rest",
            "rest",
            "rest",
            "rest",
            "rest",
            "rest",
            "rest",
            "rest",
            "rest",
            "rest",
            "rest",
            "rest",
            "rest",
            "rest",
            "rest",
            "rest",
            "rest",
            "rest",
            "rest",
            "rest",
            "rest",
            "rest",
            "rest",
            "rest",
            "rest",
            "rest",
            "rest",
            "rest",
            "walking",
            "walking",
            "walking",
            "walking",
            "walking",
            "walking",
            "walking",
            "walking",
            "walking",
            "walking",
            "walking",
            "walking",
            "walking",
            "walking",
            "walking",
            "walking",
            "walking",
            "walking",
            "walking",
            "walking",
            "walking",
            "walking",
            "walking",
            "walking",
            "walking",
            "walking",
            "walking",
            "walking",
            "walking",
            "walking",
            "running",
            "running",
            "running",
            "running",
            "running",
            "running",
            "running",
            "running",
            "running",
            "running",
            "running",
            "running",
            "running",
            "running",
            "running",
            "running",
            "running",
            "running",
            "running",
            "running",
            "running",
            "running",
            "running",
            "running",
            "running",
            "running",
            "running",
            "running",
            "running",
            "running"
           ]
          }
         ],
         "domain": {
          "x": [
           0,
           1
          ],
          "y": [
           0,
           1
          ]
         },
         "name": "",
         "type": "parcats"
        }
       ],
       "layout": {
        "legend": {
         "tracegroupgap": 0
        },
        "margin": {
         "t": 60
        },
        "template": {
         "data": {
          "bar": [
           {
            "error_x": {
             "color": "#2a3f5f"
            },
            "error_y": {
             "color": "#2a3f5f"
            },
            "marker": {
             "line": {
              "color": "#E5ECF6",
              "width": 0.5
             },
             "pattern": {
              "fillmode": "overlay",
              "size": 10,
              "solidity": 0.2
             }
            },
            "type": "bar"
           }
          ],
          "barpolar": [
           {
            "marker": {
             "line": {
              "color": "#E5ECF6",
              "width": 0.5
             },
             "pattern": {
              "fillmode": "overlay",
              "size": 10,
              "solidity": 0.2
             }
            },
            "type": "barpolar"
           }
          ],
          "carpet": [
           {
            "aaxis": {
             "endlinecolor": "#2a3f5f",
             "gridcolor": "white",
             "linecolor": "white",
             "minorgridcolor": "white",
             "startlinecolor": "#2a3f5f"
            },
            "baxis": {
             "endlinecolor": "#2a3f5f",
             "gridcolor": "white",
             "linecolor": "white",
             "minorgridcolor": "white",
             "startlinecolor": "#2a3f5f"
            },
            "type": "carpet"
           }
          ],
          "choropleth": [
           {
            "colorbar": {
             "outlinewidth": 0,
             "ticks": ""
            },
            "type": "choropleth"
           }
          ],
          "contour": [
           {
            "colorbar": {
             "outlinewidth": 0,
             "ticks": ""
            },
            "colorscale": [
             [
              0,
              "#0d0887"
             ],
             [
              0.1111111111111111,
              "#46039f"
             ],
             [
              0.2222222222222222,
              "#7201a8"
             ],
             [
              0.3333333333333333,
              "#9c179e"
             ],
             [
              0.4444444444444444,
              "#bd3786"
             ],
             [
              0.5555555555555556,
              "#d8576b"
             ],
             [
              0.6666666666666666,
              "#ed7953"
             ],
             [
              0.7777777777777778,
              "#fb9f3a"
             ],
             [
              0.8888888888888888,
              "#fdca26"
             ],
             [
              1,
              "#f0f921"
             ]
            ],
            "type": "contour"
           }
          ],
          "contourcarpet": [
           {
            "colorbar": {
             "outlinewidth": 0,
             "ticks": ""
            },
            "type": "contourcarpet"
           }
          ],
          "heatmap": [
           {
            "colorbar": {
             "outlinewidth": 0,
             "ticks": ""
            },
            "colorscale": [
             [
              0,
              "#0d0887"
             ],
             [
              0.1111111111111111,
              "#46039f"
             ],
             [
              0.2222222222222222,
              "#7201a8"
             ],
             [
              0.3333333333333333,
              "#9c179e"
             ],
             [
              0.4444444444444444,
              "#bd3786"
             ],
             [
              0.5555555555555556,
              "#d8576b"
             ],
             [
              0.6666666666666666,
              "#ed7953"
             ],
             [
              0.7777777777777778,
              "#fb9f3a"
             ],
             [
              0.8888888888888888,
              "#fdca26"
             ],
             [
              1,
              "#f0f921"
             ]
            ],
            "type": "heatmap"
           }
          ],
          "heatmapgl": [
           {
            "colorbar": {
             "outlinewidth": 0,
             "ticks": ""
            },
            "colorscale": [
             [
              0,
              "#0d0887"
             ],
             [
              0.1111111111111111,
              "#46039f"
             ],
             [
              0.2222222222222222,
              "#7201a8"
             ],
             [
              0.3333333333333333,
              "#9c179e"
             ],
             [
              0.4444444444444444,
              "#bd3786"
             ],
             [
              0.5555555555555556,
              "#d8576b"
             ],
             [
              0.6666666666666666,
              "#ed7953"
             ],
             [
              0.7777777777777778,
              "#fb9f3a"
             ],
             [
              0.8888888888888888,
              "#fdca26"
             ],
             [
              1,
              "#f0f921"
             ]
            ],
            "type": "heatmapgl"
           }
          ],
          "histogram": [
           {
            "marker": {
             "pattern": {
              "fillmode": "overlay",
              "size": 10,
              "solidity": 0.2
             }
            },
            "type": "histogram"
           }
          ],
          "histogram2d": [
           {
            "colorbar": {
             "outlinewidth": 0,
             "ticks": ""
            },
            "colorscale": [
             [
              0,
              "#0d0887"
             ],
             [
              0.1111111111111111,
              "#46039f"
             ],
             [
              0.2222222222222222,
              "#7201a8"
             ],
             [
              0.3333333333333333,
              "#9c179e"
             ],
             [
              0.4444444444444444,
              "#bd3786"
             ],
             [
              0.5555555555555556,
              "#d8576b"
             ],
             [
              0.6666666666666666,
              "#ed7953"
             ],
             [
              0.7777777777777778,
              "#fb9f3a"
             ],
             [
              0.8888888888888888,
              "#fdca26"
             ],
             [
              1,
              "#f0f921"
             ]
            ],
            "type": "histogram2d"
           }
          ],
          "histogram2dcontour": [
           {
            "colorbar": {
             "outlinewidth": 0,
             "ticks": ""
            },
            "colorscale": [
             [
              0,
              "#0d0887"
             ],
             [
              0.1111111111111111,
              "#46039f"
             ],
             [
              0.2222222222222222,
              "#7201a8"
             ],
             [
              0.3333333333333333,
              "#9c179e"
             ],
             [
              0.4444444444444444,
              "#bd3786"
             ],
             [
              0.5555555555555556,
              "#d8576b"
             ],
             [
              0.6666666666666666,
              "#ed7953"
             ],
             [
              0.7777777777777778,
              "#fb9f3a"
             ],
             [
              0.8888888888888888,
              "#fdca26"
             ],
             [
              1,
              "#f0f921"
             ]
            ],
            "type": "histogram2dcontour"
           }
          ],
          "mesh3d": [
           {
            "colorbar": {
             "outlinewidth": 0,
             "ticks": ""
            },
            "type": "mesh3d"
           }
          ],
          "parcoords": [
           {
            "line": {
             "colorbar": {
              "outlinewidth": 0,
              "ticks": ""
             }
            },
            "type": "parcoords"
           }
          ],
          "pie": [
           {
            "automargin": true,
            "type": "pie"
           }
          ],
          "scatter": [
           {
            "fillpattern": {
             "fillmode": "overlay",
             "size": 10,
             "solidity": 0.2
            },
            "type": "scatter"
           }
          ],
          "scatter3d": [
           {
            "line": {
             "colorbar": {
              "outlinewidth": 0,
              "ticks": ""
             }
            },
            "marker": {
             "colorbar": {
              "outlinewidth": 0,
              "ticks": ""
             }
            },
            "type": "scatter3d"
           }
          ],
          "scattercarpet": [
           {
            "marker": {
             "colorbar": {
              "outlinewidth": 0,
              "ticks": ""
             }
            },
            "type": "scattercarpet"
           }
          ],
          "scattergeo": [
           {
            "marker": {
             "colorbar": {
              "outlinewidth": 0,
              "ticks": ""
             }
            },
            "type": "scattergeo"
           }
          ],
          "scattergl": [
           {
            "marker": {
             "colorbar": {
              "outlinewidth": 0,
              "ticks": ""
             }
            },
            "type": "scattergl"
           }
          ],
          "scattermapbox": [
           {
            "marker": {
             "colorbar": {
              "outlinewidth": 0,
              "ticks": ""
             }
            },
            "type": "scattermapbox"
           }
          ],
          "scatterpolar": [
           {
            "marker": {
             "colorbar": {
              "outlinewidth": 0,
              "ticks": ""
             }
            },
            "type": "scatterpolar"
           }
          ],
          "scatterpolargl": [
           {
            "marker": {
             "colorbar": {
              "outlinewidth": 0,
              "ticks": ""
             }
            },
            "type": "scatterpolargl"
           }
          ],
          "scatterternary": [
           {
            "marker": {
             "colorbar": {
              "outlinewidth": 0,
              "ticks": ""
             }
            },
            "type": "scatterternary"
           }
          ],
          "surface": [
           {
            "colorbar": {
             "outlinewidth": 0,
             "ticks": ""
            },
            "colorscale": [
             [
              0,
              "#0d0887"
             ],
             [
              0.1111111111111111,
              "#46039f"
             ],
             [
              0.2222222222222222,
              "#7201a8"
             ],
             [
              0.3333333333333333,
              "#9c179e"
             ],
             [
              0.4444444444444444,
              "#bd3786"
             ],
             [
              0.5555555555555556,
              "#d8576b"
             ],
             [
              0.6666666666666666,
              "#ed7953"
             ],
             [
              0.7777777777777778,
              "#fb9f3a"
             ],
             [
              0.8888888888888888,
              "#fdca26"
             ],
             [
              1,
              "#f0f921"
             ]
            ],
            "type": "surface"
           }
          ],
          "table": [
           {
            "cells": {
             "fill": {
              "color": "#EBF0F8"
             },
             "line": {
              "color": "white"
             }
            },
            "header": {
             "fill": {
              "color": "#C8D4E3"
             },
             "line": {
              "color": "white"
             }
            },
            "type": "table"
           }
          ]
         },
         "layout": {
          "annotationdefaults": {
           "arrowcolor": "#2a3f5f",
           "arrowhead": 0,
           "arrowwidth": 1
          },
          "autotypenumbers": "strict",
          "coloraxis": {
           "colorbar": {
            "outlinewidth": 0,
            "ticks": ""
           }
          },
          "colorscale": {
           "diverging": [
            [
             0,
             "#8e0152"
            ],
            [
             0.1,
             "#c51b7d"
            ],
            [
             0.2,
             "#de77ae"
            ],
            [
             0.3,
             "#f1b6da"
            ],
            [
             0.4,
             "#fde0ef"
            ],
            [
             0.5,
             "#f7f7f7"
            ],
            [
             0.6,
             "#e6f5d0"
            ],
            [
             0.7,
             "#b8e186"
            ],
            [
             0.8,
             "#7fbc41"
            ],
            [
             0.9,
             "#4d9221"
            ],
            [
             1,
             "#276419"
            ]
           ],
           "sequential": [
            [
             0,
             "#0d0887"
            ],
            [
             0.1111111111111111,
             "#46039f"
            ],
            [
             0.2222222222222222,
             "#7201a8"
            ],
            [
             0.3333333333333333,
             "#9c179e"
            ],
            [
             0.4444444444444444,
             "#bd3786"
            ],
            [
             0.5555555555555556,
             "#d8576b"
            ],
            [
             0.6666666666666666,
             "#ed7953"
            ],
            [
             0.7777777777777778,
             "#fb9f3a"
            ],
            [
             0.8888888888888888,
             "#fdca26"
            ],
            [
             1,
             "#f0f921"
            ]
           ],
           "sequentialminus": [
            [
             0,
             "#0d0887"
            ],
            [
             0.1111111111111111,
             "#46039f"
            ],
            [
             0.2222222222222222,
             "#7201a8"
            ],
            [
             0.3333333333333333,
             "#9c179e"
            ],
            [
             0.4444444444444444,
             "#bd3786"
            ],
            [
             0.5555555555555556,
             "#d8576b"
            ],
            [
             0.6666666666666666,
             "#ed7953"
            ],
            [
             0.7777777777777778,
             "#fb9f3a"
            ],
            [
             0.8888888888888888,
             "#fdca26"
            ],
            [
             1,
             "#f0f921"
            ]
           ]
          },
          "colorway": [
           "#636efa",
           "#EF553B",
           "#00cc96",
           "#ab63fa",
           "#FFA15A",
           "#19d3f3",
           "#FF6692",
           "#B6E880",
           "#FF97FF",
           "#FECB52"
          ],
          "font": {
           "color": "#2a3f5f"
          },
          "geo": {
           "bgcolor": "white",
           "lakecolor": "white",
           "landcolor": "#E5ECF6",
           "showlakes": true,
           "showland": true,
           "subunitcolor": "white"
          },
          "hoverlabel": {
           "align": "left"
          },
          "hovermode": "closest",
          "mapbox": {
           "style": "light"
          },
          "paper_bgcolor": "white",
          "plot_bgcolor": "#E5ECF6",
          "polar": {
           "angularaxis": {
            "gridcolor": "white",
            "linecolor": "white",
            "ticks": ""
           },
           "bgcolor": "#E5ECF6",
           "radialaxis": {
            "gridcolor": "white",
            "linecolor": "white",
            "ticks": ""
           }
          },
          "scene": {
           "xaxis": {
            "backgroundcolor": "#E5ECF6",
            "gridcolor": "white",
            "gridwidth": 2,
            "linecolor": "white",
            "showbackground": true,
            "ticks": "",
            "zerolinecolor": "white"
           },
           "yaxis": {
            "backgroundcolor": "#E5ECF6",
            "gridcolor": "white",
            "gridwidth": 2,
            "linecolor": "white",
            "showbackground": true,
            "ticks": "",
            "zerolinecolor": "white"
           },
           "zaxis": {
            "backgroundcolor": "#E5ECF6",
            "gridcolor": "white",
            "gridwidth": 2,
            "linecolor": "white",
            "showbackground": true,
            "ticks": "",
            "zerolinecolor": "white"
           }
          },
          "shapedefaults": {
           "line": {
            "color": "#2a3f5f"
           }
          },
          "ternary": {
           "aaxis": {
            "gridcolor": "white",
            "linecolor": "white",
            "ticks": ""
           },
           "baxis": {
            "gridcolor": "white",
            "linecolor": "white",
            "ticks": ""
           },
           "bgcolor": "#E5ECF6",
           "caxis": {
            "gridcolor": "white",
            "linecolor": "white",
            "ticks": ""
           }
          },
          "title": {
           "x": 0.05
          },
          "xaxis": {
           "automargin": true,
           "gridcolor": "white",
           "linecolor": "white",
           "ticks": "",
           "title": {
            "standoff": 15
           },
           "zerolinecolor": "white",
           "zerolinewidth": 2
          },
          "yaxis": {
           "automargin": true,
           "gridcolor": "white",
           "linecolor": "white",
           "ticks": "",
           "title": {
            "standoff": 15
           },
           "zerolinecolor": "white",
           "zerolinewidth": 2
          }
         }
        }
       }
      }
     },
     "metadata": {},
     "output_type": "display_data"
    }
   ],
   "source": [
    "parallel = px.parallel_categories(df, dimensions=['diet', 'kind']).show()\n"
   ]
  },
  {
   "cell_type": "markdown",
   "metadata": {},
   "source": [
    "## 5. Insights"
   ]
  },
  {
   "cell_type": "markdown",
   "metadata": {},
   "source": [
    "Segue o link para os insights: [Insights](https://dainty-froyo-9ce610.netlify.app/insight/)"
   ]
  },
  {
   "cell_type": "markdown",
   "metadata": {},
   "source": [
    "## 6. Observação\n",
    "N/A"
   ]
  }
 ],
 "metadata": {
  "kernelspec": {
   "display_name": "Python 3 (ipykernel)",
   "language": "python",
   "name": "python3"
  },
  "language_info": {
   "codemirror_mode": {
    "name": "ipython",
    "version": 3
   },
   "file_extension": ".py",
   "mimetype": "text/x-python",
   "name": "python",
   "nbconvert_exporter": "python",
   "pygments_lexer": "ipython3",
   "version": "3.10.0"
  },
  "vscode": {
   "interpreter": {
    "hash": "eb3c3305d8b111f0102f4f519c5f17abd113fe74db6752c355e994a9008815ef"
   }
  }
 },
 "nbformat": 4,
 "nbformat_minor": 2
}
