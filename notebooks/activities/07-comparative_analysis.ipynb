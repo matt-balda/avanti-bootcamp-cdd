{
 "cells": [
  {
   "cell_type": "markdown",
   "metadata": {},
   "source": [
    "### Imports libraries"
   ]
  },
  {
   "cell_type": "code",
   "execution_count": 41,
   "metadata": {},
   "outputs": [],
   "source": [
    "from IPython.display import display, Markdown\n",
    "from matplotlib import pyplot as plt\n",
    "import numpy as np\n",
    "import pandas as pd\n",
    "import seaborn as sns\n",
    "\n",
    "from sklearn.pipeline import Pipeline\n",
    "from sklearn.impute import SimpleImputer\n",
    "from sklearn.preprocessing import StandardScaler, OneHotEncoder, OrdinalEncoder\n",
    "from sklearn.compose import ColumnTransformer"
   ]
  },
  {
   "cell_type": "markdown",
   "metadata": {},
   "source": [
    "### Loading data"
   ]
  },
  {
   "cell_type": "code",
   "execution_count": 29,
   "metadata": {},
   "outputs": [
    {
     "data": {
      "text/plain": [
       "(    id     diet  pulse  time     kind\n",
       " 0    1  low fat     85     1     rest\n",
       " 1    1  low fat     85    15     rest\n",
       " 2    1  low fat     88    30     rest\n",
       " 3    2  low fat     90     1     rest\n",
       " 4    2  low fat     92    15     rest\n",
       " ..  ..      ...    ...   ...      ...\n",
       " 85  29   no fat    135    15  running\n",
       " 86  29   no fat    130    30  running\n",
       " 87  30   no fat     99     1  running\n",
       " 88  30   no fat    111    15  running\n",
       " 89  30   no fat    150    30  running\n",
       " \n",
       " [90 rows x 5 columns],\n",
       "   variavel                                          descricao          tipo  \\\n",
       " 0       id        Um identificador único para cada voluntário  quantitativa   \n",
       " 1     diet  O tipo de dieta que o voluntário segue, podend...   qualitativa   \n",
       " 2    pulse  A taxa metabólica basal do voluntário, medida ...  quantitativa   \n",
       " 3     time  O tempo em minutos que o voluntário gastou rea...  quantitativa   \n",
       " 4     kind  O tipo de atividade física realizada pelo volu...   qualitativa   \n",
       " \n",
       "     subtipo  \n",
       " 0  discreta  \n",
       " 1   nominal  \n",
       " 2  contínua  \n",
       " 3  discreta  \n",
       " 4   nominal  )"
      ]
     },
     "execution_count": 29,
     "metadata": {},
     "output_type": "execute_result"
    }
   ],
   "source": [
    "def loading_data():\n",
    "    return pd.read_csv('../../data/processed/exercise.csv')\n",
    "\n",
    "dictionary = pd.read_csv('../../data/external/dictionary.csv')\n",
    "\n",
    "df = loading_data()\n",
    "df, dictionary"
   ]
  },
  {
   "cell_type": "markdown",
   "metadata": {},
   "source": [
    "### Transformation with onte-hot e dummy encoding"
   ]
  },
  {
   "cell_type": "code",
   "execution_count": 30,
   "metadata": {},
   "outputs": [
    {
     "data": {
      "text/plain": [
       "0        rest\n",
       "1        rest\n",
       "2        rest\n",
       "3        rest\n",
       "4        rest\n",
       "       ...   \n",
       "85    running\n",
       "86    running\n",
       "87    running\n",
       "88    running\n",
       "89    running\n",
       "Name: kind, Length: 90, dtype: object"
      ]
     },
     "execution_count": 30,
     "metadata": {},
     "output_type": "execute_result"
    }
   ],
   "source": [
    "target_column = 'kind'\n",
    "nominal_columns = (\n",
    "    dictionary.query('subtipo == \"nominal\" and variavel != @target_column').variavel.to_list()\n",
    ")\n",
    "continuous_columns = (\n",
    "    dictionary.query('subtipo == \"continua\"').variavel.to_list()\n",
    ")\n",
    "\n",
    "X = df.drop(columns=[target_column], axis=1)\n",
    "y = df[target_column]\n",
    "y"
   ]
  },
  {
   "cell_type": "code",
   "execution_count": 33,
   "metadata": {},
   "outputs": [],
   "source": [
    "nominal_preprocessor = Pipeline([\n",
    "    ('missing', SimpleImputer(strategy='most_frequent')), \n",
    "    #('encoding', OneHotEncoder(sparse_output=False)), # ordinal encoding\n",
    "    ('encoding', OneHotEncoder(sparse_output=False)), \n",
    "    ('normalization', StandardScaler()), \n",
    "]) \n",
    "\n",
    "continuous_preprocessor = Pipeline([\n",
    "    ('missing', SimpleImputer(strategy='mean')), \n",
    "    ('normalization', StandardScaler()),\n",
    "])\n",
    "\n",
    "preprocessor = ColumnTransformer([\n",
    "    ('nominal', nominal_preprocessor, nominal_columns),\n",
    "    ('continuous', continuous_preprocessor, continuous_columns),\n",
    "])\n",
    "    "
   ]
  },
  {
   "cell_type": "code",
   "execution_count": 38,
   "metadata": {},
   "outputs": [
    {
     "data": {
      "text/plain": [
       "((90, 2), (90, 5))"
      ]
     },
     "execution_count": 38,
     "metadata": {},
     "output_type": "execute_result"
    }
   ],
   "source": [
    "X_transformed = preprocessor.fit_transform(X)\n",
    "X_transformed.shape, df.shape"
   ]
  },
  {
   "cell_type": "markdown",
   "metadata": {},
   "source": [
    "### Transformation with cyclical"
   ]
  },
  {
   "cell_type": "code",
   "execution_count": 43,
   "metadata": {},
   "outputs": [
    {
     "data": {
      "text/plain": [
       "rest       0.333333\n",
       "walking    0.333333\n",
       "running    0.333333\n",
       "Name: kind, dtype: float64"
      ]
     },
     "execution_count": 43,
     "metadata": {},
     "output_type": "execute_result"
    }
   ],
   "source": [
    "y.value_counts() / len(y)"
   ]
  },
  {
   "cell_type": "code",
   "execution_count": null,
   "metadata": {},
   "outputs": [],
   "source": []
  }
 ],
 "metadata": {
  "kernelspec": {
   "display_name": "venv",
   "language": "python",
   "name": "python3"
  },
  "language_info": {
   "codemirror_mode": {
    "name": "ipython",
    "version": 3
   },
   "file_extension": ".py",
   "mimetype": "text/x-python",
   "name": "python",
   "nbconvert_exporter": "python",
   "pygments_lexer": "ipython3",
   "version": "3.10.0"
  }
 },
 "nbformat": 4,
 "nbformat_minor": 2
}
