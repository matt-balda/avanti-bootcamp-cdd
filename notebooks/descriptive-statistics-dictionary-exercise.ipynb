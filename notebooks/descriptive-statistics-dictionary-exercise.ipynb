{
 "cells": [
  {
   "cell_type": "code",
   "execution_count": 22,
   "id": "initial_id",
   "metadata": {
    "collapsed": true,
    "ExecuteTime": {
     "end_time": "2024-04-17T20:20:05.971592584Z",
     "start_time": "2024-04-17T20:20:05.929572531Z"
    }
   },
   "outputs": [],
   "source": [
    "import seaborn as sns\n",
    "import pandas as pd\n",
    "import numpy as np"
   ]
  },
  {
   "cell_type": "code",
   "outputs": [],
   "source": [
    "exercises = sns.load_dataset(\"exercise\")"
   ],
   "metadata": {
    "collapsed": false,
    "ExecuteTime": {
     "end_time": "2024-04-17T20:20:06.491310908Z",
     "start_time": "2024-04-17T20:20:06.400990619Z"
    }
   },
   "id": "3fdea61f6c0e9652",
   "execution_count": 23
  },
  {
   "cell_type": "code",
   "outputs": [
    {
     "data": {
      "text/plain": "    Unnamed: 0  id     diet  pulse    time     kind\n0            0   1  low fat     85   1 min     rest\n1            1   1  low fat     85  15 min     rest\n2            2   1  low fat     88  30 min     rest\n3            3   2  low fat     90   1 min     rest\n4            4   2  low fat     92  15 min     rest\n..         ...  ..      ...    ...     ...      ...\n85          85  29   no fat    135  15 min  running\n86          86  29   no fat    130  30 min  running\n87          87  30   no fat     99   1 min  running\n88          88  30   no fat    111  15 min  running\n89          89  30   no fat    150  30 min  running\n\n[90 rows x 6 columns]",
      "text/html": "<div>\n<style scoped>\n    .dataframe tbody tr th:only-of-type {\n        vertical-align: middle;\n    }\n\n    .dataframe tbody tr th {\n        vertical-align: top;\n    }\n\n    .dataframe thead th {\n        text-align: right;\n    }\n</style>\n<table border=\"1\" class=\"dataframe\">\n  <thead>\n    <tr style=\"text-align: right;\">\n      <th></th>\n      <th>Unnamed: 0</th>\n      <th>id</th>\n      <th>diet</th>\n      <th>pulse</th>\n      <th>time</th>\n      <th>kind</th>\n    </tr>\n  </thead>\n  <tbody>\n    <tr>\n      <th>0</th>\n      <td>0</td>\n      <td>1</td>\n      <td>low fat</td>\n      <td>85</td>\n      <td>1 min</td>\n      <td>rest</td>\n    </tr>\n    <tr>\n      <th>1</th>\n      <td>1</td>\n      <td>1</td>\n      <td>low fat</td>\n      <td>85</td>\n      <td>15 min</td>\n      <td>rest</td>\n    </tr>\n    <tr>\n      <th>2</th>\n      <td>2</td>\n      <td>1</td>\n      <td>low fat</td>\n      <td>88</td>\n      <td>30 min</td>\n      <td>rest</td>\n    </tr>\n    <tr>\n      <th>3</th>\n      <td>3</td>\n      <td>2</td>\n      <td>low fat</td>\n      <td>90</td>\n      <td>1 min</td>\n      <td>rest</td>\n    </tr>\n    <tr>\n      <th>4</th>\n      <td>4</td>\n      <td>2</td>\n      <td>low fat</td>\n      <td>92</td>\n      <td>15 min</td>\n      <td>rest</td>\n    </tr>\n    <tr>\n      <th>...</th>\n      <td>...</td>\n      <td>...</td>\n      <td>...</td>\n      <td>...</td>\n      <td>...</td>\n      <td>...</td>\n    </tr>\n    <tr>\n      <th>85</th>\n      <td>85</td>\n      <td>29</td>\n      <td>no fat</td>\n      <td>135</td>\n      <td>15 min</td>\n      <td>running</td>\n    </tr>\n    <tr>\n      <th>86</th>\n      <td>86</td>\n      <td>29</td>\n      <td>no fat</td>\n      <td>130</td>\n      <td>30 min</td>\n      <td>running</td>\n    </tr>\n    <tr>\n      <th>87</th>\n      <td>87</td>\n      <td>30</td>\n      <td>no fat</td>\n      <td>99</td>\n      <td>1 min</td>\n      <td>running</td>\n    </tr>\n    <tr>\n      <th>88</th>\n      <td>88</td>\n      <td>30</td>\n      <td>no fat</td>\n      <td>111</td>\n      <td>15 min</td>\n      <td>running</td>\n    </tr>\n    <tr>\n      <th>89</th>\n      <td>89</td>\n      <td>30</td>\n      <td>no fat</td>\n      <td>150</td>\n      <td>30 min</td>\n      <td>running</td>\n    </tr>\n  </tbody>\n</table>\n<p>90 rows × 6 columns</p>\n</div>"
     },
     "execution_count": 24,
     "metadata": {},
     "output_type": "execute_result"
    }
   ],
   "source": [
    "exercises"
   ],
   "metadata": {
    "collapsed": false,
    "ExecuteTime": {
     "end_time": "2024-04-17T20:20:07.050206049Z",
     "start_time": "2024-04-17T20:20:06.934793042Z"
    }
   },
   "id": "5e5ceb2b5101d05",
   "execution_count": 24
  },
  {
   "cell_type": "code",
   "outputs": [
    {
     "data": {
      "text/plain": "   Unnamed: 0  id     diet  pulse    time  kind\n0           0   1  low fat     85   1 min  rest\n1           1   1  low fat     85  15 min  rest\n2           2   1  low fat     88  30 min  rest\n3           3   2  low fat     90   1 min  rest\n4           4   2  low fat     92  15 min  rest",
      "text/html": "<div>\n<style scoped>\n    .dataframe tbody tr th:only-of-type {\n        vertical-align: middle;\n    }\n\n    .dataframe tbody tr th {\n        vertical-align: top;\n    }\n\n    .dataframe thead th {\n        text-align: right;\n    }\n</style>\n<table border=\"1\" class=\"dataframe\">\n  <thead>\n    <tr style=\"text-align: right;\">\n      <th></th>\n      <th>Unnamed: 0</th>\n      <th>id</th>\n      <th>diet</th>\n      <th>pulse</th>\n      <th>time</th>\n      <th>kind</th>\n    </tr>\n  </thead>\n  <tbody>\n    <tr>\n      <th>0</th>\n      <td>0</td>\n      <td>1</td>\n      <td>low fat</td>\n      <td>85</td>\n      <td>1 min</td>\n      <td>rest</td>\n    </tr>\n    <tr>\n      <th>1</th>\n      <td>1</td>\n      <td>1</td>\n      <td>low fat</td>\n      <td>85</td>\n      <td>15 min</td>\n      <td>rest</td>\n    </tr>\n    <tr>\n      <th>2</th>\n      <td>2</td>\n      <td>1</td>\n      <td>low fat</td>\n      <td>88</td>\n      <td>30 min</td>\n      <td>rest</td>\n    </tr>\n    <tr>\n      <th>3</th>\n      <td>3</td>\n      <td>2</td>\n      <td>low fat</td>\n      <td>90</td>\n      <td>1 min</td>\n      <td>rest</td>\n    </tr>\n    <tr>\n      <th>4</th>\n      <td>4</td>\n      <td>2</td>\n      <td>low fat</td>\n      <td>92</td>\n      <td>15 min</td>\n      <td>rest</td>\n    </tr>\n  </tbody>\n</table>\n</div>"
     },
     "execution_count": 25,
     "metadata": {},
     "output_type": "execute_result"
    }
   ],
   "source": [
    "exercises.head()"
   ],
   "metadata": {
    "collapsed": false,
    "ExecuteTime": {
     "end_time": "2024-04-17T20:20:10.309005045Z",
     "start_time": "2024-04-17T20:20:10.279031375Z"
    }
   },
   "id": "12aedc7383c31b9c",
   "execution_count": 25
  },
  {
   "cell_type": "code",
   "outputs": [
    {
     "data": {
      "text/plain": "0     1 min\n1    15 min\n2    30 min\nName: time, dtype: category\nCategories (3, object): ['1 min', '15 min', '30 min']"
     },
     "execution_count": 26,
     "metadata": {},
     "output_type": "execute_result"
    }
   ],
   "source": [
    "exercises.time.mode()"
   ],
   "metadata": {
    "collapsed": false,
    "ExecuteTime": {
     "end_time": "2024-04-17T20:20:10.820415901Z",
     "start_time": "2024-04-17T20:20:10.698654923Z"
    }
   },
   "id": "aebdc4ab73a79464",
   "execution_count": 26
  },
  {
   "cell_type": "code",
   "outputs": [
    {
     "data": {
      "text/plain": "    Unnamed: 0   id     diet  pulse    time     kind\n0            0  1.0   no fat   92.0   1 min     rest\n1            1  2.0  low fat   97.0  15 min  walking\n2            2  3.0      NaN  100.0  30 min  running\n3            3  4.0      NaN    NaN     NaN      NaN\n4            4  5.0      NaN    NaN     NaN      NaN\n..         ...  ...      ...    ...     ...      ...\n85          85  NaN      NaN    NaN     NaN      NaN\n86          86  NaN      NaN    NaN     NaN      NaN\n87          87  NaN      NaN    NaN     NaN      NaN\n88          88  NaN      NaN    NaN     NaN      NaN\n89          89  NaN      NaN    NaN     NaN      NaN\n\n[90 rows x 6 columns]",
      "text/html": "<div>\n<style scoped>\n    .dataframe tbody tr th:only-of-type {\n        vertical-align: middle;\n    }\n\n    .dataframe tbody tr th {\n        vertical-align: top;\n    }\n\n    .dataframe thead th {\n        text-align: right;\n    }\n</style>\n<table border=\"1\" class=\"dataframe\">\n  <thead>\n    <tr style=\"text-align: right;\">\n      <th></th>\n      <th>Unnamed: 0</th>\n      <th>id</th>\n      <th>diet</th>\n      <th>pulse</th>\n      <th>time</th>\n      <th>kind</th>\n    </tr>\n  </thead>\n  <tbody>\n    <tr>\n      <th>0</th>\n      <td>0</td>\n      <td>1.0</td>\n      <td>no fat</td>\n      <td>92.0</td>\n      <td>1 min</td>\n      <td>rest</td>\n    </tr>\n    <tr>\n      <th>1</th>\n      <td>1</td>\n      <td>2.0</td>\n      <td>low fat</td>\n      <td>97.0</td>\n      <td>15 min</td>\n      <td>walking</td>\n    </tr>\n    <tr>\n      <th>2</th>\n      <td>2</td>\n      <td>3.0</td>\n      <td>NaN</td>\n      <td>100.0</td>\n      <td>30 min</td>\n      <td>running</td>\n    </tr>\n    <tr>\n      <th>3</th>\n      <td>3</td>\n      <td>4.0</td>\n      <td>NaN</td>\n      <td>NaN</td>\n      <td>NaN</td>\n      <td>NaN</td>\n    </tr>\n    <tr>\n      <th>4</th>\n      <td>4</td>\n      <td>5.0</td>\n      <td>NaN</td>\n      <td>NaN</td>\n      <td>NaN</td>\n      <td>NaN</td>\n    </tr>\n    <tr>\n      <th>...</th>\n      <td>...</td>\n      <td>...</td>\n      <td>...</td>\n      <td>...</td>\n      <td>...</td>\n      <td>...</td>\n    </tr>\n    <tr>\n      <th>85</th>\n      <td>85</td>\n      <td>NaN</td>\n      <td>NaN</td>\n      <td>NaN</td>\n      <td>NaN</td>\n      <td>NaN</td>\n    </tr>\n    <tr>\n      <th>86</th>\n      <td>86</td>\n      <td>NaN</td>\n      <td>NaN</td>\n      <td>NaN</td>\n      <td>NaN</td>\n      <td>NaN</td>\n    </tr>\n    <tr>\n      <th>87</th>\n      <td>87</td>\n      <td>NaN</td>\n      <td>NaN</td>\n      <td>NaN</td>\n      <td>NaN</td>\n      <td>NaN</td>\n    </tr>\n    <tr>\n      <th>88</th>\n      <td>88</td>\n      <td>NaN</td>\n      <td>NaN</td>\n      <td>NaN</td>\n      <td>NaN</td>\n      <td>NaN</td>\n    </tr>\n    <tr>\n      <th>89</th>\n      <td>89</td>\n      <td>NaN</td>\n      <td>NaN</td>\n      <td>NaN</td>\n      <td>NaN</td>\n      <td>NaN</td>\n    </tr>\n  </tbody>\n</table>\n<p>90 rows × 6 columns</p>\n</div>"
     },
     "execution_count": 6,
     "metadata": {},
     "output_type": "execute_result"
    }
   ],
   "source": [
    "exercises.mode()"
   ],
   "metadata": {
    "collapsed": false,
    "ExecuteTime": {
     "end_time": "2024-04-17T19:46:20.247048131Z",
     "start_time": "2024-04-17T19:46:19.934644015Z"
    }
   },
   "id": "2e41264aed7e43ea",
   "execution_count": 6
  },
  {
   "cell_type": "code",
   "outputs": [
    {
     "name": "stderr",
     "output_type": "stream",
     "text": [
      "/tmp/ipykernel_22127/1965315009.py:1: FutureWarning: The default value of numeric_only in DataFrame.mean is deprecated. In a future version, it will default to False. In addition, specifying 'numeric_only=None' is deprecated. Select only valid columns or specify the value of numeric_only to silence this warning.\n",
      "  exercises.mean()\n"
     ]
    },
    {
     "data": {
      "text/plain": "Unnamed: 0    44.5\nid            15.5\npulse         99.7\ndtype: float64"
     },
     "execution_count": 7,
     "metadata": {},
     "output_type": "execute_result"
    }
   ],
   "source": [
    "exercises.mean()"
   ],
   "metadata": {
    "collapsed": false,
    "ExecuteTime": {
     "end_time": "2024-04-17T19:46:20.474012063Z",
     "start_time": "2024-04-17T19:46:19.983135896Z"
    }
   },
   "id": "78351d247bce83ef",
   "execution_count": 7
  },
  {
   "cell_type": "code",
   "outputs": [
    {
     "name": "stderr",
     "output_type": "stream",
     "text": [
      "/tmp/ipykernel_22127/1347084426.py:1: FutureWarning: The default value of numeric_only in DataFrame.median is deprecated. In a future version, it will default to False. In addition, specifying 'numeric_only=None' is deprecated. Select only valid columns or specify the value of numeric_only to silence this warning.\n",
      "  exercises.median()\n"
     ]
    },
    {
     "data": {
      "text/plain": "Unnamed: 0    44.5\nid            15.5\npulse         96.0\ndtype: float64"
     },
     "execution_count": 8,
     "metadata": {},
     "output_type": "execute_result"
    }
   ],
   "source": [
    "exercises.median()"
   ],
   "metadata": {
    "collapsed": false,
    "ExecuteTime": {
     "end_time": "2024-04-17T19:46:20.476628650Z",
     "start_time": "2024-04-17T19:46:20.182399744Z"
    }
   },
   "id": "f89d8f0ab37815da",
   "execution_count": 8
  },
  {
   "cell_type": "code",
   "outputs": [],
   "source": [
    "dictionary = pd.DataFrame([\n",
    "    {\n",
    "        \"variavel\": \"Unnamed: 0\",\n",
    "        \"descricao\": \"Descrição não fornecida\",\n",
    "        \"tipo\":\"quantitativa\",\n",
    "        \"subtipo\":\"discreta\"\n",
    "    },{\n",
    "        \"variavel\": \"id\",\n",
    "        \"descricao\": \"Identificação do sujeito\",\n",
    "        \"tipo\":\"quantitativa\",\n",
    "        \"subtipo\":\"discreta\"\n",
    "    },{\n",
    "        \"variavel\": \"diet\",\n",
    "        \"descricao\": \"Tipo de dieta\",\n",
    "        \"tipo\":\"qualitativa\",\n",
    "        \"subtipo\":\"nominal\"\n",
    "    },{\n",
    "        \"variavel\": \"pulse\",\n",
    "        \"descricao\": \"Pulso do sujeito\",\n",
    "        \"tipo\":\"quantitativa\",\n",
    "        \"subtipo\":\"contínua\"\n",
    "    },{\n",
    "        \"variavel\": \"time\",\n",
    "        \"descricao\": \"Tempo de medição\",\n",
    "        \"tipo\":\"qualitativa\",\n",
    "        \"subtipo\":\"ordinal\"\n",
    "    },{\n",
    "        \"variavel\": \"kind\",\n",
    "        \"descricao\": \"Tipo de atividade física\",\n",
    "        \"tipo\":\"qualitativa\",\n",
    "        \"subtipo\":\"nominal\"\n",
    "    }\n",
    "])"
   ],
   "metadata": {
    "collapsed": false,
    "ExecuteTime": {
     "end_time": "2024-04-17T20:21:51.449788640Z",
     "start_time": "2024-04-17T20:21:51.382803105Z"
    }
   },
   "id": "cd0cbf3d5c33287",
   "execution_count": 27
  },
  {
   "cell_type": "code",
   "outputs": [
    {
     "data": {
      "text/plain": "     variavel                 descricao          tipo   subtipo\n0  Unnamed: 0   Descrição não fornecida  quantitativa  discreta\n1          id  Identificação do sujeito  quantitativa  discreta\n2        diet             Tipo de dieta   qualitativa   nominal\n3       pulse          Pulso do sujeito  quantitativa  contínua\n4        time          Tempo de medição   qualitativa   ordinal\n5        kind  Tipo de atividade física   qualitativa   nominal",
      "text/html": "<div>\n<style scoped>\n    .dataframe tbody tr th:only-of-type {\n        vertical-align: middle;\n    }\n\n    .dataframe tbody tr th {\n        vertical-align: top;\n    }\n\n    .dataframe thead th {\n        text-align: right;\n    }\n</style>\n<table border=\"1\" class=\"dataframe\">\n  <thead>\n    <tr style=\"text-align: right;\">\n      <th></th>\n      <th>variavel</th>\n      <th>descricao</th>\n      <th>tipo</th>\n      <th>subtipo</th>\n    </tr>\n  </thead>\n  <tbody>\n    <tr>\n      <th>0</th>\n      <td>Unnamed: 0</td>\n      <td>Descrição não fornecida</td>\n      <td>quantitativa</td>\n      <td>discreta</td>\n    </tr>\n    <tr>\n      <th>1</th>\n      <td>id</td>\n      <td>Identificação do sujeito</td>\n      <td>quantitativa</td>\n      <td>discreta</td>\n    </tr>\n    <tr>\n      <th>2</th>\n      <td>diet</td>\n      <td>Tipo de dieta</td>\n      <td>qualitativa</td>\n      <td>nominal</td>\n    </tr>\n    <tr>\n      <th>3</th>\n      <td>pulse</td>\n      <td>Pulso do sujeito</td>\n      <td>quantitativa</td>\n      <td>contínua</td>\n    </tr>\n    <tr>\n      <th>4</th>\n      <td>time</td>\n      <td>Tempo de medição</td>\n      <td>qualitativa</td>\n      <td>ordinal</td>\n    </tr>\n    <tr>\n      <th>5</th>\n      <td>kind</td>\n      <td>Tipo de atividade física</td>\n      <td>qualitativa</td>\n      <td>nominal</td>\n    </tr>\n  </tbody>\n</table>\n</div>"
     },
     "execution_count": 28,
     "metadata": {},
     "output_type": "execute_result"
    }
   ],
   "source": [
    "dictionary"
   ],
   "metadata": {
    "collapsed": false,
    "ExecuteTime": {
     "end_time": "2024-04-17T20:21:54.051878649Z",
     "start_time": "2024-04-17T20:21:53.978959645Z"
    }
   },
   "id": "ead089cccb0565ee",
   "execution_count": 28
  },
  {
   "cell_type": "code",
   "outputs": [],
   "source": [
    "qualitativas = dictionary[dictionary['tipo'] == 'qualitativa'].variavel.tolist()\n",
    "quantitativas = dictionary[dictionary['tipo'] == 'quantitativa'].variavel.tolist()"
   ],
   "metadata": {
    "collapsed": false,
    "ExecuteTime": {
     "end_time": "2024-04-17T19:46:20.828572455Z",
     "start_time": "2024-04-17T19:46:20.662300765Z"
    }
   },
   "id": "7e2dac5c13eaeace",
   "execution_count": 11
  },
  {
   "cell_type": "code",
   "outputs": [
    {
     "data": {
      "text/plain": "['diet', 'kind']"
     },
     "execution_count": 12,
     "metadata": {},
     "output_type": "execute_result"
    }
   ],
   "source": [
    "qualitativas"
   ],
   "metadata": {
    "collapsed": false,
    "ExecuteTime": {
     "end_time": "2024-04-17T19:46:21.054564184Z",
     "start_time": "2024-04-17T19:46:20.681094998Z"
    }
   },
   "id": "303b9014b7fd166d",
   "execution_count": 12
  },
  {
   "cell_type": "code",
   "outputs": [
    {
     "data": {
      "text/plain": "['Unnamed: 0', 'id', 'pulse', 'time']"
     },
     "execution_count": 13,
     "metadata": {},
     "output_type": "execute_result"
    }
   ],
   "source": [
    "quantitativas"
   ],
   "metadata": {
    "collapsed": false,
    "ExecuteTime": {
     "end_time": "2024-04-17T19:46:21.487504618Z",
     "start_time": "2024-04-17T19:46:20.918049820Z"
    }
   },
   "id": "3fa1584958c172cb",
   "execution_count": 13
  },
  {
   "cell_type": "code",
   "outputs": [
    {
     "data": {
      "text/plain": "      diet     kind\n0   no fat     rest\n1  low fat  walking\n2      NaN  running",
      "text/html": "<div>\n<style scoped>\n    .dataframe tbody tr th:only-of-type {\n        vertical-align: middle;\n    }\n\n    .dataframe tbody tr th {\n        vertical-align: top;\n    }\n\n    .dataframe thead th {\n        text-align: right;\n    }\n</style>\n<table border=\"1\" class=\"dataframe\">\n  <thead>\n    <tr style=\"text-align: right;\">\n      <th></th>\n      <th>diet</th>\n      <th>kind</th>\n    </tr>\n  </thead>\n  <tbody>\n    <tr>\n      <th>0</th>\n      <td>no fat</td>\n      <td>rest</td>\n    </tr>\n    <tr>\n      <th>1</th>\n      <td>low fat</td>\n      <td>walking</td>\n    </tr>\n    <tr>\n      <th>2</th>\n      <td>NaN</td>\n      <td>running</td>\n    </tr>\n  </tbody>\n</table>\n</div>"
     },
     "execution_count": 14,
     "metadata": {},
     "output_type": "execute_result"
    }
   ],
   "source": [
    "exercises[qualitativas].mode()"
   ],
   "metadata": {
    "collapsed": false,
    "ExecuteTime": {
     "end_time": "2024-04-17T19:46:21.498624858Z",
     "start_time": "2024-04-17T19:46:21.134865630Z"
    }
   },
   "id": "1ffa3778d5addd2d",
   "execution_count": 14
  },
  {
   "cell_type": "code",
   "outputs": [
    {
     "name": "stderr",
     "output_type": "stream",
     "text": [
      "/tmp/ipykernel_22127/1248721251.py:1: FutureWarning: The default value of numeric_only in DataFrame.mean is deprecated. In a future version, it will default to False. In addition, specifying 'numeric_only=None' is deprecated. Select only valid columns or specify the value of numeric_only to silence this warning.\n",
      "  exercises[quantitativas].mean()\n"
     ]
    },
    {
     "data": {
      "text/plain": "Unnamed: 0    44.5\nid            15.5\npulse         99.7\ndtype: float64"
     },
     "execution_count": 15,
     "metadata": {},
     "output_type": "execute_result"
    }
   ],
   "source": [
    "exercises[quantitativas].mean()\n",
    "\n",
    "#TODO: dúvida foi classificado como variável quantitativa (Unnmed e id), pela questão originário do dado ser um numérico, está correto ? Como posso tratar isso"
   ],
   "metadata": {
    "collapsed": false,
    "ExecuteTime": {
     "end_time": "2024-04-17T19:46:21.525480317Z",
     "start_time": "2024-04-17T19:46:21.171828785Z"
    }
   },
   "id": "f672f760fb153977",
   "execution_count": 15
  },
  {
   "cell_type": "code",
   "outputs": [
    {
     "name": "stderr",
     "output_type": "stream",
     "text": [
      "/tmp/ipykernel_22127/2780992864.py:1: FutureWarning: The default value of numeric_only in DataFrame.median is deprecated. In a future version, it will default to False. In addition, specifying 'numeric_only=None' is deprecated. Select only valid columns or specify the value of numeric_only to silence this warning.\n",
      "  exercises[quantitativas].median()\n"
     ]
    },
    {
     "data": {
      "text/plain": "Unnamed: 0    44.5\nid            15.5\npulse         96.0\ndtype: float64"
     },
     "execution_count": 16,
     "metadata": {},
     "output_type": "execute_result"
    }
   ],
   "source": [
    "exercises[quantitativas].median()\n"
   ],
   "metadata": {
    "collapsed": false,
    "ExecuteTime": {
     "end_time": "2024-04-17T19:46:21.556835644Z",
     "start_time": "2024-04-17T19:46:21.193049344Z"
    }
   },
   "id": "8d2479e9d2bcec0b",
   "execution_count": 16
  },
  {
   "cell_type": "code",
   "outputs": [
    {
     "data": {
      "text/plain": "        Unnamed: 0         id    diet       pulse   time  kind\ncount    90.000000  90.000000      90   90.000000     90    90\nunique         NaN        NaN       2         NaN      3     3\ntop            NaN        NaN  no fat         NaN  1 min  rest\nfreq           NaN        NaN      45         NaN     30    30\nmean     44.500000  15.500000     NaN   99.700000    NaN   NaN\nstd      26.124701   8.703932     NaN   14.858471    NaN   NaN\nmin       0.000000   1.000000     NaN   80.000000    NaN   NaN\n25%      22.250000   8.000000     NaN   90.250000    NaN   NaN\n50%      44.500000  15.500000     NaN   96.000000    NaN   NaN\n75%      66.750000  23.000000     NaN  103.000000    NaN   NaN\nmax      89.000000  30.000000     NaN  150.000000    NaN   NaN",
      "text/html": "<div>\n<style scoped>\n    .dataframe tbody tr th:only-of-type {\n        vertical-align: middle;\n    }\n\n    .dataframe tbody tr th {\n        vertical-align: top;\n    }\n\n    .dataframe thead th {\n        text-align: right;\n    }\n</style>\n<table border=\"1\" class=\"dataframe\">\n  <thead>\n    <tr style=\"text-align: right;\">\n      <th></th>\n      <th>Unnamed: 0</th>\n      <th>id</th>\n      <th>diet</th>\n      <th>pulse</th>\n      <th>time</th>\n      <th>kind</th>\n    </tr>\n  </thead>\n  <tbody>\n    <tr>\n      <th>count</th>\n      <td>90.000000</td>\n      <td>90.000000</td>\n      <td>90</td>\n      <td>90.000000</td>\n      <td>90</td>\n      <td>90</td>\n    </tr>\n    <tr>\n      <th>unique</th>\n      <td>NaN</td>\n      <td>NaN</td>\n      <td>2</td>\n      <td>NaN</td>\n      <td>3</td>\n      <td>3</td>\n    </tr>\n    <tr>\n      <th>top</th>\n      <td>NaN</td>\n      <td>NaN</td>\n      <td>no fat</td>\n      <td>NaN</td>\n      <td>1 min</td>\n      <td>rest</td>\n    </tr>\n    <tr>\n      <th>freq</th>\n      <td>NaN</td>\n      <td>NaN</td>\n      <td>45</td>\n      <td>NaN</td>\n      <td>30</td>\n      <td>30</td>\n    </tr>\n    <tr>\n      <th>mean</th>\n      <td>44.500000</td>\n      <td>15.500000</td>\n      <td>NaN</td>\n      <td>99.700000</td>\n      <td>NaN</td>\n      <td>NaN</td>\n    </tr>\n    <tr>\n      <th>std</th>\n      <td>26.124701</td>\n      <td>8.703932</td>\n      <td>NaN</td>\n      <td>14.858471</td>\n      <td>NaN</td>\n      <td>NaN</td>\n    </tr>\n    <tr>\n      <th>min</th>\n      <td>0.000000</td>\n      <td>1.000000</td>\n      <td>NaN</td>\n      <td>80.000000</td>\n      <td>NaN</td>\n      <td>NaN</td>\n    </tr>\n    <tr>\n      <th>25%</th>\n      <td>22.250000</td>\n      <td>8.000000</td>\n      <td>NaN</td>\n      <td>90.250000</td>\n      <td>NaN</td>\n      <td>NaN</td>\n    </tr>\n    <tr>\n      <th>50%</th>\n      <td>44.500000</td>\n      <td>15.500000</td>\n      <td>NaN</td>\n      <td>96.000000</td>\n      <td>NaN</td>\n      <td>NaN</td>\n    </tr>\n    <tr>\n      <th>75%</th>\n      <td>66.750000</td>\n      <td>23.000000</td>\n      <td>NaN</td>\n      <td>103.000000</td>\n      <td>NaN</td>\n      <td>NaN</td>\n    </tr>\n    <tr>\n      <th>max</th>\n      <td>89.000000</td>\n      <td>30.000000</td>\n      <td>NaN</td>\n      <td>150.000000</td>\n      <td>NaN</td>\n      <td>NaN</td>\n    </tr>\n  </tbody>\n</table>\n</div>"
     },
     "execution_count": 17,
     "metadata": {},
     "output_type": "execute_result"
    }
   ],
   "source": [
    "exercises.describe(include=\"all\")\n"
   ],
   "metadata": {
    "collapsed": false,
    "ExecuteTime": {
     "end_time": "2024-04-17T19:55:38.601228959Z",
     "start_time": "2024-04-17T19:55:38.443680055Z"
    }
   },
   "id": "bc0fcfbdd48d9633",
   "execution_count": 17
  },
  {
   "cell_type": "code",
   "outputs": [
    {
     "name": "stderr",
     "output_type": "stream",
     "text": [
      "/tmp/ipykernel_22127/255857346.py:1: FutureWarning: ['time'] did not aggregate successfully. If any error is raised this will raise in a future version of pandas. Drop these columns/ops to avoid this warning.\n",
      "  exercises.groupby('pulse')[quantitativas].agg(['mean','median','std'])\n"
     ]
    },
    {
     "data": {
      "text/plain": "      Unnamed: 0                           id                    pulse         \\\n            mean median        std       mean median        std   mean median   \npulse                                                                           \n80      9.000000    9.0        NaN   4.000000    4.0        NaN   80.0   80.0   \n82     10.000000   10.0        NaN   4.000000    4.0        NaN   82.0   82.0   \n83     14.000000   15.0   2.645751   5.333333    6.0   1.154701   83.0   83.0   \n84     31.333333   32.0  14.011900  11.000000   11.0   5.000000   84.0   84.0   \n85      0.500000    0.5   0.707107   1.000000    1.0   0.000000   85.0   85.0   \n86     35.666667   31.0   8.962886  12.666667   11.0   2.886751   86.0   86.0   \n87     43.500000   43.5  36.062446  15.500000   15.5  12.020815   87.0   87.0   \n88     10.500000   10.5  12.020815   4.000000    4.0   4.242641   88.0   88.0   \n89     44.500000   44.5   3.535534  15.500000   15.5   0.707107   89.0   89.0   \n90     27.250000   28.0  20.287517   9.750000   10.0   6.601767   90.0   90.0   \n91     13.000000   13.0   1.414214   5.000000    5.0   0.000000   91.0   91.0   \n92     25.200000   21.0  18.846750   9.200000    8.0   6.379655   92.0   92.0   \n93     34.000000   35.5  22.612681  12.000000   12.5   7.788881   93.0   93.0   \n94     46.500000   47.0  37.143864  16.250000   16.5  12.685293   94.0   94.0   \n95     45.250000   41.5  21.761970  15.750000   14.5   7.500000   95.0   95.0   \n96     40.250000   41.5  10.781929  14.000000   14.5   3.741657   96.0   96.0   \n97     23.800000   24.0  19.549936   8.800000    9.0   6.572671   97.0   97.0   \n98     61.250000   62.0   4.645787  21.250000   21.5   1.707825   98.0   98.0   \n99     60.000000   68.0  31.764760  20.666667   23.0  10.692677   99.0   99.0   \n100    46.200000   41.0  21.206131  16.000000   14.0   7.176350  100.0  100.0   \n101    53.000000   53.0        NaN  18.000000   18.0        NaN  101.0  101.0   \n102    57.000000   57.0        NaN  20.000000   20.0        NaN  102.0  102.0   \n103    55.500000   53.5  19.841035  19.250000   18.5   6.701990  103.0  103.0   \n104    52.333333   58.0  15.307950  18.000000   20.0   5.291503  104.0  104.0   \n105    67.000000   67.0        NaN  23.000000   23.0        NaN  105.0  105.0   \n109    49.000000   49.0        NaN  17.000000   17.0        NaN  109.0  109.0   \n110    67.500000   67.5   7.778175  23.000000   23.0   2.828427  110.0  110.0   \n111    88.000000   88.0        NaN  30.000000   30.0        NaN  111.0  111.0   \n112    65.000000   65.0        NaN  22.000000   22.0        NaN  112.0  112.0   \n116    74.000000   74.0        NaN  25.000000   25.0        NaN  116.0  116.0   \n120    71.000000   71.0        NaN  24.000000   24.0        NaN  120.0  120.0   \n124    82.000000   82.0        NaN  28.000000   28.0        NaN  124.0  124.0   \n126    77.500000   77.5   2.121320  26.500000   26.5   0.707107  126.0  126.0   \n130    86.000000   86.0        NaN  29.000000   29.0        NaN  130.0  130.0   \n132    70.000000   70.0        NaN  24.000000   24.0        NaN  132.0  132.0   \n135    85.000000   85.0        NaN  29.000000   29.0        NaN  135.0  135.0   \n140    81.500000   81.5   2.121320  27.500000   27.5   0.707107  140.0  140.0   \n143    77.000000   77.0        NaN  26.000000   26.0        NaN  143.0  143.0   \n150    89.000000   89.0        NaN  30.000000   30.0        NaN  150.0  150.0   \n\n            \n       std  \npulse       \n80     NaN  \n82     NaN  \n83     0.0  \n84     0.0  \n85     0.0  \n86     0.0  \n87     0.0  \n88     0.0  \n89     0.0  \n90     0.0  \n91     0.0  \n92     0.0  \n93     0.0  \n94     0.0  \n95     0.0  \n96     0.0  \n97     0.0  \n98     0.0  \n99     0.0  \n100    0.0  \n101    NaN  \n102    NaN  \n103    0.0  \n104    0.0  \n105    NaN  \n109    NaN  \n110    0.0  \n111    NaN  \n112    NaN  \n116    NaN  \n120    NaN  \n124    NaN  \n126    0.0  \n130    NaN  \n132    NaN  \n135    NaN  \n140    0.0  \n143    NaN  \n150    NaN  ",
      "text/html": "<div>\n<style scoped>\n    .dataframe tbody tr th:only-of-type {\n        vertical-align: middle;\n    }\n\n    .dataframe tbody tr th {\n        vertical-align: top;\n    }\n\n    .dataframe thead tr th {\n        text-align: left;\n    }\n\n    .dataframe thead tr:last-of-type th {\n        text-align: right;\n    }\n</style>\n<table border=\"1\" class=\"dataframe\">\n  <thead>\n    <tr>\n      <th></th>\n      <th colspan=\"3\" halign=\"left\">Unnamed: 0</th>\n      <th colspan=\"3\" halign=\"left\">id</th>\n      <th colspan=\"3\" halign=\"left\">pulse</th>\n    </tr>\n    <tr>\n      <th></th>\n      <th>mean</th>\n      <th>median</th>\n      <th>std</th>\n      <th>mean</th>\n      <th>median</th>\n      <th>std</th>\n      <th>mean</th>\n      <th>median</th>\n      <th>std</th>\n    </tr>\n    <tr>\n      <th>pulse</th>\n      <th></th>\n      <th></th>\n      <th></th>\n      <th></th>\n      <th></th>\n      <th></th>\n      <th></th>\n      <th></th>\n      <th></th>\n    </tr>\n  </thead>\n  <tbody>\n    <tr>\n      <th>80</th>\n      <td>9.000000</td>\n      <td>9.0</td>\n      <td>NaN</td>\n      <td>4.000000</td>\n      <td>4.0</td>\n      <td>NaN</td>\n      <td>80.0</td>\n      <td>80.0</td>\n      <td>NaN</td>\n    </tr>\n    <tr>\n      <th>82</th>\n      <td>10.000000</td>\n      <td>10.0</td>\n      <td>NaN</td>\n      <td>4.000000</td>\n      <td>4.0</td>\n      <td>NaN</td>\n      <td>82.0</td>\n      <td>82.0</td>\n      <td>NaN</td>\n    </tr>\n    <tr>\n      <th>83</th>\n      <td>14.000000</td>\n      <td>15.0</td>\n      <td>2.645751</td>\n      <td>5.333333</td>\n      <td>6.0</td>\n      <td>1.154701</td>\n      <td>83.0</td>\n      <td>83.0</td>\n      <td>0.0</td>\n    </tr>\n    <tr>\n      <th>84</th>\n      <td>31.333333</td>\n      <td>32.0</td>\n      <td>14.011900</td>\n      <td>11.000000</td>\n      <td>11.0</td>\n      <td>5.000000</td>\n      <td>84.0</td>\n      <td>84.0</td>\n      <td>0.0</td>\n    </tr>\n    <tr>\n      <th>85</th>\n      <td>0.500000</td>\n      <td>0.5</td>\n      <td>0.707107</td>\n      <td>1.000000</td>\n      <td>1.0</td>\n      <td>0.000000</td>\n      <td>85.0</td>\n      <td>85.0</td>\n      <td>0.0</td>\n    </tr>\n    <tr>\n      <th>86</th>\n      <td>35.666667</td>\n      <td>31.0</td>\n      <td>8.962886</td>\n      <td>12.666667</td>\n      <td>11.0</td>\n      <td>2.886751</td>\n      <td>86.0</td>\n      <td>86.0</td>\n      <td>0.0</td>\n    </tr>\n    <tr>\n      <th>87</th>\n      <td>43.500000</td>\n      <td>43.5</td>\n      <td>36.062446</td>\n      <td>15.500000</td>\n      <td>15.5</td>\n      <td>12.020815</td>\n      <td>87.0</td>\n      <td>87.0</td>\n      <td>0.0</td>\n    </tr>\n    <tr>\n      <th>88</th>\n      <td>10.500000</td>\n      <td>10.5</td>\n      <td>12.020815</td>\n      <td>4.000000</td>\n      <td>4.0</td>\n      <td>4.242641</td>\n      <td>88.0</td>\n      <td>88.0</td>\n      <td>0.0</td>\n    </tr>\n    <tr>\n      <th>89</th>\n      <td>44.500000</td>\n      <td>44.5</td>\n      <td>3.535534</td>\n      <td>15.500000</td>\n      <td>15.5</td>\n      <td>0.707107</td>\n      <td>89.0</td>\n      <td>89.0</td>\n      <td>0.0</td>\n    </tr>\n    <tr>\n      <th>90</th>\n      <td>27.250000</td>\n      <td>28.0</td>\n      <td>20.287517</td>\n      <td>9.750000</td>\n      <td>10.0</td>\n      <td>6.601767</td>\n      <td>90.0</td>\n      <td>90.0</td>\n      <td>0.0</td>\n    </tr>\n    <tr>\n      <th>91</th>\n      <td>13.000000</td>\n      <td>13.0</td>\n      <td>1.414214</td>\n      <td>5.000000</td>\n      <td>5.0</td>\n      <td>0.000000</td>\n      <td>91.0</td>\n      <td>91.0</td>\n      <td>0.0</td>\n    </tr>\n    <tr>\n      <th>92</th>\n      <td>25.200000</td>\n      <td>21.0</td>\n      <td>18.846750</td>\n      <td>9.200000</td>\n      <td>8.0</td>\n      <td>6.379655</td>\n      <td>92.0</td>\n      <td>92.0</td>\n      <td>0.0</td>\n    </tr>\n    <tr>\n      <th>93</th>\n      <td>34.000000</td>\n      <td>35.5</td>\n      <td>22.612681</td>\n      <td>12.000000</td>\n      <td>12.5</td>\n      <td>7.788881</td>\n      <td>93.0</td>\n      <td>93.0</td>\n      <td>0.0</td>\n    </tr>\n    <tr>\n      <th>94</th>\n      <td>46.500000</td>\n      <td>47.0</td>\n      <td>37.143864</td>\n      <td>16.250000</td>\n      <td>16.5</td>\n      <td>12.685293</td>\n      <td>94.0</td>\n      <td>94.0</td>\n      <td>0.0</td>\n    </tr>\n    <tr>\n      <th>95</th>\n      <td>45.250000</td>\n      <td>41.5</td>\n      <td>21.761970</td>\n      <td>15.750000</td>\n      <td>14.5</td>\n      <td>7.500000</td>\n      <td>95.0</td>\n      <td>95.0</td>\n      <td>0.0</td>\n    </tr>\n    <tr>\n      <th>96</th>\n      <td>40.250000</td>\n      <td>41.5</td>\n      <td>10.781929</td>\n      <td>14.000000</td>\n      <td>14.5</td>\n      <td>3.741657</td>\n      <td>96.0</td>\n      <td>96.0</td>\n      <td>0.0</td>\n    </tr>\n    <tr>\n      <th>97</th>\n      <td>23.800000</td>\n      <td>24.0</td>\n      <td>19.549936</td>\n      <td>8.800000</td>\n      <td>9.0</td>\n      <td>6.572671</td>\n      <td>97.0</td>\n      <td>97.0</td>\n      <td>0.0</td>\n    </tr>\n    <tr>\n      <th>98</th>\n      <td>61.250000</td>\n      <td>62.0</td>\n      <td>4.645787</td>\n      <td>21.250000</td>\n      <td>21.5</td>\n      <td>1.707825</td>\n      <td>98.0</td>\n      <td>98.0</td>\n      <td>0.0</td>\n    </tr>\n    <tr>\n      <th>99</th>\n      <td>60.000000</td>\n      <td>68.0</td>\n      <td>31.764760</td>\n      <td>20.666667</td>\n      <td>23.0</td>\n      <td>10.692677</td>\n      <td>99.0</td>\n      <td>99.0</td>\n      <td>0.0</td>\n    </tr>\n    <tr>\n      <th>100</th>\n      <td>46.200000</td>\n      <td>41.0</td>\n      <td>21.206131</td>\n      <td>16.000000</td>\n      <td>14.0</td>\n      <td>7.176350</td>\n      <td>100.0</td>\n      <td>100.0</td>\n      <td>0.0</td>\n    </tr>\n    <tr>\n      <th>101</th>\n      <td>53.000000</td>\n      <td>53.0</td>\n      <td>NaN</td>\n      <td>18.000000</td>\n      <td>18.0</td>\n      <td>NaN</td>\n      <td>101.0</td>\n      <td>101.0</td>\n      <td>NaN</td>\n    </tr>\n    <tr>\n      <th>102</th>\n      <td>57.000000</td>\n      <td>57.0</td>\n      <td>NaN</td>\n      <td>20.000000</td>\n      <td>20.0</td>\n      <td>NaN</td>\n      <td>102.0</td>\n      <td>102.0</td>\n      <td>NaN</td>\n    </tr>\n    <tr>\n      <th>103</th>\n      <td>55.500000</td>\n      <td>53.5</td>\n      <td>19.841035</td>\n      <td>19.250000</td>\n      <td>18.5</td>\n      <td>6.701990</td>\n      <td>103.0</td>\n      <td>103.0</td>\n      <td>0.0</td>\n    </tr>\n    <tr>\n      <th>104</th>\n      <td>52.333333</td>\n      <td>58.0</td>\n      <td>15.307950</td>\n      <td>18.000000</td>\n      <td>20.0</td>\n      <td>5.291503</td>\n      <td>104.0</td>\n      <td>104.0</td>\n      <td>0.0</td>\n    </tr>\n    <tr>\n      <th>105</th>\n      <td>67.000000</td>\n      <td>67.0</td>\n      <td>NaN</td>\n      <td>23.000000</td>\n      <td>23.0</td>\n      <td>NaN</td>\n      <td>105.0</td>\n      <td>105.0</td>\n      <td>NaN</td>\n    </tr>\n    <tr>\n      <th>109</th>\n      <td>49.000000</td>\n      <td>49.0</td>\n      <td>NaN</td>\n      <td>17.000000</td>\n      <td>17.0</td>\n      <td>NaN</td>\n      <td>109.0</td>\n      <td>109.0</td>\n      <td>NaN</td>\n    </tr>\n    <tr>\n      <th>110</th>\n      <td>67.500000</td>\n      <td>67.5</td>\n      <td>7.778175</td>\n      <td>23.000000</td>\n      <td>23.0</td>\n      <td>2.828427</td>\n      <td>110.0</td>\n      <td>110.0</td>\n      <td>0.0</td>\n    </tr>\n    <tr>\n      <th>111</th>\n      <td>88.000000</td>\n      <td>88.0</td>\n      <td>NaN</td>\n      <td>30.000000</td>\n      <td>30.0</td>\n      <td>NaN</td>\n      <td>111.0</td>\n      <td>111.0</td>\n      <td>NaN</td>\n    </tr>\n    <tr>\n      <th>112</th>\n      <td>65.000000</td>\n      <td>65.0</td>\n      <td>NaN</td>\n      <td>22.000000</td>\n      <td>22.0</td>\n      <td>NaN</td>\n      <td>112.0</td>\n      <td>112.0</td>\n      <td>NaN</td>\n    </tr>\n    <tr>\n      <th>116</th>\n      <td>74.000000</td>\n      <td>74.0</td>\n      <td>NaN</td>\n      <td>25.000000</td>\n      <td>25.0</td>\n      <td>NaN</td>\n      <td>116.0</td>\n      <td>116.0</td>\n      <td>NaN</td>\n    </tr>\n    <tr>\n      <th>120</th>\n      <td>71.000000</td>\n      <td>71.0</td>\n      <td>NaN</td>\n      <td>24.000000</td>\n      <td>24.0</td>\n      <td>NaN</td>\n      <td>120.0</td>\n      <td>120.0</td>\n      <td>NaN</td>\n    </tr>\n    <tr>\n      <th>124</th>\n      <td>82.000000</td>\n      <td>82.0</td>\n      <td>NaN</td>\n      <td>28.000000</td>\n      <td>28.0</td>\n      <td>NaN</td>\n      <td>124.0</td>\n      <td>124.0</td>\n      <td>NaN</td>\n    </tr>\n    <tr>\n      <th>126</th>\n      <td>77.500000</td>\n      <td>77.5</td>\n      <td>2.121320</td>\n      <td>26.500000</td>\n      <td>26.5</td>\n      <td>0.707107</td>\n      <td>126.0</td>\n      <td>126.0</td>\n      <td>0.0</td>\n    </tr>\n    <tr>\n      <th>130</th>\n      <td>86.000000</td>\n      <td>86.0</td>\n      <td>NaN</td>\n      <td>29.000000</td>\n      <td>29.0</td>\n      <td>NaN</td>\n      <td>130.0</td>\n      <td>130.0</td>\n      <td>NaN</td>\n    </tr>\n    <tr>\n      <th>132</th>\n      <td>70.000000</td>\n      <td>70.0</td>\n      <td>NaN</td>\n      <td>24.000000</td>\n      <td>24.0</td>\n      <td>NaN</td>\n      <td>132.0</td>\n      <td>132.0</td>\n      <td>NaN</td>\n    </tr>\n    <tr>\n      <th>135</th>\n      <td>85.000000</td>\n      <td>85.0</td>\n      <td>NaN</td>\n      <td>29.000000</td>\n      <td>29.0</td>\n      <td>NaN</td>\n      <td>135.0</td>\n      <td>135.0</td>\n      <td>NaN</td>\n    </tr>\n    <tr>\n      <th>140</th>\n      <td>81.500000</td>\n      <td>81.5</td>\n      <td>2.121320</td>\n      <td>27.500000</td>\n      <td>27.5</td>\n      <td>0.707107</td>\n      <td>140.0</td>\n      <td>140.0</td>\n      <td>0.0</td>\n    </tr>\n    <tr>\n      <th>143</th>\n      <td>77.000000</td>\n      <td>77.0</td>\n      <td>NaN</td>\n      <td>26.000000</td>\n      <td>26.0</td>\n      <td>NaN</td>\n      <td>143.0</td>\n      <td>143.0</td>\n      <td>NaN</td>\n    </tr>\n    <tr>\n      <th>150</th>\n      <td>89.000000</td>\n      <td>89.0</td>\n      <td>NaN</td>\n      <td>30.000000</td>\n      <td>30.0</td>\n      <td>NaN</td>\n      <td>150.0</td>\n      <td>150.0</td>\n      <td>NaN</td>\n    </tr>\n  </tbody>\n</table>\n</div>"
     },
     "execution_count": 18,
     "metadata": {},
     "output_type": "execute_result"
    }
   ],
   "source": [
    "exercises.groupby('pulse')[quantitativas].agg(['mean','median','std'])\n"
   ],
   "metadata": {
    "collapsed": false,
    "ExecuteTime": {
     "end_time": "2024-04-17T19:56:00.111157254Z",
     "start_time": "2024-04-17T19:56:00.018990541Z"
    }
   },
   "id": "8d6861748de5215a",
   "execution_count": 18
  },
  {
   "cell_type": "code",
   "outputs": [
    {
     "data": {
      "text/plain": "            mean  median        std\npulse                              \n80      4.000000     4.0        NaN\n82      4.000000     4.0        NaN\n83      5.333333     6.0   1.154701\n84     11.000000    11.0   5.000000\n85      1.000000     1.0   0.000000\n86     12.666667    11.0   2.886751\n87     15.500000    15.5  12.020815\n88      4.000000     4.0   4.242641\n89     15.500000    15.5   0.707107\n90      9.750000    10.0   6.601767\n91      5.000000     5.0   0.000000\n92      9.200000     8.0   6.379655\n93     12.000000    12.5   7.788881\n94     16.250000    16.5  12.685293\n95     15.750000    14.5   7.500000\n96     14.000000    14.5   3.741657\n97      8.800000     9.0   6.572671\n98     21.250000    21.5   1.707825\n99     20.666667    23.0  10.692677\n100    16.000000    14.0   7.176350\n101    18.000000    18.0        NaN\n102    20.000000    20.0        NaN\n103    19.250000    18.5   6.701990\n104    18.000000    20.0   5.291503\n105    23.000000    23.0        NaN\n109    17.000000    17.0        NaN\n110    23.000000    23.0   2.828427\n111    30.000000    30.0        NaN\n112    22.000000    22.0        NaN\n116    25.000000    25.0        NaN\n120    24.000000    24.0        NaN\n124    28.000000    28.0        NaN\n126    26.500000    26.5   0.707107\n130    29.000000    29.0        NaN\n132    24.000000    24.0        NaN\n135    29.000000    29.0        NaN\n140    27.500000    27.5   0.707107\n143    26.000000    26.0        NaN\n150    30.000000    30.0        NaN",
      "text/html": "<div>\n<style scoped>\n    .dataframe tbody tr th:only-of-type {\n        vertical-align: middle;\n    }\n\n    .dataframe tbody tr th {\n        vertical-align: top;\n    }\n\n    .dataframe thead th {\n        text-align: right;\n    }\n</style>\n<table border=\"1\" class=\"dataframe\">\n  <thead>\n    <tr style=\"text-align: right;\">\n      <th></th>\n      <th>mean</th>\n      <th>median</th>\n      <th>std</th>\n    </tr>\n    <tr>\n      <th>pulse</th>\n      <th></th>\n      <th></th>\n      <th></th>\n    </tr>\n  </thead>\n  <tbody>\n    <tr>\n      <th>80</th>\n      <td>4.000000</td>\n      <td>4.0</td>\n      <td>NaN</td>\n    </tr>\n    <tr>\n      <th>82</th>\n      <td>4.000000</td>\n      <td>4.0</td>\n      <td>NaN</td>\n    </tr>\n    <tr>\n      <th>83</th>\n      <td>5.333333</td>\n      <td>6.0</td>\n      <td>1.154701</td>\n    </tr>\n    <tr>\n      <th>84</th>\n      <td>11.000000</td>\n      <td>11.0</td>\n      <td>5.000000</td>\n    </tr>\n    <tr>\n      <th>85</th>\n      <td>1.000000</td>\n      <td>1.0</td>\n      <td>0.000000</td>\n    </tr>\n    <tr>\n      <th>86</th>\n      <td>12.666667</td>\n      <td>11.0</td>\n      <td>2.886751</td>\n    </tr>\n    <tr>\n      <th>87</th>\n      <td>15.500000</td>\n      <td>15.5</td>\n      <td>12.020815</td>\n    </tr>\n    <tr>\n      <th>88</th>\n      <td>4.000000</td>\n      <td>4.0</td>\n      <td>4.242641</td>\n    </tr>\n    <tr>\n      <th>89</th>\n      <td>15.500000</td>\n      <td>15.5</td>\n      <td>0.707107</td>\n    </tr>\n    <tr>\n      <th>90</th>\n      <td>9.750000</td>\n      <td>10.0</td>\n      <td>6.601767</td>\n    </tr>\n    <tr>\n      <th>91</th>\n      <td>5.000000</td>\n      <td>5.0</td>\n      <td>0.000000</td>\n    </tr>\n    <tr>\n      <th>92</th>\n      <td>9.200000</td>\n      <td>8.0</td>\n      <td>6.379655</td>\n    </tr>\n    <tr>\n      <th>93</th>\n      <td>12.000000</td>\n      <td>12.5</td>\n      <td>7.788881</td>\n    </tr>\n    <tr>\n      <th>94</th>\n      <td>16.250000</td>\n      <td>16.5</td>\n      <td>12.685293</td>\n    </tr>\n    <tr>\n      <th>95</th>\n      <td>15.750000</td>\n      <td>14.5</td>\n      <td>7.500000</td>\n    </tr>\n    <tr>\n      <th>96</th>\n      <td>14.000000</td>\n      <td>14.5</td>\n      <td>3.741657</td>\n    </tr>\n    <tr>\n      <th>97</th>\n      <td>8.800000</td>\n      <td>9.0</td>\n      <td>6.572671</td>\n    </tr>\n    <tr>\n      <th>98</th>\n      <td>21.250000</td>\n      <td>21.5</td>\n      <td>1.707825</td>\n    </tr>\n    <tr>\n      <th>99</th>\n      <td>20.666667</td>\n      <td>23.0</td>\n      <td>10.692677</td>\n    </tr>\n    <tr>\n      <th>100</th>\n      <td>16.000000</td>\n      <td>14.0</td>\n      <td>7.176350</td>\n    </tr>\n    <tr>\n      <th>101</th>\n      <td>18.000000</td>\n      <td>18.0</td>\n      <td>NaN</td>\n    </tr>\n    <tr>\n      <th>102</th>\n      <td>20.000000</td>\n      <td>20.0</td>\n      <td>NaN</td>\n    </tr>\n    <tr>\n      <th>103</th>\n      <td>19.250000</td>\n      <td>18.5</td>\n      <td>6.701990</td>\n    </tr>\n    <tr>\n      <th>104</th>\n      <td>18.000000</td>\n      <td>20.0</td>\n      <td>5.291503</td>\n    </tr>\n    <tr>\n      <th>105</th>\n      <td>23.000000</td>\n      <td>23.0</td>\n      <td>NaN</td>\n    </tr>\n    <tr>\n      <th>109</th>\n      <td>17.000000</td>\n      <td>17.0</td>\n      <td>NaN</td>\n    </tr>\n    <tr>\n      <th>110</th>\n      <td>23.000000</td>\n      <td>23.0</td>\n      <td>2.828427</td>\n    </tr>\n    <tr>\n      <th>111</th>\n      <td>30.000000</td>\n      <td>30.0</td>\n      <td>NaN</td>\n    </tr>\n    <tr>\n      <th>112</th>\n      <td>22.000000</td>\n      <td>22.0</td>\n      <td>NaN</td>\n    </tr>\n    <tr>\n      <th>116</th>\n      <td>25.000000</td>\n      <td>25.0</td>\n      <td>NaN</td>\n    </tr>\n    <tr>\n      <th>120</th>\n      <td>24.000000</td>\n      <td>24.0</td>\n      <td>NaN</td>\n    </tr>\n    <tr>\n      <th>124</th>\n      <td>28.000000</td>\n      <td>28.0</td>\n      <td>NaN</td>\n    </tr>\n    <tr>\n      <th>126</th>\n      <td>26.500000</td>\n      <td>26.5</td>\n      <td>0.707107</td>\n    </tr>\n    <tr>\n      <th>130</th>\n      <td>29.000000</td>\n      <td>29.0</td>\n      <td>NaN</td>\n    </tr>\n    <tr>\n      <th>132</th>\n      <td>24.000000</td>\n      <td>24.0</td>\n      <td>NaN</td>\n    </tr>\n    <tr>\n      <th>135</th>\n      <td>29.000000</td>\n      <td>29.0</td>\n      <td>NaN</td>\n    </tr>\n    <tr>\n      <th>140</th>\n      <td>27.500000</td>\n      <td>27.5</td>\n      <td>0.707107</td>\n    </tr>\n    <tr>\n      <th>143</th>\n      <td>26.000000</td>\n      <td>26.0</td>\n      <td>NaN</td>\n    </tr>\n    <tr>\n      <th>150</th>\n      <td>30.000000</td>\n      <td>30.0</td>\n      <td>NaN</td>\n    </tr>\n  </tbody>\n</table>\n</div>"
     },
     "execution_count": 20,
     "metadata": {},
     "output_type": "execute_result"
    }
   ],
   "source": [
    "exercises.groupby('pulse')['id'].agg(['mean','median','std'])"
   ],
   "metadata": {
    "collapsed": false,
    "ExecuteTime": {
     "end_time": "2024-04-17T19:58:02.641470258Z",
     "start_time": "2024-04-17T19:58:02.581984491Z"
    }
   },
   "id": "67c6c9dc6a7a48f7",
   "execution_count": 20
  },
  {
   "cell_type": "code",
   "outputs": [
    {
     "data": {
      "text/plain": "            diet                                               kind\ndiet                                                               \nno fat    no fat  ['rest', 'walking', 'running']\nCategories (3, ...\nlow fat  low fat  ['rest', 'walking', 'running']\nCategories (3, ...",
      "text/html": "<div>\n<style scoped>\n    .dataframe tbody tr th:only-of-type {\n        vertical-align: middle;\n    }\n\n    .dataframe tbody tr th {\n        vertical-align: top;\n    }\n\n    .dataframe thead th {\n        text-align: right;\n    }\n</style>\n<table border=\"1\" class=\"dataframe\">\n  <thead>\n    <tr style=\"text-align: right;\">\n      <th></th>\n      <th>diet</th>\n      <th>kind</th>\n    </tr>\n    <tr>\n      <th>diet</th>\n      <th></th>\n      <th></th>\n    </tr>\n  </thead>\n  <tbody>\n    <tr>\n      <th>no fat</th>\n      <td>no fat</td>\n      <td>['rest', 'walking', 'running']\nCategories (3, ...</td>\n    </tr>\n    <tr>\n      <th>low fat</th>\n      <td>low fat</td>\n      <td>['rest', 'walking', 'running']\nCategories (3, ...</td>\n    </tr>\n  </tbody>\n</table>\n</div>"
     },
     "execution_count": 21,
     "metadata": {},
     "output_type": "execute_result"
    }
   ],
   "source": [
    "exercises.groupby('diet')[qualitativas].agg(pd.Series.mode)"
   ],
   "metadata": {
    "collapsed": false,
    "ExecuteTime": {
     "end_time": "2024-04-17T19:58:42.947157211Z",
     "start_time": "2024-04-17T19:58:42.876038091Z"
    }
   },
   "id": "dba85810950998f1",
   "execution_count": 21
  },
  {
   "cell_type": "code",
   "outputs": [],
   "source": [],
   "metadata": {
    "collapsed": false
   },
   "id": "25bcea26f9437ab6"
  }
 ],
 "metadata": {
  "kernelspec": {
   "display_name": "Python 3",
   "language": "python",
   "name": "python3"
  },
  "language_info": {
   "codemirror_mode": {
    "name": "ipython",
    "version": 2
   },
   "file_extension": ".py",
   "mimetype": "text/x-python",
   "name": "python",
   "nbconvert_exporter": "python",
   "pygments_lexer": "ipython2",
   "version": "2.7.6"
  }
 },
 "nbformat": 4,
 "nbformat_minor": 5
}
